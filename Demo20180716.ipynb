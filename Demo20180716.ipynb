{
 "cells": [
  {
   "cell_type": "markdown",
   "metadata": {},
   "source": [
    "## Python Basic"
   ]
  },
  {
   "cell_type": "code",
   "execution_count": 1,
   "metadata": {},
   "outputs": [
    {
     "data": {
      "text/plain": [
       "5"
      ]
     },
     "execution_count": 1,
     "metadata": {},
     "output_type": "execute_result"
    }
   ],
   "source": [
    "a = 3\n",
    "b = 2\n",
    "a + b"
   ]
  },
  {
   "cell_type": "markdown",
   "metadata": {},
   "source": [
    "## Python Demo"
   ]
  },
  {
   "cell_type": "code",
   "execution_count": 2,
   "metadata": {},
   "outputs": [],
   "source": [
    "import requests\n",
    "res = requests.get('http://wwwc.twse.com.tw/exchangeReport/MI_INDEX?response=json&date=20180713&type=ALLBUT0999&_=1531708799650')"
   ]
  },
  {
   "cell_type": "code",
   "execution_count": 5,
   "metadata": {},
   "outputs": [],
   "source": [
    "import pandas\n",
    "df = pandas.DataFrame(res.json()['data1'])"
   ]
  },
  {
   "cell_type": "code",
   "execution_count": 11,
   "metadata": {},
   "outputs": [
    {
     "data": {
      "text/html": [
       "<div>\n",
       "<style scoped>\n",
       "    .dataframe tbody tr th:only-of-type {\n",
       "        vertical-align: middle;\n",
       "    }\n",
       "\n",
       "    .dataframe tbody tr th {\n",
       "        vertical-align: top;\n",
       "    }\n",
       "\n",
       "    .dataframe thead th {\n",
       "        text-align: right;\n",
       "    }\n",
       "</style>\n",
       "<table border=\"1\" class=\"dataframe\">\n",
       "  <thead>\n",
       "    <tr style=\"text-align: right;\">\n",
       "      <th></th>\n",
       "      <th>指數</th>\n",
       "      <th>收盤指數</th>\n",
       "      <th>漲跌(+/-)</th>\n",
       "      <th>漲跌點數</th>\n",
       "      <th>漲跌百分比(%)</th>\n",
       "    </tr>\n",
       "  </thead>\n",
       "  <tbody>\n",
       "    <tr>\n",
       "      <th>40</th>\n",
       "      <td>電機機械類指數</td>\n",
       "      <td>194.16</td>\n",
       "      <td>&lt;p style ='color:red'&gt;+&lt;/p&gt;</td>\n",
       "      <td>5.41</td>\n",
       "      <td>2.87</td>\n",
       "    </tr>\n",
       "    <tr>\n",
       "      <th>68</th>\n",
       "      <td>電子類兩倍槓桿指數</td>\n",
       "      <td>13,223.02</td>\n",
       "      <td>&lt;p style ='color:red'&gt;+&lt;/p&gt;</td>\n",
       "      <td>346.83</td>\n",
       "      <td>2.69</td>\n",
       "    </tr>\n",
       "    <tr>\n",
       "      <th>66</th>\n",
       "      <td>臺指日報酬兩倍指數</td>\n",
       "      <td>16,926.66</td>\n",
       "      <td>&lt;p style ='color:red'&gt;+&lt;/p&gt;</td>\n",
       "      <td>388.60</td>\n",
       "      <td>2.35</td>\n",
       "    </tr>\n",
       "    <tr>\n",
       "      <th>58</th>\n",
       "      <td>其他電子類指數</td>\n",
       "      <td>92.55</td>\n",
       "      <td>&lt;p style ='color:red'&gt;+&lt;/p&gt;</td>\n",
       "      <td>1.96</td>\n",
       "      <td>2.16</td>\n",
       "    </tr>\n",
       "    <tr>\n",
       "      <th>49</th>\n",
       "      <td>汽車類指數</td>\n",
       "      <td>224.24</td>\n",
       "      <td>&lt;p style ='color:red'&gt;+&lt;/p&gt;</td>\n",
       "      <td>4.67</td>\n",
       "      <td>2.13</td>\n",
       "    </tr>\n",
       "  </tbody>\n",
       "</table>\n",
       "</div>"
      ],
      "text/plain": [
       "           指數       收盤指數                      漲跌(+/-)    漲跌點數 漲跌百分比(%)\n",
       "40    電機機械類指數     194.16  <p style ='color:red'>+</p>    5.41     2.87\n",
       "68  電子類兩倍槓桿指數  13,223.02  <p style ='color:red'>+</p>  346.83     2.69\n",
       "66  臺指日報酬兩倍指數  16,926.66  <p style ='color:red'>+</p>  388.60     2.35\n",
       "58    其他電子類指數      92.55  <p style ='color:red'>+</p>    1.96     2.16\n",
       "49      汽車類指數     224.24  <p style ='color:red'>+</p>    4.67     2.13"
      ]
     },
     "execution_count": 11,
     "metadata": {},
     "output_type": "execute_result"
    }
   ],
   "source": [
    "df.columns = ['指數','收盤指數','漲跌(+/-)','漲跌點數','漲跌百分比(%)']\n",
    "df.sort_values('漲跌百分比(%)', ascending=False).head()"
   ]
  },
  {
   "cell_type": "code",
   "execution_count": 12,
   "metadata": {},
   "outputs": [],
   "source": [
    "df.to_excel('index.xlsx')"
   ]
  },
  {
   "cell_type": "code",
   "execution_count": 13,
   "metadata": {},
   "outputs": [],
   "source": [
    "df2 = df.sort_values('漲跌百分比(%)', ascending=False).head()"
   ]
  },
  {
   "cell_type": "code",
   "execution_count": 23,
   "metadata": {},
   "outputs": [],
   "source": [
    "df2['漲跌點數'] = df2['漲跌點數'].astype(float)"
   ]
  },
  {
   "cell_type": "code",
   "execution_count": 24,
   "metadata": {},
   "outputs": [
    {
     "data": {
      "text/plain": [
       "<matplotlib.axes._subplots.AxesSubplot at 0x10b901320>"
      ]
     },
     "execution_count": 24,
     "metadata": {},
     "output_type": "execute_result"
    },
    {
     "data": {
      "image/png": "[encoded data removed]",
      "text/plain": [
       "<Figure size 432x288 with 1 Axes>"
      ]
     },
     "metadata": {},
     "output_type": "display_data"
    }
   ],
   "source": [
    "df2['漲跌點數'].plot(kind = 'bar')"
   ]
  },
  {
   "cell_type": "code",
   "execution_count": 25,
   "metadata": {},
   "outputs": [],
   "source": [
    "res = requests.get('http://p1-news.yamedia.tw/MjY3MjIzNjRuZXdz/8bb56692fd711b1e.jpg')"
   ]
  },
  {
   "cell_type": "code",
   "execution_count": 26,
   "metadata": {},
   "outputs": [],
   "source": [
    "with open('1.jpg' , 'wb') as f:\n",
    "    f.write(res.content)"
   ]
  },
  {
   "cell_type": "code",
   "execution_count": 28,
   "metadata": {},
   "outputs": [],
   "source": [
    "from PIL import Image\n",
    "#Image.open('1.jpg')"
   ]
  },
  {
   "cell_type": "code",
   "execution_count": null,
   "metadata": {},
   "outputs": [],
   "source": []
  }
 ],
 "metadata": {
  "kernelspec": {
   "display_name": "Python 3",
   "language": "python",
   "name": "python3"
  },
  "language_info": {
   "codemirror_mode": {
    "name": "ipython",
    "version": 3
   },
   "file_extension": ".py",
   "mimetype": "text/x-python",
   "name": "python",
   "nbconvert_exporter": "python",
   "pygments_lexer": "ipython3",
   "version": "3.6.2"
  }
 },
 "nbformat": 4,
 "nbformat_minor": 2
}
