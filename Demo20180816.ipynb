{
 "cells": [
  {
   "cell_type": "markdown",
   "metadata": {},
   "source": [
    "## 預測金融客戶流失"
   ]
  },
  {
   "cell_type": "code",
   "execution_count": 1,
   "metadata": {},
   "outputs": [],
   "source": [
    "import pandas as pd\n",
    "dataset = pd.read_csv('https://raw.githubusercontent.com/ywchiu/ctbcpy/master/data/Churn_Modelling.csv')"
   ]
  },
  {
   "cell_type": "code",
   "execution_count": 8,
   "metadata": {},
   "outputs": [],
   "source": [
    "X = dataset[['CreditScore', 'Geography',\n",
    "       'Gender', 'Age', 'Tenure', 'Balance', 'NumOfProducts', 'HasCrCard',\n",
    "       'IsActiveMember', 'EstimatedSalary']]\n",
    "y = dataset['Exited'].values"
   ]
  },
  {
   "cell_type": "code",
   "execution_count": 9,
   "metadata": {},
   "outputs": [
    {
     "data": {
      "text/html": [
       "<div>\n",
       "<style scoped>\n",
       "    .dataframe tbody tr th:only-of-type {\n",
       "        vertical-align: middle;\n",
       "    }\n",
       "\n",
       "    .dataframe tbody tr th {\n",
       "        vertical-align: top;\n",
       "    }\n",
       "\n",
       "    .dataframe thead th {\n",
       "        text-align: right;\n",
       "    }\n",
       "</style>\n",
       "<table border=\"1\" class=\"dataframe\">\n",
       "  <thead>\n",
       "    <tr style=\"text-align: right;\">\n",
       "      <th></th>\n",
       "      <th>CreditScore</th>\n",
       "      <th>Geography</th>\n",
       "      <th>Gender</th>\n",
       "      <th>Age</th>\n",
       "      <th>Tenure</th>\n",
       "      <th>Balance</th>\n",
       "      <th>NumOfProducts</th>\n",
       "      <th>HasCrCard</th>\n",
       "      <th>IsActiveMember</th>\n",
       "      <th>EstimatedSalary</th>\n",
       "    </tr>\n",
       "  </thead>\n",
       "  <tbody>\n",
       "    <tr>\n",
       "      <th>0</th>\n",
       "      <td>619</td>\n",
       "      <td>France</td>\n",
       "      <td>Female</td>\n",
       "      <td>42</td>\n",
       "      <td>2</td>\n",
       "      <td>0.00</td>\n",
       "      <td>1</td>\n",
       "      <td>1</td>\n",
       "      <td>1</td>\n",
       "      <td>101348.88</td>\n",
       "    </tr>\n",
       "    <tr>\n",
       "      <th>1</th>\n",
       "      <td>608</td>\n",
       "      <td>Spain</td>\n",
       "      <td>Female</td>\n",
       "      <td>41</td>\n",
       "      <td>1</td>\n",
       "      <td>83807.86</td>\n",
       "      <td>1</td>\n",
       "      <td>0</td>\n",
       "      <td>1</td>\n",
       "      <td>112542.58</td>\n",
       "    </tr>\n",
       "    <tr>\n",
       "      <th>2</th>\n",
       "      <td>502</td>\n",
       "      <td>France</td>\n",
       "      <td>Female</td>\n",
       "      <td>42</td>\n",
       "      <td>8</td>\n",
       "      <td>159660.80</td>\n",
       "      <td>3</td>\n",
       "      <td>1</td>\n",
       "      <td>0</td>\n",
       "      <td>113931.57</td>\n",
       "    </tr>\n",
       "    <tr>\n",
       "      <th>3</th>\n",
       "      <td>699</td>\n",
       "      <td>France</td>\n",
       "      <td>Female</td>\n",
       "      <td>39</td>\n",
       "      <td>1</td>\n",
       "      <td>0.00</td>\n",
       "      <td>2</td>\n",
       "      <td>0</td>\n",
       "      <td>0</td>\n",
       "      <td>93826.63</td>\n",
       "    </tr>\n",
       "    <tr>\n",
       "      <th>4</th>\n",
       "      <td>850</td>\n",
       "      <td>Spain</td>\n",
       "      <td>Female</td>\n",
       "      <td>43</td>\n",
       "      <td>2</td>\n",
       "      <td>125510.82</td>\n",
       "      <td>1</td>\n",
       "      <td>1</td>\n",
       "      <td>1</td>\n",
       "      <td>79084.10</td>\n",
       "    </tr>\n",
       "  </tbody>\n",
       "</table>\n",
       "</div>"
      ],
      "text/plain": [
       "   CreditScore Geography  Gender  Age  Tenure    Balance  NumOfProducts  \\\n",
       "0          619    France  Female   42       2       0.00              1   \n",
       "1          608     Spain  Female   41       1   83807.86              1   \n",
       "2          502    France  Female   42       8  159660.80              3   \n",
       "3          699    France  Female   39       1       0.00              2   \n",
       "4          850     Spain  Female   43       2  125510.82              1   \n",
       "\n",
       "   HasCrCard  IsActiveMember  EstimatedSalary  \n",
       "0          1               1        101348.88  \n",
       "1          0               1        112542.58  \n",
       "2          1               0        113931.57  \n",
       "3          0               0         93826.63  \n",
       "4          1               1         79084.10  "
      ]
     },
     "execution_count": 9,
     "metadata": {},
     "output_type": "execute_result"
    }
   ],
   "source": [
    "X.head()"
   ]
  },
  {
   "cell_type": "code",
   "execution_count": 10,
   "metadata": {},
   "outputs": [
    {
     "name": "stderr",
     "output_type": "stream",
     "text": [
      "/Users/davidchiu/.pyenv/versions/3.6.2/lib/python3.6/site-packages/ipykernel_launcher.py:1: SettingWithCopyWarning: \n",
      "A value is trying to be set on a copy of a slice from a DataFrame.\n",
      "Try using .loc[row_indexer,col_indexer] = value instead\n",
      "\n",
      "See the caveats in the documentation: http://pandas.pydata.org/pandas-docs/stable/indexing.html#indexing-view-versus-copy\n",
      "  \"\"\"Entry point for launching an IPython kernel.\n"
     ]
    }
   ],
   "source": [
    "X['Gender'] = X['Gender'].map(lambda e: 0 if e =='Female' else 1)"
   ]
  },
  {
   "cell_type": "code",
   "execution_count": 11,
   "metadata": {},
   "outputs": [
    {
     "data": {
      "text/html": [
       "<div>\n",
       "<style scoped>\n",
       "    .dataframe tbody tr th:only-of-type {\n",
       "        vertical-align: middle;\n",
       "    }\n",
       "\n",
       "    .dataframe tbody tr th {\n",
       "        vertical-align: top;\n",
       "    }\n",
       "\n",
       "    .dataframe thead th {\n",
       "        text-align: right;\n",
       "    }\n",
       "</style>\n",
       "<table border=\"1\" class=\"dataframe\">\n",
       "  <thead>\n",
       "    <tr style=\"text-align: right;\">\n",
       "      <th></th>\n",
       "      <th>CreditScore</th>\n",
       "      <th>Geography</th>\n",
       "      <th>Gender</th>\n",
       "      <th>Age</th>\n",
       "      <th>Tenure</th>\n",
       "      <th>Balance</th>\n",
       "      <th>NumOfProducts</th>\n",
       "      <th>HasCrCard</th>\n",
       "      <th>IsActiveMember</th>\n",
       "      <th>EstimatedSalary</th>\n",
       "    </tr>\n",
       "  </thead>\n",
       "  <tbody>\n",
       "    <tr>\n",
       "      <th>0</th>\n",
       "      <td>619</td>\n",
       "      <td>France</td>\n",
       "      <td>0</td>\n",
       "      <td>42</td>\n",
       "      <td>2</td>\n",
       "      <td>0.00</td>\n",
       "      <td>1</td>\n",
       "      <td>1</td>\n",
       "      <td>1</td>\n",
       "      <td>101348.88</td>\n",
       "    </tr>\n",
       "    <tr>\n",
       "      <th>1</th>\n",
       "      <td>608</td>\n",
       "      <td>Spain</td>\n",
       "      <td>0</td>\n",
       "      <td>41</td>\n",
       "      <td>1</td>\n",
       "      <td>83807.86</td>\n",
       "      <td>1</td>\n",
       "      <td>0</td>\n",
       "      <td>1</td>\n",
       "      <td>112542.58</td>\n",
       "    </tr>\n",
       "    <tr>\n",
       "      <th>2</th>\n",
       "      <td>502</td>\n",
       "      <td>France</td>\n",
       "      <td>0</td>\n",
       "      <td>42</td>\n",
       "      <td>8</td>\n",
       "      <td>159660.80</td>\n",
       "      <td>3</td>\n",
       "      <td>1</td>\n",
       "      <td>0</td>\n",
       "      <td>113931.57</td>\n",
       "    </tr>\n",
       "    <tr>\n",
       "      <th>3</th>\n",
       "      <td>699</td>\n",
       "      <td>France</td>\n",
       "      <td>0</td>\n",
       "      <td>39</td>\n",
       "      <td>1</td>\n",
       "      <td>0.00</td>\n",
       "      <td>2</td>\n",
       "      <td>0</td>\n",
       "      <td>0</td>\n",
       "      <td>93826.63</td>\n",
       "    </tr>\n",
       "    <tr>\n",
       "      <th>4</th>\n",
       "      <td>850</td>\n",
       "      <td>Spain</td>\n",
       "      <td>0</td>\n",
       "      <td>43</td>\n",
       "      <td>2</td>\n",
       "      <td>125510.82</td>\n",
       "      <td>1</td>\n",
       "      <td>1</td>\n",
       "      <td>1</td>\n",
       "      <td>79084.10</td>\n",
       "    </tr>\n",
       "  </tbody>\n",
       "</table>\n",
       "</div>"
      ],
      "text/plain": [
       "   CreditScore Geography  Gender  Age  Tenure    Balance  NumOfProducts  \\\n",
       "0          619    France       0   42       2       0.00              1   \n",
       "1          608     Spain       0   41       1   83807.86              1   \n",
       "2          502    France       0   42       8  159660.80              3   \n",
       "3          699    France       0   39       1       0.00              2   \n",
       "4          850     Spain       0   43       2  125510.82              1   \n",
       "\n",
       "   HasCrCard  IsActiveMember  EstimatedSalary  \n",
       "0          1               1        101348.88  \n",
       "1          0               1        112542.58  \n",
       "2          1               0        113931.57  \n",
       "3          0               0         93826.63  \n",
       "4          1               1         79084.10  "
      ]
     },
     "execution_count": 11,
     "metadata": {},
     "output_type": "execute_result"
    }
   ],
   "source": [
    "X.head()"
   ]
  },
  {
   "cell_type": "code",
   "execution_count": 12,
   "metadata": {},
   "outputs": [
    {
     "data": {
      "text/html": [
       "<div>\n",
       "<style scoped>\n",
       "    .dataframe tbody tr th:only-of-type {\n",
       "        vertical-align: middle;\n",
       "    }\n",
       "\n",
       "    .dataframe tbody tr th {\n",
       "        vertical-align: top;\n",
       "    }\n",
       "\n",
       "    .dataframe thead th {\n",
       "        text-align: right;\n",
       "    }\n",
       "</style>\n",
       "<table border=\"1\" class=\"dataframe\">\n",
       "  <thead>\n",
       "    <tr style=\"text-align: right;\">\n",
       "      <th></th>\n",
       "      <th>France</th>\n",
       "      <th>Germany</th>\n",
       "      <th>Spain</th>\n",
       "    </tr>\n",
       "  </thead>\n",
       "  <tbody>\n",
       "    <tr>\n",
       "      <th>0</th>\n",
       "      <td>1</td>\n",
       "      <td>0</td>\n",
       "      <td>0</td>\n",
       "    </tr>\n",
       "    <tr>\n",
       "      <th>1</th>\n",
       "      <td>0</td>\n",
       "      <td>0</td>\n",
       "      <td>1</td>\n",
       "    </tr>\n",
       "    <tr>\n",
       "      <th>2</th>\n",
       "      <td>1</td>\n",
       "      <td>0</td>\n",
       "      <td>0</td>\n",
       "    </tr>\n",
       "    <tr>\n",
       "      <th>3</th>\n",
       "      <td>1</td>\n",
       "      <td>0</td>\n",
       "      <td>0</td>\n",
       "    </tr>\n",
       "    <tr>\n",
       "      <th>4</th>\n",
       "      <td>0</td>\n",
       "      <td>0</td>\n",
       "      <td>1</td>\n",
       "    </tr>\n",
       "  </tbody>\n",
       "</table>\n",
       "</div>"
      ],
      "text/plain": [
       "   France  Germany  Spain\n",
       "0       1        0      0\n",
       "1       0        0      1\n",
       "2       1        0      0\n",
       "3       1        0      0\n",
       "4       0        0      1"
      ]
     },
     "execution_count": 12,
     "metadata": {},
     "output_type": "execute_result"
    }
   ],
   "source": [
    "pd.get_dummies(X['Geography']).head()"
   ]
  },
  {
   "cell_type": "code",
   "execution_count": 13,
   "metadata": {},
   "outputs": [],
   "source": [
    "X = pd.concat([X, pd.get_dummies(X['Geography'])], axis = 1)"
   ]
  },
  {
   "cell_type": "code",
   "execution_count": 15,
   "metadata": {},
   "outputs": [
    {
     "data": {
      "text/html": [
       "<div>\n",
       "<style scoped>\n",
       "    .dataframe tbody tr th:only-of-type {\n",
       "        vertical-align: middle;\n",
       "    }\n",
       "\n",
       "    .dataframe tbody tr th {\n",
       "        vertical-align: top;\n",
       "    }\n",
       "\n",
       "    .dataframe thead th {\n",
       "        text-align: right;\n",
       "    }\n",
       "</style>\n",
       "<table border=\"1\" class=\"dataframe\">\n",
       "  <thead>\n",
       "    <tr style=\"text-align: right;\">\n",
       "      <th></th>\n",
       "      <th>CreditScore</th>\n",
       "      <th>Geography</th>\n",
       "      <th>Gender</th>\n",
       "      <th>Age</th>\n",
       "      <th>Tenure</th>\n",
       "      <th>Balance</th>\n",
       "      <th>NumOfProducts</th>\n",
       "      <th>HasCrCard</th>\n",
       "      <th>IsActiveMember</th>\n",
       "      <th>EstimatedSalary</th>\n",
       "      <th>France</th>\n",
       "      <th>Germany</th>\n",
       "      <th>Spain</th>\n",
       "    </tr>\n",
       "  </thead>\n",
       "  <tbody>\n",
       "    <tr>\n",
       "      <th>0</th>\n",
       "      <td>619</td>\n",
       "      <td>France</td>\n",
       "      <td>0</td>\n",
       "      <td>42</td>\n",
       "      <td>2</td>\n",
       "      <td>0.00</td>\n",
       "      <td>1</td>\n",
       "      <td>1</td>\n",
       "      <td>1</td>\n",
       "      <td>101348.88</td>\n",
       "      <td>1</td>\n",
       "      <td>0</td>\n",
       "      <td>0</td>\n",
       "    </tr>\n",
       "    <tr>\n",
       "      <th>1</th>\n",
       "      <td>608</td>\n",
       "      <td>Spain</td>\n",
       "      <td>0</td>\n",
       "      <td>41</td>\n",
       "      <td>1</td>\n",
       "      <td>83807.86</td>\n",
       "      <td>1</td>\n",
       "      <td>0</td>\n",
       "      <td>1</td>\n",
       "      <td>112542.58</td>\n",
       "      <td>0</td>\n",
       "      <td>0</td>\n",
       "      <td>1</td>\n",
       "    </tr>\n",
       "    <tr>\n",
       "      <th>2</th>\n",
       "      <td>502</td>\n",
       "      <td>France</td>\n",
       "      <td>0</td>\n",
       "      <td>42</td>\n",
       "      <td>8</td>\n",
       "      <td>159660.80</td>\n",
       "      <td>3</td>\n",
       "      <td>1</td>\n",
       "      <td>0</td>\n",
       "      <td>113931.57</td>\n",
       "      <td>1</td>\n",
       "      <td>0</td>\n",
       "      <td>0</td>\n",
       "    </tr>\n",
       "    <tr>\n",
       "      <th>3</th>\n",
       "      <td>699</td>\n",
       "      <td>France</td>\n",
       "      <td>0</td>\n",
       "      <td>39</td>\n",
       "      <td>1</td>\n",
       "      <td>0.00</td>\n",
       "      <td>2</td>\n",
       "      <td>0</td>\n",
       "      <td>0</td>\n",
       "      <td>93826.63</td>\n",
       "      <td>1</td>\n",
       "      <td>0</td>\n",
       "      <td>0</td>\n",
       "    </tr>\n",
       "    <tr>\n",
       "      <th>4</th>\n",
       "      <td>850</td>\n",
       "      <td>Spain</td>\n",
       "      <td>0</td>\n",
       "      <td>43</td>\n",
       "      <td>2</td>\n",
       "      <td>125510.82</td>\n",
       "      <td>1</td>\n",
       "      <td>1</td>\n",
       "      <td>1</td>\n",
       "      <td>79084.10</td>\n",
       "      <td>0</td>\n",
       "      <td>0</td>\n",
       "      <td>1</td>\n",
       "    </tr>\n",
       "  </tbody>\n",
       "</table>\n",
       "</div>"
      ],
      "text/plain": [
       "   CreditScore Geography  Gender  Age  Tenure    Balance  NumOfProducts  \\\n",
       "0          619    France       0   42       2       0.00              1   \n",
       "1          608     Spain       0   41       1   83807.86              1   \n",
       "2          502    France       0   42       8  159660.80              3   \n",
       "3          699    France       0   39       1       0.00              2   \n",
       "4          850     Spain       0   43       2  125510.82              1   \n",
       "\n",
       "   HasCrCard  IsActiveMember  EstimatedSalary  France  Germany  Spain  \n",
       "0          1               1        101348.88       1        0      0  \n",
       "1          0               1        112542.58       0        0      1  \n",
       "2          1               0        113931.57       1        0      0  \n",
       "3          0               0         93826.63       1        0      0  \n",
       "4          1               1         79084.10       0        0      1  "
      ]
     },
     "execution_count": 15,
     "metadata": {},
     "output_type": "execute_result"
    }
   ],
   "source": [
    "X.head()"
   ]
  },
  {
   "cell_type": "code",
   "execution_count": 16,
   "metadata": {},
   "outputs": [],
   "source": [
    "del X['France']\n",
    "del X['Geography']"
   ]
  },
  {
   "cell_type": "code",
   "execution_count": 17,
   "metadata": {},
   "outputs": [],
   "source": [
    "from sklearn.model_selection import train_test_split\n",
    "X_train, X_test, y_train, y_test = train_test_split(X, y, test_size = 0.2, random_state = 0)\n"
   ]
  },
  {
   "cell_type": "code",
   "execution_count": 18,
   "metadata": {},
   "outputs": [],
   "source": [
    "from sklearn.preprocessing import StandardScaler\n",
    "sc = StandardScaler()\n",
    "X_train = sc.fit_transform(X_train)"
   ]
  },
  {
   "cell_type": "code",
   "execution_count": 19,
   "metadata": {},
   "outputs": [],
   "source": [
    "X_test = sc.transform(X_test)"
   ]
  },
  {
   "cell_type": "code",
   "execution_count": 25,
   "metadata": {},
   "outputs": [],
   "source": [
    "import keras\n",
    "from keras.models import Sequential\n",
    "from keras.layers import Dense"
   ]
  },
  {
   "cell_type": "code",
   "execution_count": 26,
   "metadata": {},
   "outputs": [],
   "source": [
    "classifier = Sequential()\n",
    "classifier.add(Dense(units = 6, kernel_initializer = 'uniform', activation = 'relu', input_dim = 11))\n",
    "classifier.add(Dense(units = 6, kernel_initializer = 'uniform', activation = 'relu'))\n",
    "classifier.add(Dense(units = 1, kernel_initializer = 'uniform', activation = 'sigmoid'))"
   ]
  },
  {
   "cell_type": "code",
   "execution_count": 27,
   "metadata": {
    "collapsed": true
   },
   "outputs": [
    {
     "name": "stdout",
     "output_type": "stream",
     "text": [
      "Epoch 1/100\n",
      "8000/8000 [==============================] - 1s 151us/step - loss: 0.4805 - acc: 0.7956\n",
      "Epoch 2/100\n",
      "8000/8000 [==============================] - 1s 123us/step - loss: 0.4266 - acc: 0.7960\n",
      "Epoch 3/100\n",
      "8000/8000 [==============================] - 1s 132us/step - loss: 0.4204 - acc: 0.8017\n",
      "Epoch 4/100\n",
      "8000/8000 [==============================] - 1s 125us/step - loss: 0.4173 - acc: 0.8244\n",
      "Epoch 5/100\n",
      "8000/8000 [==============================] - 1s 121us/step - loss: 0.4155 - acc: 0.8294\n",
      "Epoch 6/100\n",
      "8000/8000 [==============================] - 1s 125us/step - loss: 0.4139 - acc: 0.8302\n",
      "Epoch 7/100\n",
      "8000/8000 [==============================] - 1s 123us/step - loss: 0.4125 - acc: 0.8315\n",
      "Epoch 8/100\n",
      "8000/8000 [==============================] - 1s 121us/step - loss: 0.4113 - acc: 0.8321\n",
      "Epoch 9/100\n",
      "8000/8000 [==============================] - 1s 120us/step - loss: 0.4108 - acc: 0.8332\n",
      "Epoch 10/100\n",
      "8000/8000 [==============================] - 1s 121us/step - loss: 0.4095 - acc: 0.8330\n",
      "Epoch 11/100\n",
      "8000/8000 [==============================] - 1s 121us/step - loss: 0.4082 - acc: 0.8341\n",
      "Epoch 12/100\n",
      "8000/8000 [==============================] - 1s 124us/step - loss: 0.4078 - acc: 0.8325\n",
      "Epoch 13/100\n",
      "8000/8000 [==============================] - 1s 122us/step - loss: 0.4073 - acc: 0.8340\n",
      "Epoch 14/100\n",
      "8000/8000 [==============================] - 1s 121us/step - loss: 0.4063 - acc: 0.8351\n",
      "Epoch 15/100\n",
      "8000/8000 [==============================] - 1s 120us/step - loss: 0.4068 - acc: 0.8346\n",
      "Epoch 16/100\n",
      "8000/8000 [==============================] - 1s 120us/step - loss: 0.4054 - acc: 0.8345\n",
      "Epoch 17/100\n",
      "8000/8000 [==============================] - 1s 123us/step - loss: 0.4056 - acc: 0.8350\n",
      "Epoch 18/100\n",
      "8000/8000 [==============================] - 1s 122us/step - loss: 0.4050 - acc: 0.8339\n",
      "Epoch 19/100\n",
      "8000/8000 [==============================] - 1s 121us/step - loss: 0.4042 - acc: 0.8352\n",
      "Epoch 20/100\n",
      "8000/8000 [==============================] - 1s 121us/step - loss: 0.4043 - acc: 0.8354\n",
      "Epoch 21/100\n",
      "8000/8000 [==============================] - 1s 122us/step - loss: 0.4036 - acc: 0.8341\n",
      "Epoch 22/100\n",
      "8000/8000 [==============================] - 1s 123us/step - loss: 0.4031 - acc: 0.8357\n",
      "Epoch 23/100\n",
      "8000/8000 [==============================] - 1s 124us/step - loss: 0.4023 - acc: 0.8341\n",
      "Epoch 24/100\n",
      "8000/8000 [==============================] - 1s 124us/step - loss: 0.4019 - acc: 0.8354\n",
      "Epoch 25/100\n",
      "8000/8000 [==============================] - 1s 124us/step - loss: 0.4016 - acc: 0.8342\n",
      "Epoch 26/100\n",
      "8000/8000 [==============================] - 1s 123us/step - loss: 0.4007 - acc: 0.8356\n",
      "Epoch 27/100\n",
      "8000/8000 [==============================] - 1s 124us/step - loss: 0.3998 - acc: 0.8369\n",
      "Epoch 28/100\n",
      "8000/8000 [==============================] - 1s 121us/step - loss: 0.3992 - acc: 0.8366\n",
      "Epoch 29/100\n",
      "8000/8000 [==============================] - 1s 123us/step - loss: 0.3992 - acc: 0.8352\n",
      "Epoch 30/100\n",
      "8000/8000 [==============================] - 1s 122us/step - loss: 0.3983 - acc: 0.8361\n",
      "Epoch 31/100\n",
      "8000/8000 [==============================] - 1s 123us/step - loss: 0.3985 - acc: 0.8344\n",
      "Epoch 32/100\n",
      "8000/8000 [==============================] - 1s 121us/step - loss: 0.3979 - acc: 0.8362\n",
      "Epoch 33/100\n",
      "8000/8000 [==============================] - 1s 122us/step - loss: 0.3977 - acc: 0.8352\n",
      "Epoch 34/100\n",
      "8000/8000 [==============================] - 1s 129us/step - loss: 0.3975 - acc: 0.8352\n",
      "Epoch 35/100\n",
      "8000/8000 [==============================] - 1s 134us/step - loss: 0.3970 - acc: 0.8372\n",
      "Epoch 36/100\n",
      "8000/8000 [==============================] - 1s 123us/step - loss: 0.3968 - acc: 0.8385\n",
      "Epoch 37/100\n",
      "8000/8000 [==============================] - 1s 125us/step - loss: 0.3968 - acc: 0.8364 0s - loss: 0.3850 - \n",
      "Epoch 38/100\n",
      "8000/8000 [==============================] - 1s 123us/step - loss: 0.3970 - acc: 0.8359\n",
      "Epoch 39/100\n",
      "8000/8000 [==============================] - 1s 123us/step - loss: 0.3962 - acc: 0.8366\n",
      "Epoch 40/100\n",
      "8000/8000 [==============================] - 1s 123us/step - loss: 0.3962 - acc: 0.8351\n",
      "Epoch 41/100\n",
      "8000/8000 [==============================] - 1s 126us/step - loss: 0.3964 - acc: 0.8354 0s - loss: 0.376\n",
      "Epoch 42/100\n",
      "8000/8000 [==============================] - 1s 121us/step - loss: 0.3956 - acc: 0.8375\n",
      "Epoch 43/100\n",
      "8000/8000 [==============================] - 1s 138us/step - loss: 0.3955 - acc: 0.8352\n",
      "Epoch 44/100\n",
      "8000/8000 [==============================] - 1s 129us/step - loss: 0.3958 - acc: 0.8359\n",
      "Epoch 45/100\n",
      "8000/8000 [==============================] - 1s 122us/step - loss: 0.3947 - acc: 0.8369\n",
      "Epoch 46/100\n",
      "8000/8000 [==============================] - 1s 125us/step - loss: 0.3957 - acc: 0.8361\n",
      "Epoch 47/100\n",
      "8000/8000 [==============================] - 1s 122us/step - loss: 0.3953 - acc: 0.8365\n",
      "Epoch 48/100\n",
      "8000/8000 [==============================] - 1s 124us/step - loss: 0.3955 - acc: 0.8371\n",
      "Epoch 49/100\n",
      "8000/8000 [==============================] - 1s 125us/step - loss: 0.3950 - acc: 0.8367\n",
      "Epoch 50/100\n",
      "8000/8000 [==============================] - 1s 125us/step - loss: 0.3947 - acc: 0.8360 0s - loss: 0.3978 - \n",
      "Epoch 51/100\n",
      "8000/8000 [==============================] - 1s 137us/step - loss: 0.3945 - acc: 0.8356\n",
      "Epoch 52/100\n",
      "8000/8000 [==============================] - 1s 136us/step - loss: 0.3948 - acc: 0.8360\n",
      "Epoch 53/100\n",
      "8000/8000 [==============================] - 1s 137us/step - loss: 0.3946 - acc: 0.8375\n",
      "Epoch 54/100\n",
      "8000/8000 [==============================] - 1s 123us/step - loss: 0.3945 - acc: 0.8347\n",
      "Epoch 55/100\n",
      "8000/8000 [==============================] - 1s 141us/step - loss: 0.3938 - acc: 0.8365\n",
      "Epoch 56/100\n",
      "8000/8000 [==============================] - 1s 139us/step - loss: 0.3929 - acc: 0.8360\n",
      "Epoch 57/100\n",
      "8000/8000 [==============================] - 1s 121us/step - loss: 0.3928 - acc: 0.8362\n",
      "Epoch 58/100\n",
      "8000/8000 [==============================] - 1s 124us/step - loss: 0.3920 - acc: 0.8375\n",
      "Epoch 59/100\n",
      "8000/8000 [==============================] - 1s 120us/step - loss: 0.3901 - acc: 0.8377\n",
      "Epoch 60/100\n",
      "8000/8000 [==============================] - 1s 120us/step - loss: 0.3869 - acc: 0.8394\n",
      "Epoch 61/100\n",
      "8000/8000 [==============================] - 1s 123us/step - loss: 0.3840 - acc: 0.8379\n",
      "Epoch 62/100\n",
      "8000/8000 [==============================] - 1s 122us/step - loss: 0.3813 - acc: 0.8394\n",
      "Epoch 63/100\n",
      "8000/8000 [==============================] - 1s 122us/step - loss: 0.3801 - acc: 0.8397\n",
      "Epoch 64/100\n",
      "8000/8000 [==============================] - 1s 129us/step - loss: 0.3785 - acc: 0.8371\n",
      "Epoch 65/100\n",
      "8000/8000 [==============================] - 1s 138us/step - loss: 0.3769 - acc: 0.8389\n",
      "Epoch 66/100\n",
      "8000/8000 [==============================] - 1s 126us/step - loss: 0.3768 - acc: 0.8395\n",
      "Epoch 67/100\n",
      "8000/8000 [==============================] - 1s 120us/step - loss: 0.3759 - acc: 0.8396\n",
      "Epoch 68/100\n",
      "8000/8000 [==============================] - 1s 123us/step - loss: 0.3753 - acc: 0.8405\n",
      "Epoch 69/100\n",
      "8000/8000 [==============================] - 1s 122us/step - loss: 0.3749 - acc: 0.8385\n",
      "Epoch 70/100\n",
      "8000/8000 [==============================] - 1s 125us/step - loss: 0.3746 - acc: 0.8385 0s - loss: 0.3716 - ac\n",
      "Epoch 71/100\n",
      "8000/8000 [==============================] - 1s 125us/step - loss: 0.3738 - acc: 0.8402 0s - loss: 0.3714 - acc: 0.84\n",
      "Epoch 72/100\n",
      "8000/8000 [==============================] - 1s 125us/step - loss: 0.3745 - acc: 0.8397\n",
      "Epoch 73/100\n",
      "8000/8000 [==============================] - 1s 126us/step - loss: 0.3738 - acc: 0.8404\n",
      "Epoch 74/100\n",
      "8000/8000 [==============================] - 1s 123us/step - loss: 0.3734 - acc: 0.8412\n",
      "Epoch 75/100\n",
      "8000/8000 [==============================] - 1s 122us/step - loss: 0.3733 - acc: 0.8417\n",
      "Epoch 76/100\n",
      "8000/8000 [==============================] - 1s 124us/step - loss: 0.3728 - acc: 0.8407\n",
      "Epoch 77/100\n",
      "8000/8000 [==============================] - 1s 124us/step - loss: 0.3731 - acc: 0.8374\n",
      "Epoch 78/100\n",
      "8000/8000 [==============================] - 1s 124us/step - loss: 0.3733 - acc: 0.8386 0s - loss: 0.365\n",
      "Epoch 79/100\n",
      "8000/8000 [==============================] - 1s 122us/step - loss: 0.3732 - acc: 0.8396\n",
      "Epoch 80/100\n"
     ]
    },
    {
     "name": "stdout",
     "output_type": "stream",
     "text": [
      "8000/8000 [==============================] - 1s 116us/step - loss: 0.3728 - acc: 0.8395\n",
      "Epoch 81/100\n",
      "8000/8000 [==============================] - 1s 115us/step - loss: 0.3722 - acc: 0.8385\n",
      "Epoch 82/100\n",
      "8000/8000 [==============================] - 1s 115us/step - loss: 0.3721 - acc: 0.8389\n",
      "Epoch 83/100\n",
      "8000/8000 [==============================] - 1s 115us/step - loss: 0.3725 - acc: 0.8410\n",
      "Epoch 84/100\n",
      "8000/8000 [==============================] - 1s 115us/step - loss: 0.3716 - acc: 0.8416\n",
      "Epoch 85/100\n",
      "8000/8000 [==============================] - 1s 115us/step - loss: 0.3719 - acc: 0.8400\n",
      "Epoch 86/100\n",
      "8000/8000 [==============================] - 1s 116us/step - loss: 0.3716 - acc: 0.8400\n",
      "Epoch 87/100\n",
      "8000/8000 [==============================] - 1s 119us/step - loss: 0.3719 - acc: 0.8407\n",
      "Epoch 88/100\n",
      "8000/8000 [==============================] - 1s 115us/step - loss: 0.3715 - acc: 0.8400\n",
      "Epoch 89/100\n",
      "8000/8000 [==============================] - 1s 117us/step - loss: 0.3705 - acc: 0.8405 0s - loss: 0.3512 - \n",
      "Epoch 90/100\n",
      "8000/8000 [==============================] - 1s 115us/step - loss: 0.3715 - acc: 0.8405\n",
      "Epoch 91/100\n",
      "8000/8000 [==============================] - 1s 115us/step - loss: 0.3709 - acc: 0.8410\n",
      "Epoch 92/100\n",
      "8000/8000 [==============================] - 1s 115us/step - loss: 0.3707 - acc: 0.8402\n",
      "Epoch 93/100\n",
      "8000/8000 [==============================] - 1s 115us/step - loss: 0.3708 - acc: 0.8416\n",
      "Epoch 94/100\n",
      "8000/8000 [==============================] - 1s 115us/step - loss: 0.3702 - acc: 0.8419\n",
      "Epoch 95/100\n",
      "8000/8000 [==============================] - 1s 115us/step - loss: 0.3702 - acc: 0.8384\n",
      "Epoch 96/100\n",
      "8000/8000 [==============================] - 1s 115us/step - loss: 0.3700 - acc: 0.8412\n",
      "Epoch 97/100\n",
      "8000/8000 [==============================] - 1s 116us/step - loss: 0.3704 - acc: 0.8395\n",
      "Epoch 98/100\n",
      "8000/8000 [==============================] - 1s 117us/step - loss: 0.3698 - acc: 0.8401\n",
      "Epoch 99/100\n",
      "8000/8000 [==============================] - 1s 116us/step - loss: 0.3705 - acc: 0.8410\n",
      "Epoch 100/100\n",
      "8000/8000 [==============================] - 1s 116us/step - loss: 0.3703 - acc: 0.8439\n"
     ]
    },
    {
     "data": {
      "text/plain": [
       "<keras.callbacks.History at 0x10cf7de48>"
      ]
     },
     "execution_count": 27,
     "metadata": {},
     "output_type": "execute_result"
    }
   ],
   "source": [
    "#classifier.compile(optimizer = 'sgd', loss = 'binary_crossentropy', metrics = ['accuracy'])\n",
    "classifier.compile(optimizer = 'adam', loss = 'binary_crossentropy', metrics = ['accuracy'])\n",
    "\n",
    "classifier.fit(X_train, y_train, batch_size = 10, epochs = 100)"
   ]
  },
  {
   "cell_type": "code",
   "execution_count": 28,
   "metadata": {},
   "outputs": [],
   "source": [
    "from keras.wrappers.scikit_learn import KerasClassifier\n",
    "from sklearn.model_selection import cross_val_score"
   ]
  },
  {
   "cell_type": "code",
   "execution_count": 29,
   "metadata": {},
   "outputs": [],
   "source": [
    "def buildClassifier(optimizer):\n",
    "    classifier = Sequential()\n",
    "    classifier.add(Dense(units = 6, kernel_initializer = 'uniform', activation = 'relu', input_dim = 11))\n",
    "    classifier.add(Dense(units = 6, kernel_initializer = 'uniform', activation = 'relu'))\n",
    "    classifier.add(Dense(units = 1, kernel_initializer = 'uniform', activation = 'sigmoid'))\n",
    "    classifier.compile(loss='binary_crossentropy',\n",
    "                  optimizer=optimizer,\n",
    "                  metrics=['accuracy'])\n",
    "\n",
    "    return classifier"
   ]
  },
  {
   "cell_type": "code",
   "execution_count": 31,
   "metadata": {
    "collapsed": true
   },
   "outputs": [
    {
     "name": "stdout",
     "output_type": "stream",
     "text": [
      "Epoch 1/20\n",
      "6400/6400 [==============================] - 1s 159us/step - loss: 0.4892 - acc: 0.7967\n",
      "Epoch 2/20\n",
      "6400/6400 [==============================] - 1s 121us/step - loss: 0.4306 - acc: 0.7980\n",
      "Epoch 3/20\n",
      "6400/6400 [==============================] - 1s 121us/step - loss: 0.4270 - acc: 0.7980\n",
      "Epoch 4/20\n",
      "6400/6400 [==============================] - 1s 128us/step - loss: 0.4219 - acc: 0.7995\n",
      "Epoch 5/20\n",
      "6400/6400 [==============================] - 1s 125us/step - loss: 0.4178 - acc: 0.8191\n",
      "Epoch 6/20\n",
      "6400/6400 [==============================] - 1s 121us/step - loss: 0.4157 - acc: 0.8245\n",
      "Epoch 7/20\n",
      "6400/6400 [==============================] - 1s 136us/step - loss: 0.4139 - acc: 0.8281\n",
      "Epoch 8/20\n",
      "6400/6400 [==============================] - 1s 122us/step - loss: 0.4132 - acc: 0.8291\n",
      "Epoch 9/20\n",
      "6400/6400 [==============================] - 1s 127us/step - loss: 0.4118 - acc: 0.8292\n",
      "Epoch 10/20\n",
      "6400/6400 [==============================] - 1s 126us/step - loss: 0.4105 - acc: 0.8317\n",
      "Epoch 11/20\n",
      "6400/6400 [==============================] - 1s 123us/step - loss: 0.4100 - acc: 0.8317\n",
      "Epoch 12/20\n",
      "6400/6400 [==============================] - 1s 123us/step - loss: 0.4092 - acc: 0.8339\n",
      "Epoch 13/20\n",
      "6400/6400 [==============================] - 1s 123us/step - loss: 0.4092 - acc: 0.8322\n",
      "Epoch 14/20\n",
      "6400/6400 [==============================] - 1s 122us/step - loss: 0.4084 - acc: 0.8323\n",
      "Epoch 15/20\n",
      "6400/6400 [==============================] - 1s 133us/step - loss: 0.4079 - acc: 0.8341\n",
      "Epoch 16/20\n",
      "6400/6400 [==============================] - 1s 127us/step - loss: 0.4071 - acc: 0.8334\n",
      "Epoch 17/20\n",
      "6400/6400 [==============================] - 1s 123us/step - loss: 0.4070 - acc: 0.8355\n",
      "Epoch 18/20\n",
      "6400/6400 [==============================] - 1s 124us/step - loss: 0.4064 - acc: 0.8350\n",
      "Epoch 19/20\n",
      "6400/6400 [==============================] - 1s 128us/step - loss: 0.4058 - acc: 0.8341\n",
      "Epoch 20/20\n",
      "6400/6400 [==============================] - 1s 129us/step - loss: 0.4053 - acc: 0.8337\n",
      "1600/1600 [==============================] - 0s 85us/step\n",
      "Epoch 1/20\n",
      "6400/6400 [==============================] - 1s 162us/step - loss: 0.4953 - acc: 0.7961\n",
      "Epoch 2/20\n",
      "6400/6400 [==============================] - 1s 124us/step - loss: 0.4282 - acc: 0.7972\n",
      "Epoch 3/20\n",
      "6400/6400 [==============================] - 1s 127us/step - loss: 0.4228 - acc: 0.7972\n",
      "Epoch 4/20\n",
      "6400/6400 [==============================] - 1s 125us/step - loss: 0.4183 - acc: 0.8061\n",
      "Epoch 5/20\n",
      "6400/6400 [==============================] - 1s 129us/step - loss: 0.4160 - acc: 0.8245\n",
      "Epoch 6/20\n",
      "6400/6400 [==============================] - 1s 127us/step - loss: 0.4139 - acc: 0.8272\n",
      "Epoch 7/20\n",
      "6400/6400 [==============================] - 1s 125us/step - loss: 0.4126 - acc: 0.8303\n",
      "Epoch 8/20\n",
      "6400/6400 [==============================] - 1s 125us/step - loss: 0.4113 - acc: 0.8330\n",
      "Epoch 9/20\n",
      "6400/6400 [==============================] - 1s 125us/step - loss: 0.4106 - acc: 0.8352\n",
      "Epoch 10/20\n",
      "6400/6400 [==============================] - 1s 123us/step - loss: 0.4091 - acc: 0.8339\n",
      "Epoch 11/20\n",
      "6400/6400 [==============================] - 1s 123us/step - loss: 0.4086 - acc: 0.8339\n",
      "Epoch 12/20\n",
      "6400/6400 [==============================] - 1s 125us/step - loss: 0.4075 - acc: 0.8355\n",
      "Epoch 13/20\n",
      "6400/6400 [==============================] - 1s 126us/step - loss: 0.4070 - acc: 0.8370\n",
      "Epoch 14/20\n",
      "6400/6400 [==============================] - 1s 130us/step - loss: 0.4061 - acc: 0.8373\n",
      "Epoch 15/20\n",
      "6400/6400 [==============================] - 1s 126us/step - loss: 0.4059 - acc: 0.8345\n",
      "Epoch 16/20\n",
      "6400/6400 [==============================] - 1s 136us/step - loss: 0.4055 - acc: 0.8347\n",
      "Epoch 17/20\n",
      "6400/6400 [==============================] - 1s 128us/step - loss: 0.4054 - acc: 0.8339\n",
      "Epoch 18/20\n",
      "6400/6400 [==============================] - 1s 132us/step - loss: 0.4045 - acc: 0.8367\n",
      "Epoch 19/20\n",
      "6400/6400 [==============================] - 1s 130us/step - loss: 0.4047 - acc: 0.8347\n",
      "Epoch 20/20\n",
      "6400/6400 [==============================] - 1s 136us/step - loss: 0.4038 - acc: 0.8347 0s - loss: 0.3880 \n",
      "1600/1600 [==============================] - 0s 97us/step\n",
      "Epoch 1/20\n",
      "6400/6400 [==============================] - 1s 191us/step - loss: 0.4987 - acc: 0.7917\n",
      "Epoch 2/20\n",
      "6400/6400 [==============================] - 1s 132us/step - loss: 0.4336 - acc: 0.7917\n",
      "Epoch 3/20\n",
      "6400/6400 [==============================] - 1s 135us/step - loss: 0.4285 - acc: 0.7917\n",
      "Epoch 4/20\n",
      "6400/6400 [==============================] - 1s 130us/step - loss: 0.4250 - acc: 0.8087\n",
      "Epoch 5/20\n",
      "6400/6400 [==============================] - 1s 133us/step - loss: 0.4223 - acc: 0.8231\n",
      "Epoch 6/20\n",
      "6400/6400 [==============================] - 1s 139us/step - loss: 0.4207 - acc: 0.8234\n",
      "Epoch 7/20\n",
      "6400/6400 [==============================] - 1s 132us/step - loss: 0.4190 - acc: 0.8264\n",
      "Epoch 8/20\n",
      "6400/6400 [==============================] - 1s 131us/step - loss: 0.4178 - acc: 0.8278\n",
      "Epoch 9/20\n",
      "6400/6400 [==============================] - 1s 137us/step - loss: 0.4162 - acc: 0.8278\n",
      "Epoch 10/20\n",
      "6400/6400 [==============================] - 1s 136us/step - loss: 0.4153 - acc: 0.8306 0s - loss: 0.4120 - acc:\n",
      "Epoch 11/20\n",
      "6400/6400 [==============================] - 1s 133us/step - loss: 0.4136 - acc: 0.8317\n",
      "Epoch 12/20\n",
      "6400/6400 [==============================] - 1s 137us/step - loss: 0.4133 - acc: 0.8320 0s - loss: 0.4147 - a\n",
      "Epoch 13/20\n",
      "6400/6400 [==============================] - 1s 129us/step - loss: 0.4122 - acc: 0.8308\n",
      "Epoch 14/20\n",
      "6400/6400 [==============================] - 1s 129us/step - loss: 0.4121 - acc: 0.8322\n",
      "Epoch 15/20\n",
      "6400/6400 [==============================] - 1s 135us/step - loss: 0.4112 - acc: 0.8319\n",
      "Epoch 16/20\n",
      "6400/6400 [==============================] - 1s 126us/step - loss: 0.4103 - acc: 0.8323\n",
      "Epoch 17/20\n",
      "6400/6400 [==============================] - 1s 127us/step - loss: 0.4094 - acc: 0.8317\n",
      "Epoch 18/20\n",
      "6400/6400 [==============================] - 1s 131us/step - loss: 0.4096 - acc: 0.8323\n",
      "Epoch 19/20\n",
      "6400/6400 [==============================] - 1s 128us/step - loss: 0.4091 - acc: 0.8342\n",
      "Epoch 20/20\n",
      "6400/6400 [==============================] - 1s 130us/step - loss: 0.4085 - acc: 0.8322\n",
      "1600/1600 [==============================] - 0s 105us/step\n",
      "Epoch 1/20\n",
      "6400/6400 [==============================] - 1s 175us/step - loss: 0.4971 - acc: 0.7967\n",
      "Epoch 2/20\n",
      "6400/6400 [==============================] - 1s 131us/step - loss: 0.4269 - acc: 0.7973\n",
      "Epoch 3/20\n",
      "6400/6400 [==============================] - 1s 127us/step - loss: 0.4203 - acc: 0.8019\n",
      "Epoch 4/20\n",
      "6400/6400 [==============================] - 1s 128us/step - loss: 0.4154 - acc: 0.8277\n",
      "Epoch 5/20\n",
      "6400/6400 [==============================] - 1s 127us/step - loss: 0.4110 - acc: 0.8317\n",
      "Epoch 6/20\n",
      "6400/6400 [==============================] - 1s 127us/step - loss: 0.4081 - acc: 0.8339\n",
      "Epoch 7/20\n",
      "6400/6400 [==============================] - 1s 126us/step - loss: 0.4052 - acc: 0.8342\n",
      "Epoch 8/20\n",
      "6400/6400 [==============================] - 1s 127us/step - loss: 0.4037 - acc: 0.8362\n",
      "Epoch 9/20\n",
      "6400/6400 [==============================] - 1s 127us/step - loss: 0.4018 - acc: 0.8356\n",
      "Epoch 10/20\n",
      "6400/6400 [==============================] - 1s 131us/step - loss: 0.4011 - acc: 0.8370\n",
      "Epoch 11/20\n",
      "6400/6400 [==============================] - 1s 135us/step - loss: 0.3997 - acc: 0.8359\n",
      "Epoch 12/20\n",
      "6400/6400 [==============================] - 1s 131us/step - loss: 0.3989 - acc: 0.8373\n",
      "Epoch 13/20\n",
      "6400/6400 [==============================] - 1s 128us/step - loss: 0.3982 - acc: 0.8378\n",
      "Epoch 14/20\n",
      "6400/6400 [==============================] - 1s 128us/step - loss: 0.3981 - acc: 0.8367\n",
      "Epoch 15/20\n",
      "6400/6400 [==============================] - 1s 134us/step - loss: 0.3969 - acc: 0.8377\n",
      "Epoch 16/20\n",
      "6400/6400 [==============================] - 1s 137us/step - loss: 0.3972 - acc: 0.8362\n",
      "Epoch 17/20\n",
      "6400/6400 [==============================] - 1s 137us/step - loss: 0.3970 - acc: 0.8372\n",
      "Epoch 18/20\n",
      "6400/6400 [==============================] - 1s 139us/step - loss: 0.3963 - acc: 0.8362\n",
      "Epoch 19/20\n",
      "6400/6400 [==============================] - 1s 139us/step - loss: 0.3961 - acc: 0.8364\n",
      "Epoch 20/20\n"
     ]
    },
    {
     "name": "stdout",
     "output_type": "stream",
     "text": [
      "6400/6400 [==============================] - 1s 133us/step - loss: 0.3959 - acc: 0.8366\n",
      "1600/1600 [==============================] - 0s 118us/step\n",
      "Epoch 1/20\n",
      "6400/6400 [==============================] - 1s 176us/step - loss: 0.5221 - acc: 0.7952\n",
      "Epoch 2/20\n",
      "6400/6400 [==============================] - 1s 118us/step - loss: 0.4301 - acc: 0.7958\n",
      "Epoch 3/20\n",
      "6400/6400 [==============================] - 1s 119us/step - loss: 0.4266 - acc: 0.7958\n",
      "Epoch 4/20\n",
      "6400/6400 [==============================] - 1s 118us/step - loss: 0.4224 - acc: 0.8020\n",
      "Epoch 5/20\n",
      "6400/6400 [==============================] - 1s 124us/step - loss: 0.4168 - acc: 0.8272\n",
      "Epoch 6/20\n",
      "6400/6400 [==============================] - 1s 127us/step - loss: 0.4123 - acc: 0.8325 0s - loss: 0.4206 - a\n",
      "Epoch 7/20\n",
      "6400/6400 [==============================] - 1s 119us/step - loss: 0.4089 - acc: 0.8323\n",
      "Epoch 8/20\n",
      "6400/6400 [==============================] - 1s 134us/step - loss: 0.4061 - acc: 0.8353\n",
      "Epoch 9/20\n",
      "6400/6400 [==============================] - 1s 127us/step - loss: 0.4041 - acc: 0.8355\n",
      "Epoch 10/20\n",
      "6400/6400 [==============================] - 1s 133us/step - loss: 0.4026 - acc: 0.8369 0s - loss: 0.3927 - a\n",
      "Epoch 11/20\n",
      "6400/6400 [==============================] - 1s 126us/step - loss: 0.4011 - acc: 0.8362\n",
      "Epoch 12/20\n",
      "6400/6400 [==============================] - 1s 135us/step - loss: 0.4005 - acc: 0.8367\n",
      "Epoch 13/20\n",
      "6400/6400 [==============================] - 1s 140us/step - loss: 0.3990 - acc: 0.8358\n",
      "Epoch 14/20\n",
      "6400/6400 [==============================] - 1s 132us/step - loss: 0.3988 - acc: 0.8347\n",
      "Epoch 15/20\n",
      "6400/6400 [==============================] - 1s 133us/step - loss: 0.3982 - acc: 0.8350\n",
      "Epoch 16/20\n",
      "6400/6400 [==============================] - 1s 132us/step - loss: 0.3975 - acc: 0.8358\n",
      "Epoch 17/20\n",
      "6400/6400 [==============================] - 1s 131us/step - loss: 0.3967 - acc: 0.8372\n",
      "Epoch 18/20\n",
      "6400/6400 [==============================] - 1s 131us/step - loss: 0.3964 - acc: 0.8366\n",
      "Epoch 19/20\n",
      "6400/6400 [==============================] - 1s 133us/step - loss: 0.3962 - acc: 0.8367 0s - loss: 0.3951 - acc\n",
      "Epoch 20/20\n",
      "6400/6400 [==============================] - 1s 127us/step - loss: 0.3956 - acc: 0.8331\n",
      "1600/1600 [==============================] - 0s 117us/step\n"
     ]
    }
   ],
   "source": [
    "classifier = KerasClassifier(build_fn = buildClassifier, batch_size = 10, epochs = 20, optimizer = 'adam')\n",
    "accuracies = cross_val_score(estimator = classifier, X = X_train, y = y_train, cv = 5)\n",
    "mean = accuracies.mean()\n",
    "variance = accuracies.std()"
   ]
  },
  {
   "cell_type": "code",
   "execution_count": 32,
   "metadata": {},
   "outputs": [
    {
     "data": {
      "text/plain": [
       "array([0.836875  , 0.83125   , 0.84374999, 0.831875  , 0.82874999])"
      ]
     },
     "execution_count": 32,
     "metadata": {},
     "output_type": "execute_result"
    }
   ],
   "source": [
    "accuracies"
   ]
  },
  {
   "cell_type": "code",
   "execution_count": 33,
   "metadata": {},
   "outputs": [
    {
     "data": {
      "text/plain": [
       "0.834499995112419"
      ]
     },
     "execution_count": 33,
     "metadata": {},
     "output_type": "execute_result"
    }
   ],
   "source": [
    "accuracies.mean()"
   ]
  },
  {
   "cell_type": "code",
   "execution_count": 34,
   "metadata": {},
   "outputs": [
    {
     "data": {
      "text/plain": [
       "0.005323884538934815"
      ]
     },
     "execution_count": 34,
     "metadata": {},
     "output_type": "execute_result"
    }
   ],
   "source": [
    "accuracies.std()"
   ]
  },
  {
   "cell_type": "markdown",
   "metadata": {},
   "source": [
    "## Dropout"
   ]
  },
  {
   "cell_type": "code",
   "execution_count": 37,
   "metadata": {},
   "outputs": [],
   "source": [
    "from keras.layers import Dropout\n",
    "\n",
    "def buildClassifierWithDropout(optimizer):\n",
    "    classifier = Sequential()\n",
    "    classifier.add(Dense(units = 6, kernel_initializer = 'uniform', activation = 'relu', input_dim = 11))\n",
    "    classifier.add(Dropout(rate=0.1))\n",
    "    classifier.add(Dense(units = 6, kernel_initializer = 'uniform', activation = 'relu'))\n",
    "    classifier.add(Dropout(rate=0.1))\n",
    "    classifier.add(Dense(units = 1, kernel_initializer = 'uniform', activation = 'sigmoid'))\n",
    "    classifier.compile(loss='binary_crossentropy',\n",
    "                  optimizer=optimizer,\n",
    "                  metrics=['accuracy'])\n",
    "\n",
    "    return classifier"
   ]
  },
  {
   "cell_type": "code",
   "execution_count": 38,
   "metadata": {
    "collapsed": true
   },
   "outputs": [
    {
     "name": "stdout",
     "output_type": "stream",
     "text": [
      "Epoch 1/20\n",
      "6400/6400 [==============================] - 1s 204us/step - loss: 0.5001 - acc: 0.7975\n",
      "Epoch 2/20\n",
      "6400/6400 [==============================] - 1s 142us/step - loss: 0.4381 - acc: 0.7980\n",
      "Epoch 3/20\n",
      "6400/6400 [==============================] - 1s 143us/step - loss: 0.4313 - acc: 0.7980\n",
      "Epoch 4/20\n",
      "6400/6400 [==============================] - 1s 149us/step - loss: 0.4268 - acc: 0.7980\n",
      "Epoch 5/20\n",
      "6400/6400 [==============================] - 1s 142us/step - loss: 0.4256 - acc: 0.7980\n",
      "Epoch 6/20\n",
      "6400/6400 [==============================] - 1s 143us/step - loss: 0.4250 - acc: 0.8111\n",
      "Epoch 7/20\n",
      "6400/6400 [==============================] - 1s 139us/step - loss: 0.4260 - acc: 0.8227\n",
      "Epoch 8/20\n",
      "6400/6400 [==============================] - 1s 141us/step - loss: 0.4272 - acc: 0.8259\n",
      "Epoch 9/20\n",
      "6400/6400 [==============================] - 1s 142us/step - loss: 0.4236 - acc: 0.8292\n",
      "Epoch 10/20\n",
      "6400/6400 [==============================] - 1s 147us/step - loss: 0.4253 - acc: 0.8264\n",
      "Epoch 11/20\n",
      "6400/6400 [==============================] - 1s 145us/step - loss: 0.4232 - acc: 0.8244\n",
      "Epoch 12/20\n",
      "6400/6400 [==============================] - 1s 145us/step - loss: 0.4250 - acc: 0.8277\n",
      "Epoch 13/20\n",
      "6400/6400 [==============================] - 1s 140us/step - loss: 0.4194 - acc: 0.8261\n",
      "Epoch 14/20\n",
      "6400/6400 [==============================] - 1s 141us/step - loss: 0.4225 - acc: 0.8292\n",
      "Epoch 15/20\n",
      "6400/6400 [==============================] - 1s 137us/step - loss: 0.4236 - acc: 0.8269\n",
      "Epoch 16/20\n",
      "6400/6400 [==============================] - 1s 150us/step - loss: 0.4278 - acc: 0.8289\n",
      "Epoch 17/20\n",
      "6400/6400 [==============================] - 1s 144us/step - loss: 0.4235 - acc: 0.8280\n",
      "Epoch 18/20\n",
      "6400/6400 [==============================] - 1s 138us/step - loss: 0.4244 - acc: 0.8281\n",
      "Epoch 19/20\n",
      "6400/6400 [==============================] - 1s 146us/step - loss: 0.4224 - acc: 0.8291\n",
      "Epoch 20/20\n",
      "6400/6400 [==============================] - 1s 140us/step - loss: 0.4266 - acc: 0.8286\n",
      "1600/1600 [==============================] - 0s 129us/step\n",
      "Epoch 1/20\n",
      "6400/6400 [==============================] - 1s 207us/step - loss: 0.5042 - acc: 0.7969\n",
      "Epoch 2/20\n",
      "6400/6400 [==============================] - 1s 141us/step - loss: 0.4378 - acc: 0.7972\n",
      "Epoch 3/20\n",
      "6400/6400 [==============================] - 1s 155us/step - loss: 0.4324 - acc: 0.7972\n",
      "Epoch 4/20\n",
      "6400/6400 [==============================] - 1s 160us/step - loss: 0.4304 - acc: 0.7972\n",
      "Epoch 5/20\n",
      "6400/6400 [==============================] - 1s 156us/step - loss: 0.4271 - acc: 0.8111\n",
      "Epoch 6/20\n",
      "6400/6400 [==============================] - 1s 138us/step - loss: 0.4282 - acc: 0.8250\n",
      "Epoch 7/20\n",
      "6400/6400 [==============================] - 1s 156us/step - loss: 0.4203 - acc: 0.8261\n",
      "Epoch 8/20\n",
      "6400/6400 [==============================] - 1s 158us/step - loss: 0.4208 - acc: 0.8270\n",
      "Epoch 9/20\n",
      "6400/6400 [==============================] - 1s 158us/step - loss: 0.4203 - acc: 0.8261\n",
      "Epoch 10/20\n",
      "6400/6400 [==============================] - 1s 154us/step - loss: 0.4212 - acc: 0.8255 0s - loss: 0.4208 - acc: 0.825\n",
      "Epoch 11/20\n",
      "6400/6400 [==============================] - 1s 161us/step - loss: 0.4201 - acc: 0.8209\n",
      "Epoch 12/20\n",
      "6400/6400 [==============================] - 1s 145us/step - loss: 0.4202 - acc: 0.8262\n",
      "Epoch 13/20\n",
      "6400/6400 [==============================] - 1s 143us/step - loss: 0.4163 - acc: 0.8262\n",
      "Epoch 14/20\n",
      "6400/6400 [==============================] - 1s 145us/step - loss: 0.4170 - acc: 0.8261\n",
      "Epoch 15/20\n",
      "6400/6400 [==============================] - 1s 144us/step - loss: 0.4169 - acc: 0.8292\n",
      "Epoch 16/20\n",
      "6400/6400 [==============================] - 1s 144us/step - loss: 0.4157 - acc: 0.8250\n",
      "Epoch 17/20\n",
      "6400/6400 [==============================] - 1s 151us/step - loss: 0.4164 - acc: 0.8300\n",
      "Epoch 18/20\n",
      "6400/6400 [==============================] - 1s 144us/step - loss: 0.4158 - acc: 0.8292\n",
      "Epoch 19/20\n",
      "6400/6400 [==============================] - 1s 152us/step - loss: 0.4164 - acc: 0.8275\n",
      "Epoch 20/20\n",
      "6400/6400 [==============================] - 1s 156us/step - loss: 0.4160 - acc: 0.8272\n",
      "1600/1600 [==============================] - 0s 144us/step\n",
      "Epoch 1/20\n",
      "6400/6400 [==============================] - 1s 213us/step - loss: 0.5129 - acc: 0.7908\n",
      "Epoch 2/20\n",
      "6400/6400 [==============================] - 1s 136us/step - loss: 0.4441 - acc: 0.7917\n",
      "Epoch 3/20\n",
      "6400/6400 [==============================] - 1s 133us/step - loss: 0.4392 - acc: 0.7917\n",
      "Epoch 4/20\n",
      "6400/6400 [==============================] - 1s 136us/step - loss: 0.4366 - acc: 0.7917\n",
      "Epoch 5/20\n",
      "6400/6400 [==============================] - 1s 136us/step - loss: 0.4350 - acc: 0.7917\n",
      "Epoch 6/20\n",
      "6400/6400 [==============================] - 1s 134us/step - loss: 0.4315 - acc: 0.7919\n",
      "Epoch 7/20\n",
      "6400/6400 [==============================] - 1s 135us/step - loss: 0.4313 - acc: 0.8128\n",
      "Epoch 8/20\n",
      "6400/6400 [==============================] - 1s 134us/step - loss: 0.4323 - acc: 0.8153\n",
      "Epoch 9/20\n",
      "6400/6400 [==============================] - 1s 140us/step - loss: 0.4330 - acc: 0.8219\n",
      "Epoch 10/20\n",
      "6400/6400 [==============================] - 1s 134us/step - loss: 0.4310 - acc: 0.8233\n",
      "Epoch 11/20\n",
      "6400/6400 [==============================] - 1s 133us/step - loss: 0.4296 - acc: 0.8219\n",
      "Epoch 12/20\n",
      "6400/6400 [==============================] - 1s 135us/step - loss: 0.4294 - acc: 0.8239\n",
      "Epoch 13/20\n",
      "6400/6400 [==============================] - 1s 136us/step - loss: 0.4310 - acc: 0.8252\n",
      "Epoch 14/20\n",
      "6400/6400 [==============================] - 1s 134us/step - loss: 0.4287 - acc: 0.8239\n",
      "Epoch 15/20\n",
      "6400/6400 [==============================] - 1s 134us/step - loss: 0.4276 - acc: 0.8245\n",
      "Epoch 16/20\n",
      "6400/6400 [==============================] - 1s 135us/step - loss: 0.4300 - acc: 0.8248\n",
      "Epoch 17/20\n",
      "6400/6400 [==============================] - 1s 133us/step - loss: 0.4292 - acc: 0.8252\n",
      "Epoch 18/20\n",
      "6400/6400 [==============================] - 1s 134us/step - loss: 0.4330 - acc: 0.8272\n",
      "Epoch 19/20\n",
      "6400/6400 [==============================] - 1s 134us/step - loss: 0.4284 - acc: 0.8233\n",
      "Epoch 20/20\n",
      "6400/6400 [==============================] - 1s 133us/step - loss: 0.4306 - acc: 0.8248\n",
      "1600/1600 [==============================] - 0s 147us/step\n",
      "Epoch 1/20\n",
      "6400/6400 [==============================] - 1s 205us/step - loss: 0.4960 - acc: 0.7969\n",
      "Epoch 2/20\n",
      "6400/6400 [==============================] - 1s 135us/step - loss: 0.4358 - acc: 0.7973\n",
      "Epoch 3/20\n",
      "6400/6400 [==============================] - 1s 135us/step - loss: 0.4315 - acc: 0.7973\n",
      "Epoch 4/20\n",
      "6400/6400 [==============================] - 1s 135us/step - loss: 0.4289 - acc: 0.7973\n",
      "Epoch 5/20\n",
      "6400/6400 [==============================] - 1s 135us/step - loss: 0.4243 - acc: 0.7973\n",
      "Epoch 6/20\n",
      "6400/6400 [==============================] - 1s 136us/step - loss: 0.4282 - acc: 0.8111\n",
      "Epoch 7/20\n",
      "6400/6400 [==============================] - 1s 136us/step - loss: 0.4256 - acc: 0.8198\n",
      "Epoch 8/20\n",
      "6400/6400 [==============================] - 1s 137us/step - loss: 0.4233 - acc: 0.8241\n",
      "Epoch 9/20\n",
      "6400/6400 [==============================] - 1s 136us/step - loss: 0.4227 - acc: 0.8278\n",
      "Epoch 10/20\n",
      "6400/6400 [==============================] - 1s 137us/step - loss: 0.4246 - acc: 0.8269\n",
      "Epoch 11/20\n",
      "6400/6400 [==============================] - 1s 134us/step - loss: 0.4238 - acc: 0.8295\n",
      "Epoch 12/20\n",
      "6400/6400 [==============================] - 1s 136us/step - loss: 0.4222 - acc: 0.8283\n",
      "Epoch 13/20\n",
      "6400/6400 [==============================] - 1s 136us/step - loss: 0.4222 - acc: 0.8302\n",
      "Epoch 14/20\n",
      "6400/6400 [==============================] - 1s 134us/step - loss: 0.4230 - acc: 0.8302\n",
      "Epoch 15/20\n",
      "6400/6400 [==============================] - 1s 133us/step - loss: 0.4227 - acc: 0.8291\n",
      "Epoch 16/20\n",
      "6400/6400 [==============================] - 1s 137us/step - loss: 0.4224 - acc: 0.8317\n",
      "Epoch 17/20\n",
      "6400/6400 [==============================] - 1s 136us/step - loss: 0.4217 - acc: 0.8295\n",
      "Epoch 18/20\n",
      "6400/6400 [==============================] - 1s 152us/step - loss: 0.4175 - acc: 0.8316\n",
      "Epoch 19/20\n",
      "6400/6400 [==============================] - 1s 144us/step - loss: 0.4227 - acc: 0.8291\n",
      "Epoch 20/20\n",
      "6400/6400 [==============================] - 1s 146us/step - loss: 0.4205 - acc: 0.8287\n"
     ]
    },
    {
     "name": "stdout",
     "output_type": "stream",
     "text": [
      "1600/1600 [==============================] - 0s 159us/step\n",
      "Epoch 1/20\n",
      "6400/6400 [==============================] - 2s 235us/step - loss: 0.5056 - acc: 0.7952\n",
      "Epoch 2/20\n",
      "6400/6400 [==============================] - 1s 156us/step - loss: 0.4367 - acc: 0.7958\n",
      "Epoch 3/20\n",
      "6400/6400 [==============================] - 1s 155us/step - loss: 0.4340 - acc: 0.7958\n",
      "Epoch 4/20\n",
      "6400/6400 [==============================] - 1s 158us/step - loss: 0.4334 - acc: 0.7958\n",
      "Epoch 5/20\n",
      "6400/6400 [==============================] - 1s 158us/step - loss: 0.4314 - acc: 0.7958\n",
      "Epoch 6/20\n",
      "6400/6400 [==============================] - 1s 149us/step - loss: 0.4293 - acc: 0.7958\n",
      "Epoch 7/20\n",
      "6400/6400 [==============================] - 1s 149us/step - loss: 0.4298 - acc: 0.7958\n",
      "Epoch 8/20\n",
      "6400/6400 [==============================] - 1s 155us/step - loss: 0.4296 - acc: 0.7958\n",
      "Epoch 9/20\n",
      "6400/6400 [==============================] - 1s 149us/step - loss: 0.4277 - acc: 0.7958\n",
      "Epoch 10/20\n",
      "6400/6400 [==============================] - 1s 142us/step - loss: 0.4282 - acc: 0.8130\n",
      "Epoch 11/20\n",
      "6400/6400 [==============================] - 1s 144us/step - loss: 0.4268 - acc: 0.8227\n",
      "Epoch 12/20\n",
      "6400/6400 [==============================] - 1s 144us/step - loss: 0.4278 - acc: 0.8264\n",
      "Epoch 13/20\n",
      "6400/6400 [==============================] - 1s 147us/step - loss: 0.4293 - acc: 0.8242\n",
      "Epoch 14/20\n",
      "6400/6400 [==============================] - 1s 142us/step - loss: 0.4241 - acc: 0.8269\n",
      "Epoch 15/20\n",
      "6400/6400 [==============================] - 1s 144us/step - loss: 0.4228 - acc: 0.8228\n",
      "Epoch 16/20\n",
      "6400/6400 [==============================] - 1s 146us/step - loss: 0.4243 - acc: 0.8256\n",
      "Epoch 17/20\n",
      "6400/6400 [==============================] - 1s 154us/step - loss: 0.4268 - acc: 0.8294 0s - loss: 0.4373 - ac\n",
      "Epoch 18/20\n",
      "6400/6400 [==============================] - 1s 156us/step - loss: 0.4294 - acc: 0.8270\n",
      "Epoch 19/20\n",
      "6400/6400 [==============================] - 1s 151us/step - loss: 0.4256 - acc: 0.8292\n",
      "Epoch 20/20\n",
      "6400/6400 [==============================] - 1s 145us/step - loss: 0.4285 - acc: 0.8291\n",
      "1600/1600 [==============================] - 0s 174us/step\n"
     ]
    }
   ],
   "source": [
    "classifier = KerasClassifier(build_fn = buildClassifierWithDropout, batch_size = 10, epochs = 20, optimizer = 'adam')\n",
    "accuracies = cross_val_score(estimator = classifier, X = X_train, y = y_train, cv = 5)\n",
    "mean = accuracies.mean()\n",
    "variance = accuracies.std()"
   ]
  },
  {
   "cell_type": "code",
   "execution_count": 39,
   "metadata": {},
   "outputs": [
    {
     "data": {
      "text/plain": [
       "0.8299999957159162"
      ]
     },
     "execution_count": 39,
     "metadata": {},
     "output_type": "execute_result"
    }
   ],
   "source": [
    "accuracies.mean()"
   ]
  },
  {
   "cell_type": "code",
   "execution_count": 40,
   "metadata": {},
   "outputs": [
    {
     "data": {
      "text/plain": [
       "0.005405436660659265"
      ]
     },
     "execution_count": 40,
     "metadata": {},
     "output_type": "execute_result"
    }
   ],
   "source": [
    "accuracies.std()"
   ]
  },
  {
   "cell_type": "markdown",
   "metadata": {},
   "source": [
    "## Save Model"
   ]
  },
  {
   "cell_type": "code",
   "execution_count": 41,
   "metadata": {},
   "outputs": [],
   "source": [
    "import keras\n",
    "from keras.models import Sequential\n",
    "from keras.layers import Dense"
   ]
  },
  {
   "cell_type": "code",
   "execution_count": 44,
   "metadata": {},
   "outputs": [],
   "source": [
    "classifier = Sequential()\n",
    "classifier.add(Dense(units = 6, kernel_initializer = 'uniform', activation = 'relu', input_dim = 11))\n",
    "classifier.add(Dropout(rate = 0.1))\n",
    "classifier.add(Dense(units = 6, kernel_initializer = 'uniform', activation = 'relu'))\n",
    "classifier.add(Dropout(rate = 0.1))\n",
    "classifier.add(Dense(units = 1, kernel_initializer = 'uniform', activation = 'sigmoid'))"
   ]
  },
  {
   "cell_type": "code",
   "execution_count": 45,
   "metadata": {},
   "outputs": [
    {
     "name": "stdout",
     "output_type": "stream",
     "text": [
      "Epoch 1/3\n",
      "8000/8000 [==============================] - 2s 212us/step - loss: 0.5173 - acc: 0.7957\n",
      "Epoch 2/3\n",
      "8000/8000 [==============================] - 1s 141us/step - loss: 0.4521 - acc: 0.7960\n",
      "Epoch 3/3\n",
      "8000/8000 [==============================] - 1s 143us/step - loss: 0.4466 - acc: 0.7960\n"
     ]
    },
    {
     "data": {
      "text/plain": [
       "<keras.callbacks.History at 0x1241b3898>"
      ]
     },
     "execution_count": 45,
     "metadata": {},
     "output_type": "execute_result"
    }
   ],
   "source": [
    "classifier.compile(optimizer = 'adam', loss = 'binary_crossentropy', metrics = ['accuracy'])\n",
    "\n",
    "classifier.fit(X_train, y_train, batch_size = 10, epochs = 3)"
   ]
  },
  {
   "cell_type": "code",
   "execution_count": 46,
   "metadata": {},
   "outputs": [],
   "source": [
    "?classifier.save"
   ]
  },
  {
   "cell_type": "code",
   "execution_count": 47,
   "metadata": {},
   "outputs": [],
   "source": [
    "classifier.save('model.h5')"
   ]
  },
  {
   "cell_type": "code",
   "execution_count": 48,
   "metadata": {},
   "outputs": [],
   "source": [
    "c2 = keras.models.load_model('model.h5')"
   ]
  },
  {
   "cell_type": "code",
   "execution_count": 49,
   "metadata": {},
   "outputs": [
    {
     "name": "stdout",
     "output_type": "stream",
     "text": [
      "Epoch 1/3\n",
      "8000/8000 [==============================] - 1s 168us/step - loss: 0.4429 - acc: 0.7961\n",
      "Epoch 2/3\n",
      "8000/8000 [==============================] - 1s 144us/step - loss: 0.4385 - acc: 0.8147\n",
      "Epoch 3/3\n",
      "8000/8000 [==============================] - 1s 143us/step - loss: 0.4360 - acc: 0.8224\n"
     ]
    },
    {
     "data": {
      "text/plain": [
       "<keras.callbacks.History at 0x1256cd400>"
      ]
     },
     "execution_count": 49,
     "metadata": {},
     "output_type": "execute_result"
    }
   ],
   "source": [
    "c2.fit(X_train, y_train, batch_size = 10, epochs = 3)"
   ]
  },
  {
   "cell_type": "code",
   "execution_count": 61,
   "metadata": {},
   "outputs": [
    {
     "data": {
      "text/plain": [
       "(11, 6)"
      ]
     },
     "execution_count": 61,
     "metadata": {},
     "output_type": "execute_result"
    }
   ],
   "source": [
    "c2.layers[0].get_weights()[0].shape"
   ]
  },
  {
   "cell_type": "code",
   "execution_count": 71,
   "metadata": {},
   "outputs": [
    {
     "data": {
      "text/plain": [
       "array([[-4.06448133e-02,  5.55084050e-02,  4.29384559e-02,\n",
       "         5.20274155e-02,  9.38377995e-03,  4.55283038e-02],\n",
       "       [ 2.34679729e-01,  5.80971278e-02,  8.55651051e-02,\n",
       "         1.99418887e-01,  9.13697183e-02,  1.41933709e-01],\n",
       "       [-5.22249877e-01, -6.69357598e-01, -6.48197293e-01,\n",
       "         4.26697582e-02, -6.34075284e-01, -6.21043921e-01],\n",
       "       [ 1.33967713e-01,  1.90516934e-04,  3.31364274e-02,\n",
       "         5.48120216e-02, -9.18995775e-03, -3.21471132e-02],\n",
       "       [-1.59449324e-01, -1.88165735e-02, -3.99770029e-03,\n",
       "        -1.36327729e-01, -1.82831232e-02, -1.45986572e-01],\n",
       "       [ 4.64144014e-02,  1.51165519e-02, -1.13171712e-02,\n",
       "         7.85137266e-02,  2.18408443e-02,  3.22272442e-02],\n",
       "       [ 8.60414505e-02, -1.24756983e-02, -2.77590435e-02,\n",
       "         2.13420466e-02, -6.37827441e-02, -1.66023113e-02],\n",
       "       [ 1.96923673e-01,  1.86998453e-02,  6.33544754e-03,\n",
       "         6.71097755e-01, -2.45717317e-02,  4.05498780e-02],\n",
       "       [ 1.84402689e-02,  3.09970602e-02,  9.80205601e-04,\n",
       "        -4.29085381e-02,  4.35985718e-03, -4.34459597e-02],\n",
       "       [-1.99366927e-01, -1.15893558e-01, -1.86031133e-01,\n",
       "        -2.63248831e-01, -1.08586065e-01, -2.06330344e-01],\n",
       "       [ 2.22452283e-02, -9.01056305e-02, -4.04540971e-02,\n",
       "         4.22696136e-02, -8.40891749e-02, -4.48649712e-02]], dtype=float32)"
      ]
     },
     "execution_count": 71,
     "metadata": {},
     "output_type": "execute_result"
    }
   ],
   "source": [
    "c2.layers[0].get_weights()[0]"
   ]
  },
  {
   "cell_type": "code",
   "execution_count": 62,
   "metadata": {},
   "outputs": [
    {
     "data": {
      "text/plain": [
       "(6,)"
      ]
     },
     "execution_count": 62,
     "metadata": {},
     "output_type": "execute_result"
    }
   ],
   "source": [
    "c2.layers[0].get_weights()[1].shape"
   ]
  },
  {
   "cell_type": "code",
   "execution_count": 68,
   "metadata": {},
   "outputs": [
    {
     "data": {
      "text/plain": [
       "(6, 6)"
      ]
     },
     "execution_count": 68,
     "metadata": {},
     "output_type": "execute_result"
    }
   ],
   "source": [
    "c2.layers[2].get_weights()[0].shape"
   ]
  },
  {
   "cell_type": "code",
   "execution_count": 69,
   "metadata": {},
   "outputs": [
    {
     "data": {
      "text/plain": [
       "(6,)"
      ]
     },
     "execution_count": 69,
     "metadata": {},
     "output_type": "execute_result"
    }
   ],
   "source": [
    "c2.layers[2].get_weights()[1].shape"
   ]
  },
  {
   "cell_type": "code",
   "execution_count": 70,
   "metadata": {},
   "outputs": [
    {
     "data": {
      "text/plain": [
       "(6, 1)"
      ]
     },
     "execution_count": 70,
     "metadata": {},
     "output_type": "execute_result"
    }
   ],
   "source": [
    "c2.layers[4].get_weights()[0].shape"
   ]
  },
  {
   "cell_type": "markdown",
   "metadata": {},
   "source": [
    "## Keep Saving Model"
   ]
  },
  {
   "cell_type": "code",
   "execution_count": 74,
   "metadata": {},
   "outputs": [],
   "source": [
    "from keras.callbacks import ModelCheckpoint\n",
    "\n",
    "classifier = Sequential()\n",
    "classifier.add(Dense(units = 6, kernel_initializer = 'uniform', activation = 'relu', input_dim = 11))\n",
    "classifier.add(Dropout(rate = 0.1))\n",
    "classifier.add(Dense(units = 6, kernel_initializer = 'uniform', activation = 'relu'))\n",
    "classifier.add(Dropout(rate = 0.1))\n",
    "classifier.add(Dense(units = 1, kernel_initializer = 'uniform', activation = 'sigmoid'))"
   ]
  },
  {
   "cell_type": "code",
   "execution_count": 75,
   "metadata": {},
   "outputs": [
    {
     "name": "stdout",
     "output_type": "stream",
     "text": [
      "Epoch 1/3\n",
      "8000/8000 [==============================] - 2s 238us/step - loss: 0.4917 - acc: 0.7951\n",
      "Epoch 2/3\n",
      " 970/8000 [==>...........................] - ETA: 1s - loss: 0.4531 - acc: 0.7866"
     ]
    },
    {
     "name": "stderr",
     "output_type": "stream",
     "text": [
      "/Users/davidchiu/.pyenv/versions/3.6.2/lib/python3.6/site-packages/keras/callbacks.py:403: RuntimeWarning: Can save best model only with val_loss available, skipping.\n",
      "  'skipping.' % (self.monitor), RuntimeWarning)\n"
     ]
    },
    {
     "name": "stdout",
     "output_type": "stream",
     "text": [
      "8000/8000 [==============================] - 1s 153us/step - loss: 0.4359 - acc: 0.7960\n",
      "Epoch 3/3\n",
      "8000/8000 [==============================] - 1s 151us/step - loss: 0.4353 - acc: 0.7960\n"
     ]
    },
    {
     "data": {
      "text/plain": [
       "<keras.callbacks.History at 0x125dd7da0>"
      ]
     },
     "execution_count": 75,
     "metadata": {},
     "output_type": "execute_result"
    }
   ],
   "source": [
    "classifier.compile(optimizer = 'adam', loss = 'binary_crossentropy', metrics = ['accuracy'])\n",
    "\n",
    "checkpointer = ModelCheckpoint(filepath=\"model2.h5\",\n",
    "                               verbose=1,\n",
    "                               save_best_only=True)\n",
    "\n",
    "classifier.fit(X_train, y_train, batch_size = 10, epochs = 3,\n",
    "                    callbacks=[checkpointer])"
   ]
  },
  {
   "cell_type": "markdown",
   "metadata": {},
   "source": [
    "## Grid Search"
   ]
  },
  {
   "cell_type": "code",
   "execution_count": null,
   "metadata": {},
   "outputs": [],
   "source": [
    "from keras.layers import Dropout\n",
    "\n",
    "def buildClassifierWithDropout(optimizer):\n",
    "    classifier = Sequential()\n",
    "    classifier.add(Dense(units = 6, kernel_initializer = 'uniform', activation = 'relu', input_dim = 11))\n",
    "    classifier.add(Dropout(rate=0.1))\n",
    "    classifier.add(Dense(units = 6, kernel_initializer = 'uniform', activation = 'relu'))\n",
    "    classifier.add(Dropout(rate=0.1))\n",
    "    classifier.add(Dense(units = 1, kernel_initializer = 'uniform', activation = 'sigmoid'))\n",
    "    classifier.compile(loss='binary_crossentropy',\n",
    "                  optimizer=optimizer,\n",
    "                  metrics=['accuracy'])\n",
    "\n",
    "    return classifier"
   ]
  },
  {
   "cell_type": "code",
   "execution_count": 77,
   "metadata": {},
   "outputs": [
    {
     "name": "stdout",
     "output_type": "stream",
     "text": [
      "Epoch 1/3\n",
      "6400/6400 [==============================] - 2s 256us/step - loss: 0.5253 - acc: 0.7977\n",
      "Epoch 2/3\n",
      "6400/6400 [==============================] - 1s 151us/step - loss: 0.4423 - acc: 0.7980\n",
      "Epoch 3/3\n",
      "6400/6400 [==============================] - 1s 151us/step - loss: 0.4351 - acc: 0.7980\n",
      "Epoch 1/3\n",
      "6400/6400 [==============================] - 2s 268us/step - loss: 0.5035 - acc: 0.7964\n",
      "Epoch 2/3\n",
      "6400/6400 [==============================] - 1s 160us/step - loss: 0.4369 - acc: 0.7972\n",
      "Epoch 3/3\n",
      "6400/6400 [==============================] - 1s 151us/step - loss: 0.4355 - acc: 0.7972\n",
      "Epoch 1/3\n",
      "6400/6400 [==============================] - 2s 273us/step - loss: 0.5262 - acc: 0.7905\n",
      "Epoch 2/3\n",
      "6400/6400 [==============================] - 1s 162us/step - loss: 0.4398 - acc: 0.8058\n",
      "Epoch 3/3\n",
      "6400/6400 [==============================] - 1s 154us/step - loss: 0.4364 - acc: 0.8186\n",
      "Epoch 1/3\n",
      "6400/6400 [==============================] - 2s 293us/step - loss: 0.5092 - acc: 0.7973\n",
      "Epoch 2/3\n",
      "6400/6400 [==============================] - 1s 167us/step - loss: 0.4299 - acc: 0.7973\n",
      "Epoch 3/3\n",
      "6400/6400 [==============================] - 1s 149us/step - loss: 0.4269 - acc: 0.7973\n",
      "Epoch 1/3\n",
      "6400/6400 [==============================] - 2s 279us/step - loss: 0.4939 - acc: 0.7956\n",
      "Epoch 2/3\n",
      "6400/6400 [==============================] - 1s 150us/step - loss: 0.4349 - acc: 0.7958\n",
      "Epoch 3/3\n",
      "6400/6400 [==============================] - 1s 150us/step - loss: 0.4323 - acc: 0.7958\n",
      "Epoch 1/3\n",
      "6400/6400 [==============================] - 2s 268us/step - loss: 0.5233 - acc: 0.7975\n",
      "Epoch 2/3\n",
      "6400/6400 [==============================] - 1s 142us/step - loss: 0.4403 - acc: 0.7980\n",
      "Epoch 3/3\n",
      "6400/6400 [==============================] - 1s 142us/step - loss: 0.4321 - acc: 0.7980\n",
      "Epoch 1/3\n",
      "6400/6400 [==============================] - 2s 275us/step - loss: 0.5638 - acc: 0.7964\n",
      "Epoch 2/3\n",
      "6400/6400 [==============================] - 1s 136us/step - loss: 0.4544 - acc: 0.7972\n",
      "Epoch 3/3\n",
      "6400/6400 [==============================] - 1s 132us/step - loss: 0.4413 - acc: 0.7970\n",
      "Epoch 1/3\n",
      "6400/6400 [==============================] - 2s 264us/step - loss: 0.5200 - acc: 0.7917\n",
      "Epoch 2/3\n",
      "6400/6400 [==============================] - 1s 132us/step - loss: 0.4479 - acc: 0.7917\n",
      "Epoch 3/3\n",
      "6400/6400 [==============================] - 1s 133us/step - loss: 0.4363 - acc: 0.7917\n",
      "Epoch 1/3\n",
      "6400/6400 [==============================] - 2s 269us/step - loss: 0.5274 - acc: 0.7970\n",
      "Epoch 2/3\n",
      "6400/6400 [==============================] - 1s 134us/step - loss: 0.4418 - acc: 0.7973\n",
      "Epoch 3/3\n",
      "6400/6400 [==============================] - 1s 133us/step - loss: 0.4377 - acc: 0.7973\n",
      "Epoch 1/3\n",
      "6400/6400 [==============================] - 2s 274us/step - loss: 0.5252 - acc: 0.7952\n",
      "Epoch 2/3\n",
      "6400/6400 [==============================] - 1s 135us/step - loss: 0.4422 - acc: 0.7958\n",
      "Epoch 3/3\n",
      "6400/6400 [==============================] - 1s 136us/step - loss: 0.4391 - acc: 0.7958\n",
      "Epoch 1/3\n",
      "6400/6400 [==============================] - 2s 242us/step - loss: 0.5351 - acc: 0.7973\n",
      "Epoch 2/3\n",
      "6400/6400 [==============================] - 1s 103us/step - loss: 0.4395 - acc: 0.7980\n",
      "Epoch 3/3\n",
      "6400/6400 [==============================] - 1s 113us/step - loss: 0.4342 - acc: 0.7980\n",
      "Epoch 1/3\n",
      "6400/6400 [==============================] - 2s 282us/step - loss: 0.5341 - acc: 0.7967\n",
      "Epoch 2/3\n",
      "6400/6400 [==============================] - 1s 110us/step - loss: 0.4409 - acc: 0.7972\n",
      "Epoch 3/3\n",
      "6400/6400 [==============================] - 1s 113us/step - loss: 0.4347 - acc: 0.7972\n",
      "Epoch 1/3\n",
      "6400/6400 [==============================] - 2s 271us/step - loss: 0.5299 - acc: 0.7911\n",
      "Epoch 2/3\n",
      "6400/6400 [==============================] - 1s 103us/step - loss: 0.4459 - acc: 0.7917\n",
      "Epoch 3/3\n",
      "6400/6400 [==============================] - 1s 109us/step - loss: 0.4423 - acc: 0.7917\n",
      "Epoch 1/3\n",
      "6400/6400 [==============================] - 2s 265us/step - loss: 0.5182 - acc: 0.7973\n",
      "Epoch 2/3\n",
      "6400/6400 [==============================] - 1s 103us/step - loss: 0.4389 - acc: 0.7973\n",
      "Epoch 3/3\n",
      "6400/6400 [==============================] - 1s 104us/step - loss: 0.4369 - acc: 0.7973\n",
      "Epoch 1/3\n",
      "6400/6400 [==============================] - 2s 283us/step - loss: 0.5613 - acc: 0.7953\n",
      "Epoch 2/3\n",
      "6400/6400 [==============================] - 1s 107us/step - loss: 0.4425 - acc: 0.7958\n",
      "Epoch 3/3\n",
      "6400/6400 [==============================] - 1s 109us/step - loss: 0.4384 - acc: 0.7958\n",
      "Epoch 1/3\n",
      "6400/6400 [==============================] - 2s 274us/step - loss: 0.5631 - acc: 0.7975\n",
      "Epoch 2/3\n",
      "6400/6400 [==============================] - 1s 102us/step - loss: 0.4481 - acc: 0.7980\n",
      "Epoch 3/3\n",
      "6400/6400 [==============================] - 1s 104us/step - loss: 0.4416 - acc: 0.7980 0s - loss: 0.4636 - acc:  - ETA: 0s - loss: 0.4390 - acc: \n",
      "Epoch 1/3\n",
      "6400/6400 [==============================] - 2s 273us/step - loss: 0.5546 - acc: 0.7967\n",
      "Epoch 2/3\n",
      "6400/6400 [==============================] - 1s 98us/step - loss: 0.4447 - acc: 0.7972\n",
      "Epoch 3/3\n",
      "6400/6400 [==============================] - 1s 105us/step - loss: 0.4376 - acc: 0.7972\n",
      "Epoch 1/3\n",
      "6400/6400 [==============================] - 2s 275us/step - loss: 0.5704 - acc: 0.7905\n",
      "Epoch 2/3\n",
      "6400/6400 [==============================] - 1s 100us/step - loss: 0.4538 - acc: 0.7917\n",
      "Epoch 3/3\n",
      "6400/6400 [==============================] - 1s 100us/step - loss: 0.4455 - acc: 0.7917\n",
      "Epoch 1/3\n",
      "6400/6400 [==============================] - 2s 279us/step - loss: 0.5551 - acc: 0.7969\n",
      "Epoch 2/3\n",
      "6400/6400 [==============================] - 1s 100us/step - loss: 0.4468 - acc: 0.7973\n",
      "Epoch 3/3\n",
      "6400/6400 [==============================] - 1s 101us/step - loss: 0.4376 - acc: 0.7973\n",
      "Epoch 1/3\n",
      "6400/6400 [==============================] - 2s 287us/step - loss: 0.5548 - acc: 0.7950\n",
      "Epoch 2/3\n",
      "6400/6400 [==============================] - 1s 101us/step - loss: 0.4418 - acc: 0.7958\n",
      "Epoch 3/3\n",
      "6400/6400 [==============================] - 1s 102us/step - loss: 0.4359 - acc: 0.7958\n",
      "Epoch 1/3\n",
      "8000/8000 [==============================] - 3s 314us/step - loss: 0.4841 - acc: 0.7954\n",
      "Epoch 2/3\n",
      "8000/8000 [==============================] - 1s 160us/step - loss: 0.4314 - acc: 0.7960\n",
      "Epoch 3/3\n",
      "8000/8000 [==============================] - 1s 163us/step - loss: 0.4295 - acc: 0.7960\n"
     ]
    }
   ],
   "source": [
    "from sklearn.model_selection import GridSearchCV\n",
    "classifier = KerasClassifier(build_fn = buildClassifierWithDropout, epochs = 3)\n",
    "parameters = {'batch_size': [10, 15],\n",
    "              'optimizer': ['adam', 'rmsprop']}\n",
    "grid_search = GridSearchCV(estimator = classifier,\n",
    "                           param_grid = parameters,\n",
    "                           scoring = 'accuracy',\n",
    "                           cv = 5)\n",
    "grid_search     = grid_search.fit(X_train, y_train)\n",
    "best_parameters = grid_search.best_params_\n",
    "best_accuracy   = grid_search.best_score_"
   ]
  },
  {
   "cell_type": "markdown",
   "metadata": {},
   "source": [
    "## Comparing Models"
   ]
  },
  {
   "cell_type": "code",
   "execution_count": 78,
   "metadata": {},
   "outputs": [],
   "source": [
    "import keras\n",
    "from keras.models import Sequential\n",
    "from keras.layers import Dense"
   ]
  },
  {
   "cell_type": "code",
   "execution_count": 79,
   "metadata": {},
   "outputs": [],
   "source": [
    "classifier = Sequential()\n",
    "classifier.add(Dense(units = 6, kernel_initializer = 'uniform', activation = 'relu', input_dim = 11))\n",
    "classifier.add(Dropout(rate = 0.1))\n",
    "classifier.add(Dense(units = 6, kernel_initializer = 'uniform', activation = 'relu'))\n",
    "classifier.add(Dropout(rate = 0.1))\n",
    "classifier.add(Dense(units = 1, kernel_initializer = 'uniform', activation = 'sigmoid'))"
   ]
  },
  {
   "cell_type": "code",
   "execution_count": 80,
   "metadata": {},
   "outputs": [
    {
     "name": "stdout",
     "output_type": "stream",
     "text": [
      "Epoch 1/100\n",
      "8000/8000 [==============================] - 3s 345us/step - loss: 0.4799 - acc: 0.7960\n",
      "Epoch 2/100\n",
      "8000/8000 [==============================] - 1s 173us/step - loss: 0.4350 - acc: 0.7960\n",
      "Epoch 3/100\n",
      "8000/8000 [==============================] - 1s 155us/step - loss: 0.4290 - acc: 0.7960\n",
      "Epoch 4/100\n",
      "8000/8000 [==============================] - 1s 159us/step - loss: 0.4247 - acc: 0.8009\n",
      "Epoch 5/100\n",
      "8000/8000 [==============================] - 1s 153us/step - loss: 0.4252 - acc: 0.8215\n",
      "Epoch 6/100\n",
      "8000/8000 [==============================] - 1s 151us/step - loss: 0.4255 - acc: 0.8256\n",
      "Epoch 7/100\n",
      "8000/8000 [==============================] - 1s 154us/step - loss: 0.4253 - acc: 0.8255\n",
      "Epoch 8/100\n",
      "8000/8000 [==============================] - 1s 151us/step - loss: 0.4258 - acc: 0.8275\n",
      "Epoch 9/100\n",
      "8000/8000 [==============================] - 1s 152us/step - loss: 0.4276 - acc: 0.8265\n",
      "Epoch 10/100\n",
      "8000/8000 [==============================] - 1s 151us/step - loss: 0.4217 - acc: 0.8285\n",
      "Epoch 11/100\n",
      "8000/8000 [==============================] - 1s 151us/step - loss: 0.4242 - acc: 0.8291\n",
      "Epoch 12/100\n",
      "8000/8000 [==============================] - 1s 152us/step - loss: 0.4216 - acc: 0.8312\n",
      "Epoch 13/100\n",
      "8000/8000 [==============================] - 1s 152us/step - loss: 0.4244 - acc: 0.8305\n",
      "Epoch 14/100\n",
      "8000/8000 [==============================] - 1s 152us/step - loss: 0.4214 - acc: 0.8292\n",
      "Epoch 15/100\n",
      "8000/8000 [==============================] - 1s 155us/step - loss: 0.4191 - acc: 0.8312\n",
      "Epoch 16/100\n",
      "8000/8000 [==============================] - 1s 152us/step - loss: 0.4238 - acc: 0.8294\n",
      "Epoch 17/100\n",
      "8000/8000 [==============================] - 1s 152us/step - loss: 0.4182 - acc: 0.8307\n",
      "Epoch 18/100\n",
      "8000/8000 [==============================] - 2s 190us/step - loss: 0.4220 - acc: 0.8289\n",
      "Epoch 19/100\n",
      "8000/8000 [==============================] - 1s 153us/step - loss: 0.4190 - acc: 0.8296\n",
      "Epoch 20/100\n",
      "8000/8000 [==============================] - 1s 156us/step - loss: 0.4218 - acc: 0.8307\n",
      "Epoch 21/100\n",
      "8000/8000 [==============================] - 1s 153us/step - loss: 0.4209 - acc: 0.8315\n",
      "Epoch 22/100\n",
      "8000/8000 [==============================] - 1s 153us/step - loss: 0.4199 - acc: 0.8312\n",
      "Epoch 23/100\n",
      "8000/8000 [==============================] - 1s 152us/step - loss: 0.4200 - acc: 0.8310\n",
      "Epoch 24/100\n",
      "8000/8000 [==============================] - 1s 152us/step - loss: 0.4185 - acc: 0.8302\n",
      "Epoch 25/100\n",
      "8000/8000 [==============================] - 1s 153us/step - loss: 0.4172 - acc: 0.8335\n",
      "Epoch 26/100\n",
      "8000/8000 [==============================] - 1s 154us/step - loss: 0.4215 - acc: 0.8302\n",
      "Epoch 27/100\n",
      "8000/8000 [==============================] - 1s 155us/step - loss: 0.4211 - acc: 0.8304\n",
      "Epoch 28/100\n",
      "8000/8000 [==============================] - 1s 153us/step - loss: 0.4228 - acc: 0.8321\n",
      "Epoch 29/100\n",
      "8000/8000 [==============================] - 1s 153us/step - loss: 0.4196 - acc: 0.8299\n",
      "Epoch 30/100\n",
      "8000/8000 [==============================] - 1s 155us/step - loss: 0.4217 - acc: 0.8312 0s - loss: 0.4204 - acc: 0.\n",
      "Epoch 31/100\n",
      "8000/8000 [==============================] - 1s 154us/step - loss: 0.4209 - acc: 0.8306\n",
      "Epoch 32/100\n",
      "8000/8000 [==============================] - 1s 153us/step - loss: 0.4217 - acc: 0.8304\n",
      "Epoch 33/100\n",
      "8000/8000 [==============================] - 1s 154us/step - loss: 0.4220 - acc: 0.8301\n",
      "Epoch 34/100\n",
      "8000/8000 [==============================] - 1s 154us/step - loss: 0.4196 - acc: 0.8302\n",
      "Epoch 35/100\n",
      "8000/8000 [==============================] - 1s 155us/step - loss: 0.4203 - acc: 0.8334\n",
      "Epoch 36/100\n",
      "8000/8000 [==============================] - 1s 155us/step - loss: 0.4200 - acc: 0.8302\n",
      "Epoch 37/100\n",
      "8000/8000 [==============================] - 1s 159us/step - loss: 0.4187 - acc: 0.8325\n",
      "Epoch 38/100\n",
      "8000/8000 [==============================] - 1s 154us/step - loss: 0.4189 - acc: 0.8330\n",
      "Epoch 39/100\n",
      "8000/8000 [==============================] - 1s 156us/step - loss: 0.4187 - acc: 0.8335\n",
      "Epoch 40/100\n",
      "8000/8000 [==============================] - 1s 153us/step - loss: 0.4196 - acc: 0.8306\n",
      "Epoch 41/100\n",
      "8000/8000 [==============================] - 1s 154us/step - loss: 0.4215 - acc: 0.8316\n",
      "Epoch 42/100\n",
      "8000/8000 [==============================] - 1s 154us/step - loss: 0.4205 - acc: 0.8304\n",
      "Epoch 43/100\n",
      "8000/8000 [==============================] - 1s 153us/step - loss: 0.4226 - acc: 0.8316\n",
      "Epoch 44/100\n",
      "8000/8000 [==============================] - 1s 152us/step - loss: 0.4215 - acc: 0.8304\n",
      "Epoch 45/100\n",
      "8000/8000 [==============================] - 1s 153us/step - loss: 0.4222 - acc: 0.8285\n",
      "Epoch 46/100\n",
      "8000/8000 [==============================] - 1s 155us/step - loss: 0.4188 - acc: 0.8301\n",
      "Epoch 47/100\n",
      "8000/8000 [==============================] - 1s 155us/step - loss: 0.4185 - acc: 0.8295\n",
      "Epoch 48/100\n",
      "8000/8000 [==============================] - 1s 154us/step - loss: 0.4209 - acc: 0.8304\n",
      "Epoch 49/100\n",
      "8000/8000 [==============================] - 1s 154us/step - loss: 0.4190 - acc: 0.8324\n",
      "Epoch 50/100\n",
      "8000/8000 [==============================] - 1s 155us/step - loss: 0.4217 - acc: 0.8305\n",
      "Epoch 51/100\n",
      "8000/8000 [==============================] - 1s 154us/step - loss: 0.4210 - acc: 0.8334\n",
      "Epoch 52/100\n",
      "8000/8000 [==============================] - 1s 157us/step - loss: 0.4241 - acc: 0.8305\n",
      "Epoch 53/100\n",
      "8000/8000 [==============================] - 1s 156us/step - loss: 0.4194 - acc: 0.8329\n",
      "Epoch 54/100\n",
      "8000/8000 [==============================] - 1s 153us/step - loss: 0.4214 - acc: 0.8316\n",
      "Epoch 55/100\n",
      "8000/8000 [==============================] - 1s 157us/step - loss: 0.4181 - acc: 0.8331\n",
      "Epoch 56/100\n",
      "8000/8000 [==============================] - 1s 156us/step - loss: 0.4219 - acc: 0.8321\n",
      "Epoch 57/100\n",
      "8000/8000 [==============================] - 1s 158us/step - loss: 0.4199 - acc: 0.8341 0s - loss: 0.4\n",
      "Epoch 58/100\n",
      "8000/8000 [==============================] - 1s 152us/step - loss: 0.4168 - acc: 0.8336\n",
      "Epoch 59/100\n",
      "8000/8000 [==============================] - 1s 156us/step - loss: 0.4203 - acc: 0.8307\n",
      "Epoch 60/100\n",
      "8000/8000 [==============================] - 1s 153us/step - loss: 0.4229 - acc: 0.8302\n",
      "Epoch 61/100\n",
      "8000/8000 [==============================] - 1s 155us/step - loss: 0.4225 - acc: 0.8345\n",
      "Epoch 62/100\n",
      "8000/8000 [==============================] - 1s 155us/step - loss: 0.4228 - acc: 0.8307 0s - loss: 0.4104 - a\n",
      "Epoch 63/100\n",
      "8000/8000 [==============================] - 1s 155us/step - loss: 0.4200 - acc: 0.8341\n",
      "Epoch 64/100\n",
      "8000/8000 [==============================] - 1s 154us/step - loss: 0.4204 - acc: 0.8325\n",
      "Epoch 65/100\n",
      "8000/8000 [==============================] - 1s 153us/step - loss: 0.4220 - acc: 0.8310\n",
      "Epoch 66/100\n",
      "8000/8000 [==============================] - 1s 154us/step - loss: 0.4188 - acc: 0.8301\n",
      "Epoch 67/100\n",
      "8000/8000 [==============================] - 1s 154us/step - loss: 0.4184 - acc: 0.8337\n",
      "Epoch 68/100\n",
      "8000/8000 [==============================] - 1s 159us/step - loss: 0.4168 - acc: 0.8331\n",
      "Epoch 69/100\n",
      "8000/8000 [==============================] - 1s 158us/step - loss: 0.4191 - acc: 0.8322\n",
      "Epoch 70/100\n",
      "8000/8000 [==============================] - 1s 155us/step - loss: 0.4178 - acc: 0.8326\n",
      "Epoch 71/100\n",
      "8000/8000 [==============================] - 1s 156us/step - loss: 0.4190 - acc: 0.8324\n",
      "Epoch 72/100\n",
      "8000/8000 [==============================] - 1s 156us/step - loss: 0.4200 - acc: 0.8326\n",
      "Epoch 73/100\n",
      "8000/8000 [==============================] - 1s 155us/step - loss: 0.4213 - acc: 0.8344\n",
      "Epoch 74/100\n",
      "8000/8000 [==============================] - 1s 154us/step - loss: 0.4187 - acc: 0.8321\n",
      "Epoch 75/100\n",
      "8000/8000 [==============================] - 1s 155us/step - loss: 0.4169 - acc: 0.8327\n",
      "Epoch 76/100\n",
      "8000/8000 [==============================] - 1s 156us/step - loss: 0.4188 - acc: 0.8331\n",
      "Epoch 77/100\n",
      "8000/8000 [==============================] - 1s 156us/step - loss: 0.4181 - acc: 0.8334\n",
      "Epoch 78/100\n",
      "8000/8000 [==============================] - 1s 156us/step - loss: 0.4199 - acc: 0.8320\n",
      "Epoch 79/100\n",
      "8000/8000 [==============================] - 1s 156us/step - loss: 0.4210 - acc: 0.8331\n",
      "Epoch 80/100\n",
      "8000/8000 [==============================] - 1s 155us/step - loss: 0.4229 - acc: 0.8337\n",
      "Epoch 81/100\n"
     ]
    },
    {
     "name": "stdout",
     "output_type": "stream",
     "text": [
      "8000/8000 [==============================] - 1s 150us/step - loss: 0.4192 - acc: 0.8334\n",
      "Epoch 82/100\n",
      "8000/8000 [==============================] - 1s 151us/step - loss: 0.4214 - acc: 0.8329\n",
      "Epoch 83/100\n",
      "8000/8000 [==============================] - 1s 150us/step - loss: 0.4204 - acc: 0.8332\n",
      "Epoch 84/100\n",
      "8000/8000 [==============================] - 1s 151us/step - loss: 0.4186 - acc: 0.8334\n",
      "Epoch 85/100\n",
      "8000/8000 [==============================] - 1s 151us/step - loss: 0.4198 - acc: 0.8352\n",
      "Epoch 86/100\n",
      "8000/8000 [==============================] - 1s 150us/step - loss: 0.4158 - acc: 0.8329\n",
      "Epoch 87/100\n",
      "8000/8000 [==============================] - 1s 151us/step - loss: 0.4197 - acc: 0.8332\n",
      "Epoch 88/100\n",
      "8000/8000 [==============================] - 1s 151us/step - loss: 0.4204 - acc: 0.8342\n",
      "Epoch 89/100\n",
      "8000/8000 [==============================] - 1s 154us/step - loss: 0.4208 - acc: 0.8320\n",
      "Epoch 90/100\n",
      "8000/8000 [==============================] - 1s 152us/step - loss: 0.4201 - acc: 0.8345\n",
      "Epoch 91/100\n",
      "8000/8000 [==============================] - 1s 150us/step - loss: 0.4195 - acc: 0.8329\n",
      "Epoch 92/100\n",
      "8000/8000 [==============================] - 1s 150us/step - loss: 0.4233 - acc: 0.8329\n",
      "Epoch 93/100\n",
      "8000/8000 [==============================] - 1s 150us/step - loss: 0.4182 - acc: 0.8346\n",
      "Epoch 94/100\n",
      "8000/8000 [==============================] - 1s 152us/step - loss: 0.4223 - acc: 0.8335\n",
      "Epoch 95/100\n",
      "8000/8000 [==============================] - 1s 152us/step - loss: 0.4205 - acc: 0.8326\n",
      "Epoch 96/100\n",
      "8000/8000 [==============================] - 1s 168us/step - loss: 0.4187 - acc: 0.8352\n",
      "Epoch 97/100\n",
      "8000/8000 [==============================] - 1s 167us/step - loss: 0.4206 - acc: 0.8339\n",
      "Epoch 98/100\n",
      "8000/8000 [==============================] - 1s 167us/step - loss: 0.4214 - acc: 0.8322\n",
      "Epoch 99/100\n",
      "8000/8000 [==============================] - 1s 176us/step - loss: 0.4201 - acc: 0.8331\n",
      "Epoch 100/100\n",
      "8000/8000 [==============================] - 1s 166us/step - loss: 0.4199 - acc: 0.8334\n"
     ]
    },
    {
     "data": {
      "text/plain": [
       "<keras.callbacks.History at 0x1257b49b0>"
      ]
     },
     "execution_count": 80,
     "metadata": {},
     "output_type": "execute_result"
    }
   ],
   "source": [
    "classifier.compile(optimizer = 'adam', loss = 'binary_crossentropy', metrics = ['accuracy'])\n",
    "classifier.fit(X_train, y_train, batch_size = 10, epochs = 100)"
   ]
  },
  {
   "cell_type": "code",
   "execution_count": 81,
   "metadata": {},
   "outputs": [],
   "source": [
    "y_pred = classifier.predict(X_test)"
   ]
  },
  {
   "cell_type": "code",
   "execution_count": 84,
   "metadata": {},
   "outputs": [
    {
     "data": {
      "text/plain": [
       "array([[False],\n",
       "       [False],\n",
       "       [False],\n",
       "       ...,\n",
       "       [False],\n",
       "       [False],\n",
       "       [False]])"
      ]
     },
     "execution_count": 84,
     "metadata": {},
     "output_type": "execute_result"
    }
   ],
   "source": [
    "y_pred > 0.5"
   ]
  },
  {
   "cell_type": "code",
   "execution_count": 85,
   "metadata": {},
   "outputs": [
    {
     "data": {
      "text/plain": [
       "array([[0],\n",
       "       [0],\n",
       "       [0],\n",
       "       ...,\n",
       "       [0],\n",
       "       [0],\n",
       "       [0]])"
      ]
     },
     "execution_count": 85,
     "metadata": {},
     "output_type": "execute_result"
    }
   ],
   "source": [
    "(y_pred > 0.5).astype(int)"
   ]
  },
  {
   "cell_type": "code",
   "execution_count": 86,
   "metadata": {},
   "outputs": [
    {
     "data": {
      "text/plain": [
       "array([0, 1, 0, ..., 0, 0, 0])"
      ]
     },
     "execution_count": 86,
     "metadata": {},
     "output_type": "execute_result"
    }
   ],
   "source": [
    "y_test"
   ]
  },
  {
   "cell_type": "code",
   "execution_count": 89,
   "metadata": {},
   "outputs": [
    {
     "data": {
      "text/plain": [
       "array([0, 0, 0, ..., 0, 0, 0])"
      ]
     },
     "execution_count": 89,
     "metadata": {},
     "output_type": "execute_result"
    }
   ],
   "source": [
    "predicted = (y_pred > 0.5).flatten().astype(int)\n",
    "predicted"
   ]
  },
  {
   "cell_type": "code",
   "execution_count": 93,
   "metadata": {},
   "outputs": [
    {
     "data": {
      "text/plain": [
       "0.8395"
      ]
     },
     "execution_count": 93,
     "metadata": {},
     "output_type": "execute_result"
    }
   ],
   "source": [
    "sum(predicted == y_test) / len(y_test)"
   ]
  },
  {
   "cell_type": "code",
   "execution_count": 95,
   "metadata": {},
   "outputs": [],
   "source": [
    "from sklearn.metrics import confusion_matrix\n",
    "cm = confusion_matrix(y_test , predicted)"
   ]
  },
  {
   "cell_type": "code",
   "execution_count": 96,
   "metadata": {},
   "outputs": [
    {
     "data": {
      "text/plain": [
       "array([[1552,   43],\n",
       "       [ 278,  127]])"
      ]
     },
     "execution_count": 96,
     "metadata": {},
     "output_type": "execute_result"
    }
   ],
   "source": [
    "cm"
   ]
  },
  {
   "cell_type": "code",
   "execution_count": 97,
   "metadata": {},
   "outputs": [
    {
     "data": {
      "text/plain": [
       "1552"
      ]
     },
     "execution_count": 97,
     "metadata": {},
     "output_type": "execute_result"
    }
   ],
   "source": [
    "TP = cm[0,0 ]\n",
    "TP"
   ]
  },
  {
   "cell_type": "code",
   "execution_count": 99,
   "metadata": {},
   "outputs": [
    {
     "data": {
      "text/plain": [
       "43"
      ]
     },
     "execution_count": 99,
     "metadata": {},
     "output_type": "execute_result"
    }
   ],
   "source": [
    "FN = cm[0,1 ]\n",
    "FN"
   ]
  },
  {
   "cell_type": "code",
   "execution_count": 100,
   "metadata": {},
   "outputs": [
    {
     "data": {
      "text/plain": [
       "278"
      ]
     },
     "execution_count": 100,
     "metadata": {},
     "output_type": "execute_result"
    }
   ],
   "source": [
    "FP = cm[1,0 ]\n",
    "FP"
   ]
  },
  {
   "cell_type": "code",
   "execution_count": 101,
   "metadata": {},
   "outputs": [
    {
     "data": {
      "text/plain": [
       "127"
      ]
     },
     "execution_count": 101,
     "metadata": {},
     "output_type": "execute_result"
    }
   ],
   "source": [
    "TN = cm[1,1 ]\n",
    "TN"
   ]
  },
  {
   "cell_type": "code",
   "execution_count": 102,
   "metadata": {},
   "outputs": [],
   "source": [
    "TPR = TP / (TP + FN)"
   ]
  },
  {
   "cell_type": "code",
   "execution_count": 103,
   "metadata": {},
   "outputs": [],
   "source": [
    "FPR = FP / (FP + TN)"
   ]
  },
  {
   "cell_type": "code",
   "execution_count": 104,
   "metadata": {},
   "outputs": [
    {
     "data": {
      "text/plain": [
       "0.6864197530864198"
      ]
     },
     "execution_count": 104,
     "metadata": {},
     "output_type": "execute_result"
    }
   ],
   "source": [
    "FPR"
   ]
  },
  {
   "cell_type": "code",
   "execution_count": 105,
   "metadata": {},
   "outputs": [
    {
     "data": {
      "text/plain": [
       "0.9730407523510972"
      ]
     },
     "execution_count": 105,
     "metadata": {},
     "output_type": "execute_result"
    }
   ],
   "source": [
    "TPR"
   ]
  },
  {
   "cell_type": "code",
   "execution_count": 106,
   "metadata": {},
   "outputs": [],
   "source": [
    "from sklearn.metrics import roc_curve\n",
    "fpr_ary, tpr_ary, thresholds = roc_curve(y_test, y_pred)"
   ]
  },
  {
   "cell_type": "code",
   "execution_count": 108,
   "metadata": {},
   "outputs": [],
   "source": [
    "#tpr_ary\n",
    "#fpr_ary"
   ]
  },
  {
   "cell_type": "code",
   "execution_count": 109,
   "metadata": {},
   "outputs": [
    {
     "name": "stdout",
     "output_type": "stream",
     "text": [
      "Populating the interactive namespace from numpy and matplotlib\n"
     ]
    },
    {
     "name": "stderr",
     "output_type": "stream",
     "text": [
      "/Users/davidchiu/.pyenv/versions/3.6.2/lib/python3.6/site-packages/IPython/core/magics/pylab.py:160: UserWarning: pylab import has clobbered these variables: ['cm', 'mean']\n",
      "`%matplotlib` prevents importing * from pylab and numpy\n",
      "  \"\\n`%matplotlib` prevents importing * from pylab and numpy\"\n"
     ]
    },
    {
     "data": {
      "image/png": "[encoded data removed]",
      "text/plain": [
       "<Figure size 432x288 with 1 Axes>"
      ]
     },
     "metadata": {},
     "output_type": "display_data"
    }
   ],
   "source": [
    "%pylab inline\n",
    "import matplotlib.pyplot as plt\n",
    "plt.plot(fpr_ary, tpr_ary, label='ROC curve')\n",
    "plt.plot([0, 1], [0, 1], 'k--')\n",
    "plt.xlim([0.0, 1.0])\n",
    "plt.ylim([0.0, 1.0])\n",
    "plt.xlabel('False Positive Rate')\n",
    "plt.ylabel('True Positive Rate')\n",
    "plt.title('Receiver operating characteristic example')\n",
    "plt.legend(loc=\"lower right\")\n",
    "plt.show()"
   ]
  },
  {
   "cell_type": "code",
   "execution_count": 110,
   "metadata": {},
   "outputs": [
    {
     "data": {
      "text/plain": [
       "0.7999055691009713"
      ]
     },
     "execution_count": 110,
     "metadata": {},
     "output_type": "execute_result"
    }
   ],
   "source": [
    "from sklearn.metrics import auc\n",
    "auc(fpr_ary, tpr_ary)"
   ]
  },
  {
   "cell_type": "code",
   "execution_count": 111,
   "metadata": {},
   "outputs": [
    {
     "data": {
      "text/plain": [
       "RandomForestClassifier(bootstrap=True, class_weight=None, criterion='gini',\n",
       "            max_depth=None, max_features='auto', max_leaf_nodes=None,\n",
       "            min_impurity_decrease=0.0, min_impurity_split=None,\n",
       "            min_samples_leaf=1, min_samples_split=2,\n",
       "            min_weight_fraction_leaf=0.0, n_estimators=10, n_jobs=1,\n",
       "            oob_score=False, random_state=None, verbose=0,\n",
       "            warm_start=False)"
      ]
     },
     "execution_count": 111,
     "metadata": {},
     "output_type": "execute_result"
    }
   ],
   "source": [
    "from sklearn.tree import DecisionTreeClassifier\n",
    "from sklearn.svm import SVC\n",
    "from sklearn.linear_model import LogisticRegression\n",
    "from sklearn.ensemble import RandomForestClassifier\n",
    "\n",
    "clf1 = DecisionTreeClassifier()\n",
    "clf1.fit(X_train, y_train)\n",
    "\n",
    "clf2 = SVC(probability = True)\n",
    "clf2.fit(X_train, y_train)\n",
    "\n",
    "clf3 = LogisticRegression()\n",
    "clf3.fit(X_train, y_train)\n",
    "\n",
    "clf4 = RandomForestClassifier()\n",
    "clf4.fit(X_train, y_train)"
   ]
  },
  {
   "cell_type": "code",
   "execution_count": 115,
   "metadata": {},
   "outputs": [
    {
     "data": {
      "image/png": "[encoded data removed]",
      "text/plain": [
       "<Figure size 1440x720 with 1 Axes>"
      ]
     },
     "metadata": {},
     "output_type": "display_data"
    }
   ],
   "source": [
    "from sklearn.metrics import auc\n",
    "from sklearn.metrics import roc_curve\n",
    "import matplotlib.pyplot as plt\n",
    "\n",
    "plt.figure(figsize= [20,10])\n",
    "\n",
    "for clf, title in zip([classifier,clf1,clf2,clf3, clf4], ['ANN','Decision Tree', 'SVM', 'LogisticRegression', 'RandomForest']):\n",
    "    if title != 'ANN':\n",
    "        probas_ = clf.fit(X_train, y_train).predict_proba(X_test)\n",
    "        fpr, tpr, thresholds = roc_curve(y_test, probas_[:, 1])\n",
    "    else:\n",
    "        y_pred = clf.predict(X_test)\n",
    "        fpr, tpr, thresholds = roc_curve(y_test, y_pred)\n",
    "    plt.plot(fpr, tpr, label='%s - AUC:%.2f'%(title, auc(fpr, tpr)) )\n",
    "    \n",
    "plt.plot([0, 1], [0, 1], 'k--')\n",
    "plt.xlim([0.0, 1.0])\n",
    "plt.ylim([0.0, 1.0])\n",
    "plt.xlabel('False Positive Rate', fontsize = 20)\n",
    "plt.ylabel('True Positive Rate', fontsize = 20)\n",
    "plt.title('Receiver operating characteristic example', fontsize = 20)\n",
    "plt.legend(loc=\"lower right\", fontsize = 20)\n",
    "plt.show()"
   ]
  },
  {
   "cell_type": "code",
   "execution_count": 112,
   "metadata": {},
   "outputs": [
    {
     "data": {
      "text/plain": [
       "[(1, 2), (2, 3), (3, 4)]"
      ]
     },
     "execution_count": 112,
     "metadata": {},
     "output_type": "execute_result"
    }
   ],
   "source": [
    "a = [1,2,3]\n",
    "b = [2,3,4]\n",
    "list(zip(a,b))"
   ]
  },
  {
   "cell_type": "code",
   "execution_count": null,
   "metadata": {},
   "outputs": [],
   "source": []
  }
 ],
 "metadata": {
  "kernelspec": {
   "display_name": "Python 3",
   "language": "python",
   "name": "python3"
  },
  "language_info": {
   "codemirror_mode": {
    "name": "ipython",
    "version": 3
   },
   "file_extension": ".py",
   "mimetype": "text/x-python",
   "name": "python",
   "nbconvert_exporter": "python",
   "pygments_lexer": "ipython3",
   "version": "3.6.2"
  }
 },
 "nbformat": 4,
 "nbformat_minor": 2
}
