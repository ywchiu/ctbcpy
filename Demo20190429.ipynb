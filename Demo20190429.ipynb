{
 "cells": [
  {
   "cell_type": "code",
   "execution_count": 2,
   "metadata": {},
   "outputs": [
    {
     "data": {
      "text/plain": [
       "True"
      ]
     },
     "execution_count": 2,
     "metadata": {},
     "output_type": "execute_result"
    }
   ],
   "source": [
    "p = '0912345678'\n",
    "'0912345678' == p"
   ]
  },
  {
   "cell_type": "code",
   "execution_count": 3,
   "metadata": {},
   "outputs": [],
   "source": [
    "s = '8'"
   ]
  },
  {
   "cell_type": "code",
   "execution_count": 4,
   "metadata": {},
   "outputs": [
    {
     "data": {
      "text/plain": [
       "<_sre.SRE_Match object; span=(0, 1), match='8'>"
      ]
     },
     "execution_count": 4,
     "metadata": {},
     "output_type": "execute_result"
    }
   ],
   "source": [
    "import re\n",
    "re.match('8', s)"
   ]
  },
  {
   "cell_type": "code",
   "execution_count": 6,
   "metadata": {},
   "outputs": [
    {
     "name": "stdout",
     "output_type": "stream",
     "text": [
      "None\n"
     ]
    }
   ],
   "source": [
    "print(re.match('6', s))"
   ]
  },
  {
   "cell_type": "code",
   "execution_count": 7,
   "metadata": {},
   "outputs": [
    {
     "data": {
      "text/plain": [
       "<_sre.SRE_Match object; span=(0, 1), match='8'>"
      ]
     },
     "execution_count": 7,
     "metadata": {},
     "output_type": "execute_result"
    }
   ],
   "source": [
    "# 0 or 1 or 2 ... or 9 => [0123456789]\n",
    "re.match('[0123456789]', s)"
   ]
  },
  {
   "cell_type": "code",
   "execution_count": 8,
   "metadata": {},
   "outputs": [
    {
     "data": {
      "text/plain": [
       "<_sre.SRE_Match object; span=(0, 1), match='8'>"
      ]
     },
     "execution_count": 8,
     "metadata": {},
     "output_type": "execute_result"
    }
   ],
   "source": [
    "# -: [0123456789] => [0-9]\n",
    "re.match('[0-9]', s)"
   ]
  },
  {
   "cell_type": "code",
   "execution_count": 9,
   "metadata": {},
   "outputs": [
    {
     "data": {
      "text/plain": [
       "<_sre.SRE_Match object; span=(0, 1), match='8'>"
      ]
     },
     "execution_count": 9,
     "metadata": {},
     "output_type": "execute_result"
    }
   ],
   "source": [
    "# \\d: [0-9] => \\d\n",
    "re.match('\\d', s)"
   ]
  },
  {
   "cell_type": "code",
   "execution_count": 10,
   "metadata": {},
   "outputs": [],
   "source": [
    "s = 'w'"
   ]
  },
  {
   "cell_type": "code",
   "execution_count": 11,
   "metadata": {},
   "outputs": [
    {
     "name": "stdout",
     "output_type": "stream",
     "text": [
      "None\n"
     ]
    }
   ],
   "source": [
    "print(re.match('\\d', s))"
   ]
  },
  {
   "cell_type": "code",
   "execution_count": 13,
   "metadata": {},
   "outputs": [
    {
     "name": "stdout",
     "output_type": "stream",
     "text": [
      "<_sre.SRE_Match object; span=(0, 1), match='w'>\n"
     ]
    }
   ],
   "source": [
    "print(re.match('[abcdefghijklmnopqrstuvwxyz]', s))"
   ]
  },
  {
   "cell_type": "code",
   "execution_count": 15,
   "metadata": {},
   "outputs": [
    {
     "name": "stdout",
     "output_type": "stream",
     "text": [
      "<_sre.SRE_Match object; span=(0, 1), match='w'>\n"
     ]
    }
   ],
   "source": [
    "# [abcdefghijklmnopqrstuvwxyz] => [a-z]\n",
    "print(re.match('[a-z]', s))"
   ]
  },
  {
   "cell_type": "code",
   "execution_count": 16,
   "metadata": {},
   "outputs": [
    {
     "name": "stdout",
     "output_type": "stream",
     "text": [
      "None\n"
     ]
    }
   ],
   "source": [
    "s = 'W'\n",
    "print(re.match('[a-z]', s))"
   ]
  },
  {
   "cell_type": "code",
   "execution_count": 17,
   "metadata": {},
   "outputs": [
    {
     "name": "stdout",
     "output_type": "stream",
     "text": [
      "<_sre.SRE_Match object; span=(0, 1), match='W'>\n"
     ]
    }
   ],
   "source": [
    "print(re.match('[a-zA-Z]', s))"
   ]
  },
  {
   "cell_type": "code",
   "execution_count": 18,
   "metadata": {},
   "outputs": [
    {
     "name": "stdout",
     "output_type": "stream",
     "text": [
      "None\n"
     ]
    }
   ],
   "source": [
    "s = '5'\n",
    "print(re.match('[a-zA-Z]', s))"
   ]
  },
  {
   "cell_type": "code",
   "execution_count": 19,
   "metadata": {},
   "outputs": [
    {
     "name": "stdout",
     "output_type": "stream",
     "text": [
      "<_sre.SRE_Match object; span=(0, 1), match='5'>\n"
     ]
    }
   ],
   "source": [
    "print(re.match('[a-zA-Z0-9]', s))"
   ]
  },
  {
   "cell_type": "code",
   "execution_count": 20,
   "metadata": {},
   "outputs": [
    {
     "name": "stdout",
     "output_type": "stream",
     "text": [
      "<_sre.SRE_Match object; span=(0, 1), match='5'>\n"
     ]
    }
   ],
   "source": [
    "print(re.match('[0-9a-zA-Z]', s))"
   ]
  },
  {
   "cell_type": "code",
   "execution_count": 21,
   "metadata": {},
   "outputs": [
    {
     "name": "stdout",
     "output_type": "stream",
     "text": [
      "<_sre.SRE_Match object; span=(0, 1), match='5'>\n"
     ]
    }
   ],
   "source": [
    "# [a-zA-Z0-9] => \\w\n",
    "print(re.match('\\w', s))"
   ]
  },
  {
   "cell_type": "code",
   "execution_count": 22,
   "metadata": {},
   "outputs": [],
   "source": [
    "a = '你好'"
   ]
  },
  {
   "cell_type": "code",
   "execution_count": 23,
   "metadata": {},
   "outputs": [
    {
     "data": {
      "text/plain": [
       "<_sre.SRE_Match object; span=(0, 1), match='你'>"
      ]
     },
     "execution_count": 23,
     "metadata": {},
     "output_type": "execute_result"
    }
   ],
   "source": [
    "re.match('[\\u4e00-\\u9fa5]', a)"
   ]
  },
  {
   "cell_type": "code",
   "execution_count": 25,
   "metadata": {},
   "outputs": [
    {
     "data": {
      "text/plain": [
       "<_sre.SRE_Match object; span=(0, 1), match='a'>"
      ]
     },
     "execution_count": 25,
     "metadata": {},
     "output_type": "execute_result"
    }
   ],
   "source": [
    "p = 'apple'\n",
    "re.match('\\w', p)"
   ]
  },
  {
   "cell_type": "code",
   "execution_count": 26,
   "metadata": {},
   "outputs": [
    {
     "data": {
      "text/plain": [
       "<_sre.SRE_Match object; span=(0, 5), match='apple'>"
      ]
     },
     "execution_count": 26,
     "metadata": {},
     "output_type": "execute_result"
    }
   ],
   "source": [
    "# {n} => match exact n word\n",
    "re.match('\\w{5}', p)"
   ]
  },
  {
   "cell_type": "code",
   "execution_count": 28,
   "metadata": {},
   "outputs": [
    {
     "name": "stdout",
     "output_type": "stream",
     "text": [
      "None\n"
     ]
    }
   ],
   "source": [
    "p = 'app-le'\n",
    "print(re.match('\\w{5}', p))"
   ]
  },
  {
   "cell_type": "code",
   "execution_count": 29,
   "metadata": {},
   "outputs": [
    {
     "name": "stdout",
     "output_type": "stream",
     "text": [
      "<_sre.SRE_Match object; span=(0, 5), match='app-l'>\n"
     ]
    }
   ],
   "source": [
    "print(re.match('[\\w-]{5}', p))"
   ]
  },
  {
   "cell_type": "code",
   "execution_count": 30,
   "metadata": {},
   "outputs": [
    {
     "name": "stdout",
     "output_type": "stream",
     "text": [
      "<_sre.SRE_Match object; span=(0, 6), match='app-le'>\n"
     ]
    }
   ],
   "source": [
    "# {m,n} =>  at least m charater, at most n charater\n",
    "print(re.match('[\\w-]{5,6}', p))"
   ]
  },
  {
   "cell_type": "code",
   "execution_count": 31,
   "metadata": {},
   "outputs": [
    {
     "name": "stdout",
     "output_type": "stream",
     "text": [
      "<_sre.SRE_Match object; span=(0, 6), match='app-le'>\n"
     ]
    }
   ],
   "source": [
    "# {m,} =>  at least m charaters\n",
    "print(re.match('[\\w-]{5,}', p))"
   ]
  },
  {
   "cell_type": "code",
   "execution_count": 32,
   "metadata": {},
   "outputs": [
    {
     "name": "stdout",
     "output_type": "stream",
     "text": [
      "<_sre.SRE_Match object; span=(0, 6), match='app-le'>\n"
     ]
    }
   ],
   "source": [
    "# {,n} =>  at most n charaters\n",
    "print(re.match('[\\w-]{,6}', p))"
   ]
  },
  {
   "cell_type": "code",
   "execution_count": 33,
   "metadata": {},
   "outputs": [
    {
     "name": "stdout",
     "output_type": "stream",
     "text": [
      "<_sre.SRE_Match object; span=(0, 6), match='app-le'>\n"
     ]
    }
   ],
   "source": [
    "# {1,} =>  at least 1 charaters\n",
    "print(re.match('[\\w-]{1,}', p))"
   ]
  },
  {
   "cell_type": "code",
   "execution_count": 35,
   "metadata": {},
   "outputs": [
    {
     "name": "stdout",
     "output_type": "stream",
     "text": [
      "<_sre.SRE_Match object; span=(0, 6), match='app-le'>\n"
     ]
    }
   ],
   "source": [
    "# {1,} => +\n",
    "print(re.match('[\\w-]+', p))"
   ]
  },
  {
   "cell_type": "code",
   "execution_count": 36,
   "metadata": {},
   "outputs": [
    {
     "name": "stdout",
     "output_type": "stream",
     "text": [
      "<_sre.SRE_Match object; span=(0, 6), match='app-le'>\n"
     ]
    }
   ],
   "source": [
    "# {0,} =>  at least 0 charaters\n",
    "print(re.match('[\\w-]{0,}', p))"
   ]
  },
  {
   "cell_type": "code",
   "execution_count": 37,
   "metadata": {},
   "outputs": [
    {
     "name": "stdout",
     "output_type": "stream",
     "text": [
      "<_sre.SRE_Match object; span=(0, 6), match='app-le'>\n"
     ]
    }
   ],
   "source": [
    "# {0,} => *\n",
    "print(re.match('[\\w-]*', p))"
   ]
  },
  {
   "cell_type": "code",
   "execution_count": 48,
   "metadata": {},
   "outputs": [],
   "source": [
    "phones = ['0912345678', '0912-345678','0912-345-678','091234567812310312370132']\n",
    "ary = []\n",
    "for p in phones:\n",
    "    #print(re.match('09\\d{8}',p))\n",
    "    #print(re.match('09[\\d-]{8}',p))\n",
    "    #print(re.match('09[\\d-]{8,10}',p))\n",
    "    #print(re.match('09\\d{2}-{0,1}\\d{3}-{0,1}\\d{3}',p))\n",
    "    \n",
    "    # ? => {0,1}\n",
    "    #print(re.match('09\\d{2}-?\\d{3}-?\\d{3}',p))\n",
    "    \n",
    "    # ^ match the begin, $ match the end\n",
    "    m = re.match('^09\\d{2}-?\\d{3}-?\\d{3}$',p)\n",
    "    if m:\n",
    "        ary.append(m)"
   ]
  },
  {
   "cell_type": "code",
   "execution_count": 49,
   "metadata": {},
   "outputs": [
    {
     "data": {
      "text/plain": [
       "3"
      ]
     },
     "execution_count": 49,
     "metadata": {},
     "output_type": "execute_result"
    }
   ],
   "source": [
    "len(ary)"
   ]
  },
  {
   "cell_type": "code",
   "execution_count": 51,
   "metadata": {},
   "outputs": [
    {
     "name": "stdout",
     "output_type": "stream",
     "text": [
      "exist\n"
     ]
    }
   ],
   "source": [
    "a = ['1','2','3']\n",
    "if len(a) >= 1:\n",
    "    print('exist')"
   ]
  },
  {
   "cell_type": "code",
   "execution_count": 52,
   "metadata": {},
   "outputs": [
    {
     "name": "stdout",
     "output_type": "stream",
     "text": [
      "exist\n"
     ]
    }
   ],
   "source": [
    "if a:\n",
    "    print('exist')"
   ]
  },
  {
   "cell_type": "code",
   "execution_count": 53,
   "metadata": {},
   "outputs": [],
   "source": [
    "a = []\n",
    "if a:\n",
    "    print('exist')"
   ]
  },
  {
   "cell_type": "code",
   "execution_count": 54,
   "metadata": {},
   "outputs": [
    {
     "data": {
      "text/plain": [
       "3"
      ]
     },
     "execution_count": 54,
     "metadata": {},
     "output_type": "execute_result"
    }
   ],
   "source": [
    "phones = ['0912345678', '0912-345678','0912-345-678','091234567812310312370132']\n",
    "len([p for p in phones if re.match('^09\\d{2}-?\\d{3}-?\\d{3}$',p)])"
   ]
  },
  {
   "cell_type": "code",
   "execution_count": 65,
   "metadata": {},
   "outputs": [
    {
     "name": "stdout",
     "output_type": "stream",
     "text": [
      "我的\n",
      "摔壞了\n"
     ]
    }
   ],
   "source": [
    "words = ['我的', 'iphone', '摔壞了', '柯P', '柯P參選']\n",
    "for w in words:\n",
    "    #m = re.match('[\\u4e00-\\u9fa5]+',w)\n",
    "    \n",
    "    # ^ : match begin, [^ ...]: not\n",
    "    #m = re.match('[^\\u4e00-\\u9fa5]+',w)\n",
    "    #m = re.search('[a-zA-Z]+', w)\n",
    "    \n",
    "    # match: 100% match, search: partial match\n",
    "    m = re.match('^[\\u4e00-\\u9fa5]+$',w)\n",
    "    if m:\n",
    "        print(w)"
   ]
  },
  {
   "cell_type": "code",
   "execution_count": 67,
   "metadata": {},
   "outputs": [
    {
     "data": {
      "text/plain": [
       "<_sre.SRE_Match object; span=(0, 48), match='😋 Get Emoji — All Emojis to ✂ Copy and 📋 Paste 👌'>"
      ]
     },
     "execution_count": 67,
     "metadata": {},
     "output_type": "execute_result"
    }
   ],
   "source": [
    "words = '😋 Get Emoji — All Emojis to ✂ Copy and 📋 Paste 👌'\n",
    "# . match any charaters\n",
    "m = re.match('.+', words)\n",
    "m\n"
   ]
  },
  {
   "cell_type": "code",
   "execution_count": 68,
   "metadata": {},
   "outputs": [
    {
     "name": "stdout",
     "output_type": "stream",
     "text": [
      "<_sre.SRE_Match object; span=(0, 15), match='david@largidata'>\n"
     ]
    }
   ],
   "source": [
    "import re \n",
    "m = re.match(\"\\w+@\\w+\", \"david@largidata.com\") \n",
    "print(m)"
   ]
  },
  {
   "cell_type": "code",
   "execution_count": 70,
   "metadata": {},
   "outputs": [
    {
     "data": {
      "text/plain": [
       "<_sre.SRE_Match object; span=(0, 19), match='david@largidata.com'>"
      ]
     },
     "execution_count": 70,
     "metadata": {},
     "output_type": "execute_result"
    }
   ],
   "source": [
    "m = re.match(\"\\w+@[\\w.]+\", \"david@largidata.com\") \n",
    "m"
   ]
  },
  {
   "cell_type": "code",
   "execution_count": 71,
   "metadata": {},
   "outputs": [
    {
     "data": {
      "text/plain": [
       "<_sre.SRE_Match object; span=(0, 15), match='david@largidata'>"
      ]
     },
     "execution_count": 71,
     "metadata": {},
     "output_type": "execute_result"
    }
   ],
   "source": [
    "m = re.match(\"\\w+@[\\w.]+\", \"david@largidata@com\") \n",
    "m"
   ]
  },
  {
   "cell_type": "code",
   "execution_count": 73,
   "metadata": {},
   "outputs": [
    {
     "data": {
      "text/plain": [
       "('david', 'largidata.com')"
      ]
     },
     "execution_count": 73,
     "metadata": {},
     "output_type": "execute_result"
    }
   ],
   "source": [
    "# () => group\n",
    "m = re.match(\"(\\w+)@([\\w.]+)\", \"david@largidata.com\") \n",
    "m.groups()"
   ]
  },
  {
   "cell_type": "code",
   "execution_count": 74,
   "metadata": {},
   "outputs": [
    {
     "data": {
      "text/plain": [
       "'david'"
      ]
     },
     "execution_count": 74,
     "metadata": {},
     "output_type": "execute_result"
    }
   ],
   "source": [
    "m = re.match(\"(\\w+)@([\\w.]+)\", \"david@largidata.com\") \n",
    "m.group(1)"
   ]
  },
  {
   "cell_type": "code",
   "execution_count": 75,
   "metadata": {},
   "outputs": [
    {
     "data": {
      "text/plain": [
       "'largidata.com'"
      ]
     },
     "execution_count": 75,
     "metadata": {},
     "output_type": "execute_result"
    }
   ],
   "source": [
    "m.group(2)"
   ]
  },
  {
   "cell_type": "code",
   "execution_count": 77,
   "metadata": {},
   "outputs": [
    {
     "name": "stdout",
     "output_type": "stream",
     "text": [
      "David Chiu\n"
     ]
    }
   ],
   "source": [
    "m = re.match(\"(\\w+) (\\w+)\", \"David Chiu\") \n",
    "print(m.group(1), m.group(2))\n"
   ]
  },
  {
   "cell_type": "code",
   "execution_count": 78,
   "metadata": {},
   "outputs": [
    {
     "name": "stdout",
     "output_type": "stream",
     "text": [
      "David Chiu\n"
     ]
    }
   ],
   "source": [
    "m = re.match(\"(?P<first_name>\\w+) (?P<last_name>\\w+)\", \"David Chiu\") \n",
    "print(m.group('first_name'), m.group('last_name'))"
   ]
  },
  {
   "cell_type": "code",
   "execution_count": 79,
   "metadata": {},
   "outputs": [
    {
     "name": "stdout",
     "output_type": "stream",
     "text": [
      "file.txt root 10.0.0.1 ./\n"
     ]
    }
   ],
   "source": [
    "str1 = 'scp file.txt root@10.0.0.1:./' \n",
    "m=re.search('^scp ([\\w.]+) (\\w+)@([\\w\\.]+):(.+)',str1) \n",
    "if m: \n",
    "    print(m.group(1), m.group(2), m.group(3), m.group(4))\n"
   ]
  },
  {
   "cell_type": "code",
   "execution_count": 81,
   "metadata": {},
   "outputs": [],
   "source": [
    "import pandas as pd\n",
    "df = pd.read_csv('https://raw.githubusercontent.com/ywchiu/ctbcpy/master/data/rent_591.csv', index_col= 0)"
   ]
  },
  {
   "cell_type": "code",
   "execution_count": 84,
   "metadata": {},
   "outputs": [
    {
     "data": {
      "text/plain": [
       "('2', '1', '1', '1')"
      ]
     },
     "execution_count": 84,
     "metadata": {},
     "output_type": "execute_result"
    }
   ],
   "source": [
    "s = '2房1廳1衛1陽臺'\n",
    "import re\n",
    "m = re.match('(\\d+)房(\\d+)廳(\\d+)衛(\\d+)陽臺',s)\n",
    "m.groups()"
   ]
  },
  {
   "cell_type": "code",
   "execution_count": 89,
   "metadata": {},
   "outputs": [],
   "source": [
    "def matchStr(e):\n",
    "    m = re.match('(\\d+)房(\\d+)廳(\\d+)衛(\\d+)陽臺', e)\n",
    "    return m.groups()\n",
    "\n",
    "#df['layout'].map(matchStr)"
   ]
  },
  {
   "cell_type": "code",
   "execution_count": 91,
   "metadata": {},
   "outputs": [],
   "source": [
    "df[['bedroom', 'living_room', 'bathroom', 'balcony']] = df['layout'].str.extract('(\\d+)房(\\d+)廳(\\d+)衛(\\d+)陽臺')"
   ]
  },
  {
   "cell_type": "code",
   "execution_count": 104,
   "metadata": {},
   "outputs": [
    {
     "data": {
      "text/plain": [
       "0    True\n",
       "1    True\n",
       "2    True\n",
       "dtype: bool"
      ]
     },
     "execution_count": 104,
     "metadata": {},
     "output_type": "execute_result"
    }
   ],
   "source": [
    "#df['address'].str.extract('(.+[市縣])(.+[區市鄉鎮])(.+[路街巷])').isnull().any()\n",
    "#df['address']"
   ]
  },
  {
   "cell_type": "code",
   "execution_count": 115,
   "metadata": {},
   "outputs": [
    {
     "data": {
      "text/html": [
       "<div>\n",
       "<style scoped>\n",
       "    .dataframe tbody tr th:only-of-type {\n",
       "        vertical-align: middle;\n",
       "    }\n",
       "\n",
       "    .dataframe tbody tr th {\n",
       "        vertical-align: top;\n",
       "    }\n",
       "\n",
       "    .dataframe thead th {\n",
       "        text-align: right;\n",
       "    }\n",
       "</style>\n",
       "<table border=\"1\" class=\"dataframe\">\n",
       "  <thead>\n",
       "    <tr style=\"text-align: right;\">\n",
       "      <th></th>\n",
       "      <th>0</th>\n",
       "      <th>1</th>\n",
       "      <th>2</th>\n",
       "    </tr>\n",
       "  </thead>\n",
       "  <tbody>\n",
       "  </tbody>\n",
       "</table>\n",
       "</div>"
      ],
      "text/plain": [
       "Empty DataFrame\n",
       "Columns: [0, 1, 2]\n",
       "Index: []"
      ]
     },
     "execution_count": 115,
     "metadata": {},
     "output_type": "execute_result"
    }
   ],
   "source": [
    "# *?, +? => non greedy match\n",
    "df2 = df['address'].str.extract('(.+?[市縣])(.+?[區市鄉鎮])(.+?[路街巷段])')\n",
    "df2[df2[0].isnull()]"
   ]
  },
  {
   "cell_type": "code",
   "execution_count": null,
   "metadata": {},
   "outputs": [],
   "source": []
  }
 ],
 "metadata": {
  "kernelspec": {
   "display_name": "Python 3",
   "language": "python",
   "name": "python3"
  },
  "language_info": {
   "codemirror_mode": {
    "name": "ipython",
    "version": 3
   },
   "file_extension": ".py",
   "mimetype": "text/x-python",
   "name": "python",
   "nbconvert_exporter": "python",
   "pygments_lexer": "ipython3",
   "version": "3.6.2"
  }
 },
 "nbformat": 4,
 "nbformat_minor": 2
}
