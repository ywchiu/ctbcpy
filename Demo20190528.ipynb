{
 "cells": [
  {
   "cell_type": "code",
   "execution_count": 1,
   "metadata": {},
   "outputs": [],
   "source": [
    "from sklearn.datasets import load_iris\n",
    "iris = load_iris()\n"
   ]
  },
  {
   "cell_type": "code",
   "execution_count": 3,
   "metadata": {},
   "outputs": [
    {
     "data": {
      "text/plain": [
       "array([[5.1, 3.5, 1.4, 0.2],\n",
       "       [4.9, 3. , 1.4, 0.2],\n",
       "       [4.7, 3.2, 1.3, 0.2]])"
      ]
     },
     "execution_count": 3,
     "metadata": {},
     "output_type": "execute_result"
    }
   ],
   "source": [
    "iris.data[0:3]"
   ]
  },
  {
   "cell_type": "code",
   "execution_count": 4,
   "metadata": {},
   "outputs": [
    {
     "data": {
      "text/plain": [
       "(150, 4)"
      ]
     },
     "execution_count": 4,
     "metadata": {},
     "output_type": "execute_result"
    }
   ],
   "source": [
    "iris.data.shape"
   ]
  },
  {
   "cell_type": "code",
   "execution_count": 7,
   "metadata": {},
   "outputs": [
    {
     "data": {
      "application/json": {
       "cell": {
        "!": "OSMagics",
        "HTML": "Other",
        "SVG": "Other",
        "bash": "Other",
        "capture": "ExecutionMagics",
        "debug": "ExecutionMagics",
        "file": "Other",
        "html": "DisplayMagics",
        "javascript": "DisplayMagics",
        "js": "DisplayMagics",
        "latex": "DisplayMagics",
        "perl": "Other",
        "prun": "ExecutionMagics",
        "pypy": "Other",
        "python": "Other",
        "python2": "Other",
        "python3": "Other",
        "ruby": "Other",
        "script": "ScriptMagics",
        "sh": "Other",
        "svg": "DisplayMagics",
        "sx": "OSMagics",
        "system": "OSMagics",
        "time": "ExecutionMagics",
        "timeit": "ExecutionMagics",
        "writefile": "OSMagics"
       },
       "line": {
        "alias": "OSMagics",
        "alias_magic": "BasicMagics",
        "autocall": "AutoMagics",
        "automagic": "AutoMagics",
        "autosave": "KernelMagics",
        "bookmark": "OSMagics",
        "cat": "Other",
        "cd": "OSMagics",
        "clear": "KernelMagics",
        "colors": "BasicMagics",
        "config": "ConfigMagics",
        "connect_info": "KernelMagics",
        "cp": "Other",
        "debug": "ExecutionMagics",
        "dhist": "OSMagics",
        "dirs": "OSMagics",
        "doctest_mode": "BasicMagics",
        "ed": "Other",
        "edit": "KernelMagics",
        "env": "OSMagics",
        "gui": "BasicMagics",
        "hist": "Other",
        "history": "HistoryMagics",
        "killbgscripts": "ScriptMagics",
        "ldir": "Other",
        "less": "KernelMagics",
        "lf": "Other",
        "lk": "Other",
        "ll": "Other",
        "load": "CodeMagics",
        "load_ext": "ExtensionMagics",
        "loadpy": "CodeMagics",
        "logoff": "LoggingMagics",
        "logon": "LoggingMagics",
        "logstart": "LoggingMagics",
        "logstate": "LoggingMagics",
        "logstop": "LoggingMagics",
        "ls": "Other",
        "lsmagic": "BasicMagics",
        "lx": "Other",
        "macro": "ExecutionMagics",
        "magic": "BasicMagics",
        "man": "KernelMagics",
        "matplotlib": "PylabMagics",
        "mkdir": "Other",
        "more": "KernelMagics",
        "mv": "Other",
        "notebook": "BasicMagics",
        "page": "BasicMagics",
        "pastebin": "CodeMagics",
        "pdb": "ExecutionMagics",
        "pdef": "NamespaceMagics",
        "pdoc": "NamespaceMagics",
        "pfile": "NamespaceMagics",
        "pinfo": "NamespaceMagics",
        "pinfo2": "NamespaceMagics",
        "popd": "OSMagics",
        "pprint": "BasicMagics",
        "precision": "BasicMagics",
        "profile": "BasicMagics",
        "prun": "ExecutionMagics",
        "psearch": "NamespaceMagics",
        "psource": "NamespaceMagics",
        "pushd": "OSMagics",
        "pwd": "OSMagics",
        "pycat": "OSMagics",
        "pylab": "PylabMagics",
        "qtconsole": "KernelMagics",
        "quickref": "BasicMagics",
        "recall": "HistoryMagics",
        "rehashx": "OSMagics",
        "reload_ext": "ExtensionMagics",
        "rep": "Other",
        "rerun": "HistoryMagics",
        "reset": "NamespaceMagics",
        "reset_selective": "NamespaceMagics",
        "rm": "Other",
        "rmdir": "Other",
        "run": "ExecutionMagics",
        "save": "CodeMagics",
        "sc": "OSMagics",
        "set_env": "OSMagics",
        "store": "StoreMagics",
        "sx": "OSMagics",
        "system": "OSMagics",
        "tb": "ExecutionMagics",
        "time": "ExecutionMagics",
        "timeit": "ExecutionMagics",
        "unalias": "OSMagics",
        "unload_ext": "ExtensionMagics",
        "who": "NamespaceMagics",
        "who_ls": "NamespaceMagics",
        "whos": "NamespaceMagics",
        "xdel": "NamespaceMagics",
        "xmode": "BasicMagics"
       }
      },
      "text/plain": [
       "Available line magics:\n",
       "%alias  %alias_magic  %autocall  %automagic  %autosave  %bookmark  %cat  %cd  %clear  %colors  %config  %connect_info  %cp  %debug  %dhist  %dirs  %doctest_mode  %ed  %edit  %env  %gui  %hist  %history  %killbgscripts  %ldir  %less  %lf  %lk  %ll  %load  %load_ext  %loadpy  %logoff  %logon  %logstart  %logstate  %logstop  %ls  %lsmagic  %lx  %macro  %magic  %man  %matplotlib  %mkdir  %more  %mv  %notebook  %page  %pastebin  %pdb  %pdef  %pdoc  %pfile  %pinfo  %pinfo2  %popd  %pprint  %precision  %profile  %prun  %psearch  %psource  %pushd  %pwd  %pycat  %pylab  %qtconsole  %quickref  %recall  %rehashx  %reload_ext  %rep  %rerun  %reset  %reset_selective  %rm  %rmdir  %run  %save  %sc  %set_env  %store  %sx  %system  %tb  %time  %timeit  %unalias  %unload_ext  %who  %who_ls  %whos  %xdel  %xmode\n",
       "\n",
       "Available cell magics:\n",
       "%%!  %%HTML  %%SVG  %%bash  %%capture  %%debug  %%file  %%html  %%javascript  %%js  %%latex  %%perl  %%prun  %%pypy  %%python  %%python2  %%python3  %%ruby  %%script  %%sh  %%svg  %%sx  %%system  %%time  %%timeit  %%writefile\n",
       "\n",
       "Automagic is ON, % prefix IS NOT needed for line magics."
      ]
     },
     "execution_count": 7,
     "metadata": {},
     "output_type": "execute_result"
    }
   ],
   "source": [
    "%lsmagic "
   ]
  },
  {
   "cell_type": "code",
   "execution_count": 6,
   "metadata": {},
   "outputs": [
    {
     "name": "stdout",
     "output_type": "stream",
     "text": [
      "Populating the interactive namespace from numpy and matplotlib\n"
     ]
    },
    {
     "data": {
      "image/png": "[encoded data removed]",
      "text/plain": [
       "<Figure size 432x288 with 1 Axes>"
      ]
     },
     "metadata": {},
     "output_type": "display_data"
    }
   ],
   "source": [
    "%pylab inline\n",
    "import scipy.cluster.hierarchy as sch\n",
    "import matplotlib.pyplot as plt\n",
    "dendrogram = sch.dendrogram(sch.linkage(iris.data, method = 'ward'))\n",
    "plt.title('Dendrogram')\n",
    "plt.xlabel('Iris')\n",
    "plt.ylabel('Euclidean distances')\n",
    "plt.show()\n"
   ]
  },
  {
   "cell_type": "code",
   "execution_count": 8,
   "metadata": {},
   "outputs": [
    {
     "data": {
      "text/plain": [
       "<matplotlib.collections.PathCollection at 0x11f146f98>"
      ]
     },
     "execution_count": 8,
     "metadata": {},
     "output_type": "execute_result"
    },
    {
     "data": {
      "image/png": "[encoded data removed]",
      "text/plain": [
       "<Figure size 432x288 with 1 Axes>"
      ]
     },
     "metadata": {},
     "output_type": "display_data"
    }
   ],
   "source": [
    "plt.scatter(iris.data[:, 2], iris.data[:, 3], s = 100, c = 'black', label = 'iris')\n"
   ]
  },
  {
   "cell_type": "code",
   "execution_count": 9,
   "metadata": {},
   "outputs": [],
   "source": [
    "from sklearn.cluster import AgglomerativeClustering\n",
    "hc = AgglomerativeClustering(n_clusters = 3, affinity = 'euclidean', linkage = 'ward')\n",
    "y_hc = hc.fit_predict(iris.data)\n"
   ]
  },
  {
   "cell_type": "code",
   "execution_count": 10,
   "metadata": {},
   "outputs": [
    {
     "data": {
      "text/plain": [
       "array([1, 1, 1, 1, 1, 1, 1, 1, 1, 1, 1, 1, 1, 1, 1, 1, 1, 1, 1, 1, 1, 1,\n",
       "       1, 1, 1, 1, 1, 1, 1, 1, 1, 1, 1, 1, 1, 1, 1, 1, 1, 1, 1, 1, 1, 1,\n",
       "       1, 1, 1, 1, 1, 1, 0, 0, 0, 0, 0, 0, 0, 0, 0, 0, 0, 0, 0, 0, 0, 0,\n",
       "       0, 0, 0, 0, 0, 0, 0, 0, 0, 0, 0, 2, 0, 0, 0, 0, 0, 0, 0, 0, 0, 0,\n",
       "       0, 0, 0, 0, 0, 0, 0, 0, 0, 0, 0, 0, 2, 0, 2, 2, 2, 2, 0, 2, 2, 2,\n",
       "       2, 2, 2, 0, 0, 2, 2, 2, 2, 0, 2, 0, 2, 0, 2, 2, 0, 0, 2, 2, 2, 2,\n",
       "       2, 0, 0, 2, 2, 2, 0, 2, 2, 2, 0, 2, 2, 2, 0, 2, 2, 0])"
      ]
     },
     "execution_count": 10,
     "metadata": {},
     "output_type": "execute_result"
    }
   ],
   "source": [
    "y_hc"
   ]
  },
  {
   "cell_type": "code",
   "execution_count": 11,
   "metadata": {},
   "outputs": [
    {
     "data": {
      "image/png": "[encoded data removed]",
      "text/plain": [
       "<Figure size 432x288 with 1 Axes>"
      ]
     },
     "metadata": {},
     "output_type": "display_data"
    }
   ],
   "source": [
    "plt.scatter(iris.data[y_hc == 0, 2], iris.data[y_hc == 0, 3], s = 100, c = 'red', label = 'Cluster 1')\n",
    "plt.scatter(iris.data[y_hc == 1, 2], iris.data[y_hc == 1, 3], s = 100, c = 'blue', label = 'Cluster 2')\n",
    "plt.scatter(iris.data[y_hc == 2, 2], iris.data[y_hc == 2, 3], s = 100, c = 'green', label = 'Cluster 3')\n",
    "\n",
    "plt.title('Clusters of Iris')\n",
    "plt.xlabel('Petal.Length')\n",
    "plt.ylabel('Petal.Width')\n",
    "plt.legend()\n",
    "plt.show()\n"
   ]
  },
  {
   "cell_type": "code",
   "execution_count": 12,
   "metadata": {},
   "outputs": [
    {
     "name": "stdout",
     "output_type": "stream",
     "text": [
      "Iris Plants Database\n",
      "====================\n",
      "\n",
      "Notes\n",
      "-----\n",
      "Data Set Characteristics:\n",
      "    :Number of Instances: 150 (50 in each of three classes)\n",
      "    :Number of Attributes: 4 numeric, predictive attributes and the class\n",
      "    :Attribute Information:\n",
      "        - sepal length in cm\n",
      "        - sepal width in cm\n",
      "        - petal length in cm\n",
      "        - petal width in cm\n",
      "        - class:\n",
      "                - Iris-Setosa\n",
      "                - Iris-Versicolour\n",
      "                - Iris-Virginica\n",
      "    :Summary Statistics:\n",
      "\n",
      "    ============== ==== ==== ======= ===== ====================\n",
      "                    Min  Max   Mean    SD   Class Correlation\n",
      "    ============== ==== ==== ======= ===== ====================\n",
      "    sepal length:   4.3  7.9   5.84   0.83    0.7826\n",
      "    sepal width:    2.0  4.4   3.05   0.43   -0.4194\n",
      "    petal length:   1.0  6.9   3.76   1.76    0.9490  (high!)\n",
      "    petal width:    0.1  2.5   1.20  0.76     0.9565  (high!)\n",
      "    ============== ==== ==== ======= ===== ====================\n",
      "\n",
      "    :Missing Attribute Values: None\n",
      "    :Class Distribution: 33.3% for each of 3 classes.\n",
      "    :Creator: R.A. Fisher\n",
      "    :Donor: Michael Marshall (MARSHALL%PLU@io.arc.nasa.gov)\n",
      "    :Date: July, 1988\n",
      "\n",
      "This is a copy of UCI ML iris datasets.\n",
      "http://archive.ics.uci.edu/ml/datasets/Iris\n",
      "\n",
      "The famous Iris database, first used by Sir R.A Fisher\n",
      "\n",
      "This is perhaps the best known database to be found in the\n",
      "pattern recognition literature.  Fisher's paper is a classic in the field and\n",
      "is referenced frequently to this day.  (See Duda & Hart, for example.)  The\n",
      "data set contains 3 classes of 50 instances each, where each class refers to a\n",
      "type of iris plant.  One class is linearly separable from the other 2; the\n",
      "latter are NOT linearly separable from each other.\n",
      "\n",
      "References\n",
      "----------\n",
      "   - Fisher,R.A. \"The use of multiple measurements in taxonomic problems\"\n",
      "     Annual Eugenics, 7, Part II, 179-188 (1936); also in \"Contributions to\n",
      "     Mathematical Statistics\" (John Wiley, NY, 1950).\n",
      "   - Duda,R.O., & Hart,P.E. (1973) Pattern Classification and Scene Analysis.\n",
      "     (Q327.D83) John Wiley & Sons.  ISBN 0-471-22361-1.  See page 218.\n",
      "   - Dasarathy, B.V. (1980) \"Nosing Around the Neighborhood: A New System\n",
      "     Structure and Classification Rule for Recognition in Partially Exposed\n",
      "     Environments\".  IEEE Transactions on Pattern Analysis and Machine\n",
      "     Intelligence, Vol. PAMI-2, No. 1, 67-71.\n",
      "   - Gates, G.W. (1972) \"The Reduced Nearest Neighbor Rule\".  IEEE Transactions\n",
      "     on Information Theory, May 1972, 431-433.\n",
      "   - See also: 1988 MLC Proceedings, 54-64.  Cheeseman et al\"s AUTOCLASS II\n",
      "     conceptual clustering system finds 3 classes in the data.\n",
      "   - Many, many more ...\n",
      "\n"
     ]
    }
   ],
   "source": [
    "print(iris.DESCR)"
   ]
  },
  {
   "cell_type": "code",
   "execution_count": 13,
   "metadata": {},
   "outputs": [
    {
     "data": {
      "image/png": "[encoded data removed]",
      "text/plain": [
       "<Figure size 432x288 with 1 Axes>"
      ]
     },
     "metadata": {},
     "output_type": "display_data"
    }
   ],
   "source": [
    "plt.scatter(iris.data[iris.target == 0, 2], iris.data[iris.target == 0, 3], s = 100, c = 'red', label = 'Cluster 1')\n",
    "plt.scatter(iris.data[iris.target == 1, 2], iris.data[iris.target == 1, 3], s = 100, c = 'blue', label = 'Cluster 2')\n",
    "plt.scatter(iris.data[iris.target == 2, 2], iris.data[iris.target == 2, 3], s = 100, c = 'green', label = 'Cluster 3')\n",
    "\n",
    "plt.title('Original Iris')\n",
    "plt.xlabel('Petal.Length')\n",
    "plt.ylabel('Petal.Width')\n",
    "plt.legend()\n",
    "plt.show()\n"
   ]
  },
  {
   "cell_type": "code",
   "execution_count": 14,
   "metadata": {},
   "outputs": [
    {
     "data": {
      "image/png": "[encoded data removed]",
      "text/plain": [
       "<Figure size 432x288 with 1 Axes>"
      ]
     },
     "metadata": {},
     "output_type": "display_data"
    }
   ],
   "source": [
    "plt.scatter(iris.data[y_hc == 0, 2], iris.data[y_hc == 0, 3], s = 100, c = 'red', label = 'Cluster 1')\n",
    "plt.scatter(iris.data[y_hc == 1, 2], iris.data[y_hc == 1, 3], s = 100, c = 'blue', label = 'Cluster 2')\n",
    "plt.scatter(iris.data[y_hc == 2, 2], iris.data[y_hc == 2, 3], s = 100, c = 'green', label = 'Cluster 3')\n",
    "\n",
    "plt.title('Clusters of Iris')\n",
    "plt.xlabel('Petal.Length')\n",
    "plt.ylabel('Petal.Width')\n",
    "plt.legend()\n",
    "plt.show()\n"
   ]
  },
  {
   "cell_type": "code",
   "execution_count": 78,
   "metadata": {},
   "outputs": [
    {
     "data": {
      "text/plain": [
       "0.052363598850944326"
      ]
     },
     "execution_count": 78,
     "metadata": {},
     "output_type": "execute_result"
    }
   ],
   "source": [
    "import numpy\n",
    "import random\n",
    "\n",
    "random.seed( 123 )\n",
    "random.random()"
   ]
  },
  {
   "cell_type": "code",
   "execution_count": 79,
   "metadata": {},
   "outputs": [
    {
     "data": {
      "text/plain": [
       "array([1, 1, 1, 1, 1, 1, 1, 1, 1, 1, 1, 1, 1, 1, 1, 1, 1, 1, 1, 1, 1, 1,\n",
       "       1, 1, 1, 1, 1, 1, 1, 1, 1, 1, 1, 1, 1, 1, 1, 1, 1, 1, 1, 1, 1, 1,\n",
       "       1, 1, 1, 1, 1, 1, 2, 2, 0, 2, 2, 2, 2, 2, 2, 2, 2, 2, 2, 2, 2, 2,\n",
       "       2, 2, 2, 2, 2, 2, 2, 2, 2, 2, 2, 0, 2, 2, 2, 2, 2, 2, 2, 2, 2, 2,\n",
       "       2, 2, 2, 2, 2, 2, 2, 2, 2, 2, 2, 2, 0, 2, 0, 0, 0, 0, 2, 0, 0, 0,\n",
       "       0, 0, 0, 2, 2, 0, 0, 0, 0, 2, 0, 2, 0, 2, 0, 0, 2, 2, 0, 0, 0, 0,\n",
       "       0, 2, 0, 0, 0, 0, 2, 0, 0, 0, 2, 0, 0, 0, 2, 0, 0, 2], dtype=int32)"
      ]
     },
     "execution_count": 79,
     "metadata": {},
     "output_type": "execute_result"
    }
   ],
   "source": [
    "from sklearn.cluster import KMeans\n",
    "kmeans = KMeans(n_clusters = 3, init = 'k-means++', random_state = 123)\n",
    "y_kmeans = kmeans.fit_predict(iris.data)\n",
    "y_kmeans\n"
   ]
  },
  {
   "cell_type": "code",
   "execution_count": 80,
   "metadata": {},
   "outputs": [
    {
     "data": {
      "image/png": "[encoded data removed]",
      "text/plain": [
       "<Figure size 432x288 with 1 Axes>"
      ]
     },
     "metadata": {},
     "output_type": "display_data"
    }
   ],
   "source": [
    "plt.scatter(iris.data[y_kmeans == 0, 2], iris.data[y_kmeans == 0, 3], s = 100, c = 'red', label = 'Cluster 1')\n",
    "plt.scatter(iris.data[y_kmeans == 1, 2], iris.data[y_kmeans == 1, 3], s = 100, c = 'blue', label = 'Cluster 2')\n",
    "plt.scatter(iris.data[y_kmeans == 2, 2], iris.data[y_kmeans == 2, 3], s = 100, c = 'green', label = 'Cluster 3')\n",
    "\n",
    "plt.title('Clusters of Iris')\n",
    "plt.xlabel('Petal.Length')\n",
    "plt.ylabel('Petal.Width')\n",
    "plt.legend()\n",
    "plt.show()\n"
   ]
  },
  {
   "cell_type": "code",
   "execution_count": 81,
   "metadata": {},
   "outputs": [
    {
     "data": {
      "text/plain": [
       "array([[6.85      , 3.07368421, 5.74210526, 2.07105263],\n",
       "       [5.006     , 3.418     , 1.464     , 0.244     ],\n",
       "       [5.9016129 , 2.7483871 , 4.39354839, 1.43387097]])"
      ]
     },
     "execution_count": 81,
     "metadata": {},
     "output_type": "execute_result"
    }
   ],
   "source": [
    "kmeans.cluster_centers_"
   ]
  },
  {
   "cell_type": "code",
   "execution_count": 83,
   "metadata": {},
   "outputs": [
    {
     "data": {
      "image/png": "[encoded data removed]",
      "text/plain": [
       "<Figure size 432x288 with 1 Axes>"
      ]
     },
     "metadata": {},
     "output_type": "display_data"
    }
   ],
   "source": [
    "plt.scatter(iris.data[y_kmeans == 0, 2], iris.data[y_kmeans == 0, 3], s = 100, c = 'red', label = 'Cluster 1')\n",
    "plt.scatter(iris.data[y_kmeans == 1, 2], iris.data[y_kmeans == 1, 3], s = 100, c = 'blue', label = 'Cluster 2')\n",
    "plt.scatter(iris.data[y_kmeans == 2, 2], iris.data[y_kmeans == 2, 3], s = 100, c = 'green', label = 'Cluster 3')\n",
    "plt.scatter(kmeans.cluster_centers_[:, 2], kmeans.cluster_centers_[:, 3], s = 100, c = 'yellow', label = 'Centroids')\n",
    "\n",
    "plt.title('Clusters of Iris')\n",
    "plt.xlabel('Petal.Length')\n",
    "plt.ylabel('Petal.Width')\n",
    "plt.legend()\n",
    "plt.show()\n",
    "\n"
   ]
  },
  {
   "cell_type": "markdown",
   "metadata": {},
   "source": [
    "## 客戶分層"
   ]
  },
  {
   "cell_type": "code",
   "execution_count": 152,
   "metadata": {},
   "outputs": [],
   "source": [
    "import pandas\n",
    "dataset = pandas.read_csv('https://raw.githubusercontent.com/ywchiu/ctbcpy/master/data/customers.csv')"
   ]
  },
  {
   "cell_type": "code",
   "execution_count": 170,
   "metadata": {},
   "outputs": [
    {
     "data": {
      "text/plain": [
       "array([[15, 39],\n",
       "       [15, 81],\n",
       "       [16,  6]])"
      ]
     },
     "execution_count": 170,
     "metadata": {},
     "output_type": "execute_result"
    }
   ],
   "source": [
    "X = dataset.iloc[:, [3, 4]].values\n",
    "X[0:3]"
   ]
  },
  {
   "cell_type": "code",
   "execution_count": 174,
   "metadata": {},
   "outputs": [],
   "source": [
    "from sklearn.cluster import KMeans\n",
    "kmeans = KMeans(n_clusters = 5, init = 'k-means++', random_state = 42)\n",
    "y_kmeans = kmeans.fit_predict(X)\n"
   ]
  },
  {
   "cell_type": "code",
   "execution_count": 175,
   "metadata": {},
   "outputs": [
    {
     "data": {
      "text/plain": [
       "array([2, 4, 2, 4, 2, 4, 2, 4, 2, 4, 2, 4, 2, 4, 2, 4, 2, 4, 2, 4, 2, 4,\n",
       "       2, 4, 2, 4, 2, 4, 2, 4, 2, 4, 2, 4, 2, 4, 2, 4, 2, 4, 2, 4, 2, 0,\n",
       "       2, 4, 0, 0, 0, 0, 0, 0, 0, 0, 0, 0, 0, 0, 0, 0, 0, 0, 0, 0, 0, 0,\n",
       "       0, 0, 0, 0, 0, 0, 0, 0, 0, 0, 0, 0, 0, 0, 0, 0, 0, 0, 0, 0, 0, 0,\n",
       "       0, 0, 0, 0, 0, 0, 0, 0, 0, 0, 0, 0, 0, 0, 0, 0, 0, 0, 0, 0, 0, 0,\n",
       "       0, 0, 0, 0, 0, 0, 0, 0, 0, 0, 0, 0, 0, 3, 1, 3, 0, 3, 1, 3, 1, 3,\n",
       "       0, 3, 1, 3, 1, 3, 1, 3, 1, 3, 0, 3, 1, 3, 1, 3, 1, 3, 1, 3, 1, 3,\n",
       "       1, 3, 1, 3, 1, 3, 1, 3, 1, 3, 1, 3, 1, 3, 1, 3, 1, 3, 1, 3, 1, 3,\n",
       "       1, 3, 1, 3, 1, 3, 1, 3, 1, 3, 1, 3, 1, 3, 1, 3, 1, 3, 1, 3, 1, 3,\n",
       "       1, 3], dtype=int32)"
      ]
     },
     "execution_count": 175,
     "metadata": {},
     "output_type": "execute_result"
    }
   ],
   "source": [
    "y_kmeans"
   ]
  },
  {
   "cell_type": "code",
   "execution_count": 176,
   "metadata": {},
   "outputs": [
    {
     "data": {
      "image/png": "[encoded data removed]",
      "text/plain": [
       "<Figure size 432x288 with 1 Axes>"
      ]
     },
     "metadata": {},
     "output_type": "display_data"
    }
   ],
   "source": [
    "plt.scatter(X[y_kmeans == 0, 0], X[y_kmeans == 0, 1], s = 100, c = 'red', label = 'Cluster 1')\n",
    "plt.scatter(X[y_kmeans == 1, 0], X[y_kmeans == 1, 1], s = 100, c = 'blue', label = 'Cluster 2')\n",
    "plt.scatter(X[y_kmeans == 2, 0], X[y_kmeans == 2, 1], s = 100, c = 'green', label = 'Cluster 3')\n",
    "plt.scatter(X[y_kmeans == 3, 0], X[y_kmeans == 3, 1], s = 100, c = 'cyan', label = 'Cluster 4')\n",
    "plt.scatter(X[y_kmeans == 4, 0], X[y_kmeans == 4, 1], s = 100, c = 'magenta', label = 'Cluster 5')\n",
    "plt.scatter(kmeans.cluster_centers_[:, 0], kmeans.cluster_centers_[:, 1], s = 300, c = 'yellow', label = 'Centroids')\n",
    "plt.title('Clusters of customers')\n",
    "plt.xlabel('Annual Income (k$)')\n",
    "plt.ylabel('Spending Score (1-100)')\n",
    "plt.legend()\n",
    "plt.show()\n"
   ]
  },
  {
   "cell_type": "markdown",
   "metadata": {},
   "source": [
    "## Elbow Method"
   ]
  },
  {
   "cell_type": "code",
   "execution_count": 92,
   "metadata": {},
   "outputs": [
    {
     "data": {
      "text/plain": [
       "44448.45544793371"
      ]
     },
     "execution_count": 92,
     "metadata": {},
     "output_type": "execute_result"
    }
   ],
   "source": [
    "from sklearn.cluster import KMeans\n",
    "kmeans = KMeans(n_clusters = 5, init = 'k-means++', random_state = 42)\n",
    "y_kmeans = kmeans.fit_predict(X)\n",
    "kmeans.inertia_"
   ]
  },
  {
   "cell_type": "code",
   "execution_count": 95,
   "metadata": {},
   "outputs": [],
   "source": [
    "wcss = []\n",
    "for i in range(1, 11):\n",
    "    kmeans = KMeans(n_clusters = i, init = 'k-means++', random_state = 42)\n",
    "    kmeans.fit(X)\n",
    "    wcss.append({'cluster': i,'wcss':kmeans.inertia_})\n"
   ]
  },
  {
   "cell_type": "code",
   "execution_count": 96,
   "metadata": {},
   "outputs": [],
   "source": [
    "import pandas\n",
    "df = pandas.DataFrame(wcss)"
   ]
  },
  {
   "cell_type": "code",
   "execution_count": 99,
   "metadata": {},
   "outputs": [
    {
     "data": {
      "image/png": "[encoded data removed]",
      "text/plain": [
       "<Figure size 432x288 with 1 Axes>"
      ]
     },
     "metadata": {},
     "output_type": "display_data"
    }
   ],
   "source": [
    "df.plot(x='cluster', y='wcss', kind = 'line')\n",
    "plt.title('The Elbow Method')\n",
    "plt.xlabel('Number of clusters')\n",
    "plt.ylabel('WCSS')\n",
    "plt.show()\n"
   ]
  },
  {
   "cell_type": "markdown",
   "metadata": {},
   "source": [
    "## Silhouette"
   ]
  },
  {
   "cell_type": "code",
   "execution_count": 100,
   "metadata": {},
   "outputs": [
    {
     "name": "stdout",
     "output_type": "stream",
     "text": [
      "Silhouette Coefficient: 0.554\n"
     ]
    }
   ],
   "source": [
    "from sklearn import metrics\n",
    "print(\"Silhouette Coefficient: %0.3f\" % metrics.silhouette_score(X, y_kmeans))\n"
   ]
  },
  {
   "cell_type": "code",
   "execution_count": 105,
   "metadata": {},
   "outputs": [],
   "source": [
    "sil = []\n",
    "for i in range(2, 11):\n",
    "    kmeans = KMeans(n_clusters = i, init = 'k-means++', random_state = 42)\n",
    "    y_kmeans = kmeans.fit_predict(X)\n",
    "    sil.append({'cluster': i,'silhouette':metrics.silhouette_score(X, y_kmeans)})\n"
   ]
  },
  {
   "cell_type": "code",
   "execution_count": 106,
   "metadata": {},
   "outputs": [],
   "source": [
    "import pandas\n",
    "df = pandas.DataFrame(sil)"
   ]
  },
  {
   "cell_type": "code",
   "execution_count": 107,
   "metadata": {},
   "outputs": [
    {
     "data": {
      "text/html": [
       "<div>\n",
       "<style scoped>\n",
       "    .dataframe tbody tr th:only-of-type {\n",
       "        vertical-align: middle;\n",
       "    }\n",
       "\n",
       "    .dataframe tbody tr th {\n",
       "        vertical-align: top;\n",
       "    }\n",
       "\n",
       "    .dataframe thead th {\n",
       "        text-align: right;\n",
       "    }\n",
       "</style>\n",
       "<table border=\"1\" class=\"dataframe\">\n",
       "  <thead>\n",
       "    <tr style=\"text-align: right;\">\n",
       "      <th></th>\n",
       "      <th>cluster</th>\n",
       "      <th>silhouette</th>\n",
       "    </tr>\n",
       "  </thead>\n",
       "  <tbody>\n",
       "    <tr>\n",
       "      <th>0</th>\n",
       "      <td>2</td>\n",
       "      <td>0.296897</td>\n",
       "    </tr>\n",
       "    <tr>\n",
       "      <th>1</th>\n",
       "      <td>3</td>\n",
       "      <td>0.467614</td>\n",
       "    </tr>\n",
       "    <tr>\n",
       "      <th>2</th>\n",
       "      <td>4</td>\n",
       "      <td>0.493196</td>\n",
       "    </tr>\n",
       "    <tr>\n",
       "      <th>3</th>\n",
       "      <td>5</td>\n",
       "      <td>0.553932</td>\n",
       "    </tr>\n",
       "    <tr>\n",
       "      <th>4</th>\n",
       "      <td>6</td>\n",
       "      <td>0.539761</td>\n",
       "    </tr>\n",
       "    <tr>\n",
       "      <th>5</th>\n",
       "      <td>7</td>\n",
       "      <td>0.526428</td>\n",
       "    </tr>\n",
       "    <tr>\n",
       "      <th>6</th>\n",
       "      <td>8</td>\n",
       "      <td>0.458271</td>\n",
       "    </tr>\n",
       "    <tr>\n",
       "      <th>7</th>\n",
       "      <td>9</td>\n",
       "      <td>0.456508</td>\n",
       "    </tr>\n",
       "    <tr>\n",
       "      <th>8</th>\n",
       "      <td>10</td>\n",
       "      <td>0.459253</td>\n",
       "    </tr>\n",
       "  </tbody>\n",
       "</table>\n",
       "</div>"
      ],
      "text/plain": [
       "   cluster  silhouette\n",
       "0        2    0.296897\n",
       "1        3    0.467614\n",
       "2        4    0.493196\n",
       "3        5    0.553932\n",
       "4        6    0.539761\n",
       "5        7    0.526428\n",
       "6        8    0.458271\n",
       "7        9    0.456508\n",
       "8       10    0.459253"
      ]
     },
     "execution_count": 107,
     "metadata": {},
     "output_type": "execute_result"
    }
   ],
   "source": [
    "df"
   ]
  },
  {
   "cell_type": "code",
   "execution_count": 109,
   "metadata": {},
   "outputs": [
    {
     "data": {
      "image/png": "[encoded data removed]",
      "text/plain": [
       "<Figure size 432x288 with 1 Axes>"
      ]
     },
     "metadata": {},
     "output_type": "display_data"
    }
   ],
   "source": [
    "df.plot(x='cluster', y='silhouette', kind = 'line')\n",
    "plt.title('Silhouette Method')\n",
    "plt.xlabel('Number of clusters')\n",
    "plt.ylabel('Silhouette')\n",
    "plt.show()\n"
   ]
  },
  {
   "cell_type": "markdown",
   "metadata": {},
   "source": [
    "## 比較不同分群方法"
   ]
  },
  {
   "cell_type": "code",
   "execution_count": 110,
   "metadata": {},
   "outputs": [],
   "source": [
    "# ward\n",
    "ward = AgglomerativeClustering(n_clusters = 5, affinity = 'euclidean', linkage = 'ward')\n",
    "y_ward = ward.fit_predict(X)\n"
   ]
  },
  {
   "cell_type": "code",
   "execution_count": 111,
   "metadata": {},
   "outputs": [],
   "source": [
    "#complete\n",
    "complete = AgglomerativeClustering(n_clusters = 5, affinity = 'euclidean', linkage = 'complete')\n",
    "y_complete = complete.fit_predict(X)\n"
   ]
  },
  {
   "cell_type": "code",
   "execution_count": 112,
   "metadata": {},
   "outputs": [],
   "source": [
    "# kmeans\n",
    "kmeans = KMeans(n_clusters = 5, init = 'k-means++', random_state = 42)\n",
    "y_kmeans = kmeans.fit_predict(X)\n"
   ]
  },
  {
   "cell_type": "code",
   "execution_count": 113,
   "metadata": {},
   "outputs": [
    {
     "name": "stdout",
     "output_type": "stream",
     "text": [
      "(1, 'a')\n",
      "(2, 'b')\n",
      "(3, 'c')\n"
     ]
    }
   ],
   "source": [
    "a = [1,2,3]\n",
    "b = ['a', 'b', 'c']\n",
    "for rec in zip(a,b):\n",
    "    print(rec)"
   ]
  },
  {
   "cell_type": "code",
   "execution_count": 114,
   "metadata": {},
   "outputs": [
    {
     "name": "stdout",
     "output_type": "stream",
     "text": [
      "ward 0.5529945955148897\n",
      "complete 0.5529945955148897\n",
      "kmeans 0.553931997444648\n"
     ]
    }
   ],
   "source": [
    "for est, title in zip([y_ward,y_complete, y_kmeans], ['ward', 'complete', 'kmeans']):\n",
    "    print(title, metrics.silhouette_score(X, est))\n"
   ]
  },
  {
   "cell_type": "markdown",
   "metadata": {},
   "source": [
    "## 文章分群"
   ]
  },
  {
   "cell_type": "code",
   "execution_count": 118,
   "metadata": {},
   "outputs": [],
   "source": [
    "import pandas\n",
    "news = pandas.read_excel('https://raw.githubusercontent.com/ywchiu/pytextmining/master/data/20150628news.xlsx', index_col=0)"
   ]
  },
  {
   "cell_type": "code",
   "execution_count": 126,
   "metadata": {},
   "outputs": [],
   "source": [
    "import jieba\n",
    "jieba.load_userdict('userdict.txt')\n",
    "corpus = []\n",
    "titles = []\n",
    "for rec in news.iterrows():\n",
    "    titles.append(rec[1].title)\n",
    "    corpus.append(' '.join(jieba.cut(rec[1].description)))"
   ]
  },
  {
   "cell_type": "code",
   "execution_count": 128,
   "metadata": {},
   "outputs": [
    {
     "data": {
      "text/plain": [
       "147"
      ]
     },
     "execution_count": 128,
     "metadata": {},
     "output_type": "execute_result"
    }
   ],
   "source": [
    "len(titles)"
   ]
  },
  {
   "cell_type": "code",
   "execution_count": 129,
   "metadata": {},
   "outputs": [
    {
     "data": {
      "text/plain": [
       "147"
      ]
     },
     "execution_count": 129,
     "metadata": {},
     "output_type": "execute_result"
    }
   ],
   "source": [
    "len(corpus)"
   ]
  },
  {
   "cell_type": "code",
   "execution_count": 130,
   "metadata": {},
   "outputs": [],
   "source": [
    "from sklearn.feature_extraction.text import CountVectorizer\n",
    "vectorizer = CountVectorizer()\n",
    "X = vectorizer.fit_transform(corpus)"
   ]
  },
  {
   "cell_type": "code",
   "execution_count": 131,
   "metadata": {},
   "outputs": [
    {
     "data": {
      "text/plain": [
       "(147, 12219)"
      ]
     },
     "execution_count": 131,
     "metadata": {},
     "output_type": "execute_result"
    }
   ],
   "source": [
    "X.shape"
   ]
  },
  {
   "cell_type": "code",
   "execution_count": 132,
   "metadata": {},
   "outputs": [],
   "source": [
    "from sklearn.metrics.pairwise import cosine_similarity\n",
    "cs = cosine_similarity(X)"
   ]
  },
  {
   "cell_type": "code",
   "execution_count": 134,
   "metadata": {},
   "outputs": [
    {
     "data": {
      "text/plain": [
       "(147, 147)"
      ]
     },
     "execution_count": 134,
     "metadata": {},
     "output_type": "execute_result"
    }
   ],
   "source": [
    "cs.shape"
   ]
  },
  {
   "cell_type": "code",
   "execution_count": 136,
   "metadata": {},
   "outputs": [],
   "source": [
    "#cs"
   ]
  },
  {
   "cell_type": "code",
   "execution_count": 137,
   "metadata": {},
   "outputs": [],
   "source": [
    "kmeans = KMeans(n_clusters = 4, init = 'k-means++', random_state = 42)\n",
    "y_kmeans = kmeans.fit_predict(cs)"
   ]
  },
  {
   "cell_type": "code",
   "execution_count": 138,
   "metadata": {},
   "outputs": [
    {
     "data": {
      "text/plain": [
       "array([0, 0, 1, 3, 0, 3, 0, 3, 3, 3, 3, 0, 1, 3, 2, 3, 0, 3, 3, 3, 2, 0,\n",
       "       3, 3, 1, 0, 3, 3, 3, 3, 3, 3, 3, 3, 3, 3, 3, 1, 2, 1, 3, 0, 1, 3,\n",
       "       3, 3, 3, 3, 3, 3, 3, 3, 3, 3, 3, 3, 3, 3, 3, 3, 3, 3, 3, 3, 3, 3,\n",
       "       3, 3, 3, 3, 3, 3, 3, 3, 3, 3, 3, 3, 3, 3, 3, 3, 1, 3, 1, 3, 3, 0,\n",
       "       0, 0, 0, 0, 1, 0, 3, 0, 0, 0, 0, 3, 0, 0, 0, 0, 0, 0, 0, 3, 3, 3,\n",
       "       2, 2, 0, 0, 1, 3, 2, 0, 0, 2, 0, 2, 3, 0, 2, 2, 2, 0, 2, 3, 3, 3,\n",
       "       3, 3, 3, 3, 3, 2, 3, 3, 3, 3, 2, 0, 0, 2, 2], dtype=int32)"
      ]
     },
     "execution_count": 138,
     "metadata": {},
     "output_type": "execute_result"
    }
   ],
   "source": [
    "y_kmeans"
   ]
  },
  {
   "cell_type": "code",
   "execution_count": 140,
   "metadata": {},
   "outputs": [],
   "source": [
    "import numpy \n",
    "np_titles = numpy.array(titles)"
   ]
  },
  {
   "cell_type": "code",
   "execution_count": 145,
   "metadata": {},
   "outputs": [
    {
     "name": "stdout",
     "output_type": "stream",
     "text": [
      "台鐵新基隆車站29日正式啟用\n",
      "基改不算真食物  法國人知情就不買\n",
      "女子世界盃足球賽  日擊敗澳洲晉4強\n",
      "《農民曆小幫手》國曆六月二十八日\n",
      "江蕙得「特別貢獻獎」 感恩金曲肯定她\n",
      "大台北今高溫上探37度\n",
      "羅志祥哭了 蔡依林讚表現很好\n",
      "風評：陷入獵巫遊戲的中資認定\n",
      "挪威「行動大雕」出沒 隨機射路人\n",
      "還是熱！西半部高溫達37度\n",
      "德國即將關閉使用最久核子反應爐\n",
      "張娟芬專文：抽絲剝繭邱和順案\n",
      "2015空姐夏裝大盤點\n",
      "觀點投書：讀中文系的人，應該反對課綱微調\n",
      "觀點投書：何謂新兵訓練\n",
      "觀點投書：災難中的護理人\n",
      "呂政璋觀點：點土成金新思維~以台灣柳丁為例\n",
      "觀點投書：招搖的進步\n",
      "中俄美競造5音速機彈\n",
      "手相看什麼樣的女人性格強勢\n",
      "面相看哪些人財運綿長不盡\n",
      "【美洲盃八強】巴西 VS. 巴拉圭 線上直播！\n",
      "塔羅占卜你今生最看重的是什麼\n",
      "蘇塞大屠殺 凶手畫面曝光\n",
      "塔羅占卜你是個有心機的人嗎？\n",
      "挑選新鮮食物 大有學問\n",
      "調心養心 初夏多吃蔬果\n",
      "夏天吃什麼好 紅棗、苦瓜攏總來\n",
      "補鈣能手大比拚 牛奶吸收效果好\n",
      "暑假應考季 小心體內酸鹼失衡\n",
      "水果中的皇后 草莓多食好處多\n",
      "旺報觀點－鄭弘儀！別讓台灣人背黑鍋！\n",
      "古人愛西瓜 清明上河圖可佐證\n",
      "旺報觀點－紀念抗戰 台日中獲和解轉機\n",
      "陸官淪陪酒郎 2年10起醉死案\n",
      "慈禧愛西瓜盅 一天可吃數十個\n",
      "紀念抗戰 學者：反省、避免戰爭\n",
      "多位台老兵 受邀赴陸閱兵\n",
      "陸祭出新規 能上能下整肅官場\n",
      "首例 馬頒紀念章給新四軍老兵\n",
      "陸改革遇5瓶頸 難以落實基層\n",
      "金蟬花替代蟲草 浙民服用中毒\n",
      "鄭弘儀反紀念抗戰 陸批數典忘祖\n",
      "《經濟教室》白居易、蘇東坡看加薪\n",
      "大陸》A股紅火 中資想回家\n",
      "大陸》華人赴美置產不手軟\n",
      "北美》線上貸款業搶飯碗\n",
      "北美》加州光熱發電受挫\n",
      "歐洲》高貴的徵才條件\n",
      "東北亞》大眾運輸費變貴了\n",
      "歐洲》荷蘭的稻田發電\n",
      "一周大事－6月21日至27日\n",
      "社論－真道理性真愛台灣系列 7 打一場讓社會公平的\n",
      "有話要說－別害警察不敢用槍\n",
      "中間選民為洪秀柱按讚\n",
      "學生心態M化 台大有責任\n",
      "莫忘來時路／6月28日－先上車後補票成歷史\n",
      "短評－柯P 去上海吧\n",
      "花蓮民宅火警 1男嗆昏送醫\n",
      "新生代性感女神降臨　男粉絲擠爆簽書會\n",
      "屏東樂遊東港 住民宿探蚵殼島\n",
      "競選總部入厝　洪慈庸期許台中煥然一新\n",
      "超商父親節早鳥預購開跑　聶永真設計商品再次收藏\n",
      "八仙樂園爆炸案 負責人等5人移送\n",
      "八里爆炸意外衛生局凌晨公布314名傷患名單 分送27\n",
      "「我不說誰說？」世新廣電畢製《東所》受難者觀影\n",
      "八仙樂園爆炸 劣賊趁亂打劫\n",
      "金曲紅毯眾星出招　個人意見獨特見解\n",
      "單親媽媽第一次下海就被逮　直呼太倒楣了！\n",
      "提升財運的家居風水\n",
      "如何化解感情上的爛桃花\n",
      "金曲26／陳奕迅二度擊敗張學友　濕身奪歌王\n",
      "清真寺爆炸凶嫌所乘車 車主遭科國羈押\n",
      "突尼西亞恐攻 已知15英人遇害\n",
      "LOEWE瘋玩春夏 迷上日本漫畫\n",
      "捷運內湖站2分鐘 輕質2房最熱銷\n",
      "BV萬元小皮件 小資族快下手\n",
      "大人物攝影展開展吸人潮 方念華 時尚入境\n",
      "新板＋府中雙商圈 每坪60萬起\n",
      "北台灣最宜居新都心！\n",
      "Kelly Talk：艾力克斯讓兒挑衣 訓練衣Q\n",
      "氣墊粉霜又有新品 酷夏玩美肌\n",
      "男裝周加映高級訂製服 GIVENCHY 黑珍珠使壞\n",
      "Margiela大衣掛帥 Berluti熱鬧色計\n",
      "Gap徵小小代言人 艾力克斯親子秀時尚\n",
      "行動不便為生活當馬伕 首天上班就被逮\n"
     ]
    }
   ],
   "source": [
    "for e in np_titles[y_kmeans == 3]:\n",
    "    print(e)"
   ]
  },
  {
   "cell_type": "code",
   "execution_count": 146,
   "metadata": {},
   "outputs": [],
   "source": [
    "wcss = []\n",
    "for i in range(1, 11):\n",
    "    kmeans = KMeans(n_clusters = i, init = 'k-means++', random_state = 42)\n",
    "    kmeans.fit(cs)\n",
    "    wcss.append({'cluster': i,'wcss':kmeans.inertia_})\n"
   ]
  },
  {
   "cell_type": "code",
   "execution_count": 147,
   "metadata": {},
   "outputs": [],
   "source": [
    "import pandas\n",
    "df = pandas.DataFrame(wcss)"
   ]
  },
  {
   "cell_type": "code",
   "execution_count": 148,
   "metadata": {},
   "outputs": [
    {
     "data": {
      "image/png": "[encoded data removed]",
      "text/plain": [
       "<Figure size 432x288 with 1 Axes>"
      ]
     },
     "metadata": {},
     "output_type": "display_data"
    }
   ],
   "source": [
    "df.plot(x='cluster', y='wcss', kind = 'line')\n",
    "plt.title('The Elbow Method')\n",
    "plt.xlabel('Number of clusters')\n",
    "plt.ylabel('WCSS')\n",
    "plt.show()\n"
   ]
  },
  {
   "cell_type": "code",
   "execution_count": 149,
   "metadata": {},
   "outputs": [],
   "source": [
    "sil = []\n",
    "for i in range(2, 11):\n",
    "    kmeans = KMeans(n_clusters = i, init = 'k-means++', random_state = 42)\n",
    "    y_kmeans = kmeans.fit_predict(cs)\n",
    "    sil.append({'cluster': i,'silhouette':metrics.silhouette_score(cs, y_kmeans)})\n"
   ]
  },
  {
   "cell_type": "code",
   "execution_count": 150,
   "metadata": {},
   "outputs": [],
   "source": [
    "df = pandas.DataFrame(sil)"
   ]
  },
  {
   "cell_type": "code",
   "execution_count": 151,
   "metadata": {},
   "outputs": [
    {
     "data": {
      "image/png": "[encoded data removed]",
      "text/plain": [
       "<Figure size 432x288 with 1 Axes>"
      ]
     },
     "metadata": {},
     "output_type": "display_data"
    }
   ],
   "source": [
    "df.plot(x='cluster', y='silhouette', kind = 'line')\n",
    "plt.title('Silhouette Method')\n",
    "plt.xlabel('Number of clusters')\n",
    "plt.ylabel('Silhouette')\n",
    "plt.show()\n"
   ]
  },
  {
   "cell_type": "code",
   "execution_count": 179,
   "metadata": {},
   "outputs": [],
   "source": [
    "import pandas\n",
    "news = pandas.read_excel('https://raw.githubusercontent.com/ywchiu/pytextmining/master/data/20171214news.xlsx', index_col=0 )\n"
   ]
  },
  {
   "cell_type": "code",
   "execution_count": 180,
   "metadata": {},
   "outputs": [
    {
     "data": {
      "text/html": [
       "<div>\n",
       "<style scoped>\n",
       "    .dataframe tbody tr th:only-of-type {\n",
       "        vertical-align: middle;\n",
       "    }\n",
       "\n",
       "    .dataframe tbody tr th {\n",
       "        vertical-align: top;\n",
       "    }\n",
       "\n",
       "    .dataframe thead th {\n",
       "        text-align: right;\n",
       "    }\n",
       "</style>\n",
       "<table border=\"1\" class=\"dataframe\">\n",
       "  <thead>\n",
       "    <tr style=\"text-align: right;\">\n",
       "      <th></th>\n",
       "      <th>category</th>\n",
       "      <th>content</th>\n",
       "      <th>link</th>\n",
       "      <th>title</th>\n",
       "    </tr>\n",
       "  </thead>\n",
       "  <tbody>\n",
       "    <tr>\n",
       "      <th>0</th>\n",
       "      <td>政治</td>\n",
       "      <td>新增：立委說法民進黨立法院黨團預計在明天的院會中，讓改制農田水利會的《農田水利會組織通則》修...</td>\n",
       "      <td>https://tw.news.appledaily.com/politics/realti...</td>\n",
       "      <td>【更新】水利會改官派明闖關　綠委24小時前顧議場大門防藍突襲</td>\n",
       "    </tr>\n",
       "    <tr>\n",
       "      <th>1</th>\n",
       "      <td>論壇</td>\n",
       "      <td>邱俊棠／台中市民、見習醫師；曾任台灣醫學生聯合會對外副會長對於公民參與公眾事務而能得到單位首...</td>\n",
       "      <td>https://tw.news.appledaily.com/forum/realtime/...</td>\n",
       "      <td>請中市府為所當為 加速中火燃煤限制</td>\n",
       "    </tr>\n",
       "    <tr>\n",
       "      <th>2</th>\n",
       "      <td>社會</td>\n",
       "      <td>被控來台涉發展情報組織的中國學生周泓旭，因接觸我方外交部官員而露餡落網，今年9月被台北地院一...</td>\n",
       "      <td>https://tw.news.appledaily.com/local/realtime/...</td>\n",
       "      <td>陸生共諜嗆台司法　「不敢公開審理我」</td>\n",
       "    </tr>\n",
       "    <tr>\n",
       "      <th>3</th>\n",
       "      <td>生活</td>\n",
       "      <td>【廣編特輯】 對於全能神教會在中國所遭受的迫害與在韓國、香港及臺灣所面對的反面宣傳，非政府組...</td>\n",
       "      <td>https://tw.news.appledaily.com/life/realtime/2...</td>\n",
       "      <td>【特企】NGO聯名譴責中共迫害宗教信仰</td>\n",
       "    </tr>\n",
       "    <tr>\n",
       "      <th>4</th>\n",
       "      <td>生活</td>\n",
       "      <td>立法院交通委員會今審查《道路交通管理處罰條例》，通過營業大客車駕駛人行駛一般道路未繫安全帶，...</td>\n",
       "      <td>https://tw.news.appledaily.com/life/realtime/2...</td>\n",
       "      <td>乘客搭大客車不配合繫安全帶　立院初審通過可罰6千元</td>\n",
       "    </tr>\n",
       "  </tbody>\n",
       "</table>\n",
       "</div>"
      ],
      "text/plain": [
       "  category                                            content  \\\n",
       "0       政治  新增：立委說法民進黨立法院黨團預計在明天的院會中，讓改制農田水利會的《農田水利會組織通則》修...   \n",
       "1       論壇  邱俊棠／台中市民、見習醫師；曾任台灣醫學生聯合會對外副會長對於公民參與公眾事務而能得到單位首...   \n",
       "2       社會  被控來台涉發展情報組織的中國學生周泓旭，因接觸我方外交部官員而露餡落網，今年9月被台北地院一...   \n",
       "3       生活  【廣編特輯】 對於全能神教會在中國所遭受的迫害與在韓國、香港及臺灣所面對的反面宣傳，非政府組...   \n",
       "4       生活  立法院交通委員會今審查《道路交通管理處罰條例》，通過營業大客車駕駛人行駛一般道路未繫安全帶，...   \n",
       "\n",
       "                                                link  \\\n",
       "0  https://tw.news.appledaily.com/politics/realti...   \n",
       "1  https://tw.news.appledaily.com/forum/realtime/...   \n",
       "2  https://tw.news.appledaily.com/local/realtime/...   \n",
       "3  https://tw.news.appledaily.com/life/realtime/2...   \n",
       "4  https://tw.news.appledaily.com/life/realtime/2...   \n",
       "\n",
       "                            title  \n",
       "0  【更新】水利會改官派明闖關　綠委24小時前顧議場大門防藍突襲  \n",
       "1               請中市府為所當為 加速中火燃煤限制  \n",
       "2              陸生共諜嗆台司法　「不敢公開審理我」  \n",
       "3             【特企】NGO聯名譴責中共迫害宗教信仰  \n",
       "4       乘客搭大客車不配合繫安全帶　立院初審通過可罰6千元  "
      ]
     },
     "execution_count": 180,
     "metadata": {},
     "output_type": "execute_result"
    }
   ],
   "source": [
    "news.head()"
   ]
  },
  {
   "cell_type": "code",
   "execution_count": 181,
   "metadata": {},
   "outputs": [],
   "source": [
    "corpus = []\n",
    "titles = []\n",
    "for rec in news.iterrows():\n",
    "    corpus.append(' '.join(jieba.cut(rec[1].content)))\n",
    "    titles.append(rec[1].title)"
   ]
  },
  {
   "cell_type": "code",
   "execution_count": 182,
   "metadata": {},
   "outputs": [],
   "source": [
    "vectorizer = CountVectorizer()\n",
    "X = vectorizer.fit_transform(corpus)"
   ]
  },
  {
   "cell_type": "code",
   "execution_count": 183,
   "metadata": {},
   "outputs": [],
   "source": [
    "cs = cosine_similarity(X)"
   ]
  },
  {
   "cell_type": "code",
   "execution_count": 184,
   "metadata": {},
   "outputs": [],
   "source": [
    "kmeans = KMeans(n_clusters = 20, init = 'k-means++', random_state = 42)\n",
    "y_kmeans = kmeans.fit_predict(cs)"
   ]
  },
  {
   "cell_type": "code",
   "execution_count": 185,
   "metadata": {},
   "outputs": [],
   "source": [
    "np_titles = numpy.array(titles)"
   ]
  },
  {
   "cell_type": "code",
   "execution_count": 196,
   "metadata": {},
   "outputs": [
    {
     "name": "stdout",
     "output_type": "stream",
     "text": [
      "淘汰「高污染」老車　搭公共運輸擬補助\n",
      "扯！沒訊號還要付月租費　用戶怒批中華電「惡霸」\n",
      "【壹週刊】百億貸款將到期　柯P放容積解套京華城\n",
      "國共論壇傳明年4月前舉行　國民黨：沒有進度\n",
      "國共論壇傳明年4月前舉行　國民黨：沒有進度\n",
      "560%容積爭議　威京：只是拿回應有的\n",
      "王瑞慧遭爆董座不保　長庚與衛福部均否認\n",
      "京華城容積率增至560%案　北市都發局同意、待都委會審議\n",
      "自以為幽默！Netflix亂發推特遭會員譙爆\n",
      "及時雨！柯文哲放寬容積　京華城爽納百億\n",
      "傳衛福部強力介入長庚　屬意他！王瑞慧大位恐不保\n"
     ]
    }
   ],
   "source": [
    "for e in np_titles[y_kmeans == 6]:\n",
    "    print(e)"
   ]
  },
  {
   "cell_type": "code",
   "execution_count": 191,
   "metadata": {},
   "outputs": [],
   "source": [
    "sil = []\n",
    "for i in range(2, 31):\n",
    "    kmeans = KMeans(n_clusters = i, init = 'k-means++', random_state = 42)\n",
    "    y_kmeans = kmeans.fit_predict(cs)\n",
    "    sil.append({'cluster': i,'silhouette':metrics.silhouette_score(cs, y_kmeans)})\n"
   ]
  },
  {
   "cell_type": "code",
   "execution_count": 192,
   "metadata": {},
   "outputs": [],
   "source": [
    "df = pandas.DataFrame(sil)"
   ]
  },
  {
   "cell_type": "code",
   "execution_count": 194,
   "metadata": {},
   "outputs": [
    {
     "data": {
      "text/plain": [
       "<matplotlib.axes._subplots.AxesSubplot at 0x11fc48470>"
      ]
     },
     "execution_count": 194,
     "metadata": {},
     "output_type": "execute_result"
    },
    {
     "data": {
      "image/png": "[encoded data removed]",
      "text/plain": [
       "<Figure size 432x288 with 1 Axes>"
      ]
     },
     "metadata": {},
     "output_type": "display_data"
    }
   ],
   "source": [
    "df.plot(x = 'cluster', y = 'silhouette')"
   ]
  },
  {
   "cell_type": "code",
   "execution_count": 197,
   "metadata": {},
   "outputs": [
    {
     "name": "stdout",
     "output_type": "stream",
     "text": [
      "Populating the interactive namespace from numpy and matplotlib\n"
     ]
    },
    {
     "name": "stderr",
     "output_type": "stream",
     "text": [
      "/Users/davidchiu/.pyenv/versions/3.6.2/lib/python3.6/site-packages/IPython/core/magics/pylab.py:161: UserWarning: pylab import has clobbered these variables: ['rec', 'random', 'title', 'e']\n",
      "`%matplotlib` prevents importing * from pylab and numpy\n",
      "  \"\\n`%matplotlib` prevents importing * from pylab and numpy\"\n"
     ]
    },
    {
     "data": {
      "image/png": "[encoded data removed]",
      "text/plain": [
       "<Figure size 432x288 with 1 Axes>"
      ]
     },
     "metadata": {},
     "output_type": "display_data"
    }
   ],
   "source": [
    "%pylab inline\n",
    "import scipy.cluster.hierarchy as sch\n",
    "import matplotlib.pyplot as plt\n",
    "dendrogram = sch.dendrogram(sch.linkage(cs, method = 'ward'))\n",
    "plt.title('Dendrogram')\n",
    "plt.xlabel('News')\n",
    "plt.ylabel('Cosine distances')\n",
    "plt.show()\n"
   ]
  },
  {
   "cell_type": "code",
   "execution_count": 199,
   "metadata": {},
   "outputs": [],
   "source": [
    "from sklearn.cluster import AgglomerativeClustering\n",
    "hc = AgglomerativeClustering(n_clusters = 20, affinity = 'euclidean', linkage = 'ward')\n",
    "y_hc = hc.fit_predict(cs)\n"
   ]
  },
  {
   "cell_type": "code",
   "execution_count": 203,
   "metadata": {},
   "outputs": [
    {
     "data": {
      "text/plain": [
       "[(8, 173),\n",
       " (16, 167),\n",
       " (5, 115),\n",
       " (1, 63),\n",
       " (7, 51),\n",
       " (0, 49),\n",
       " (3, 45),\n",
       " (15, 30),\n",
       " (2, 30),\n",
       " (4, 29),\n",
       " (13, 25),\n",
       " (19, 21),\n",
       " (6, 20),\n",
       " (9, 18),\n",
       " (14, 17),\n",
       " (17, 13),\n",
       " (12, 10),\n",
       " (10, 10),\n",
       " (11, 8),\n",
       " (18, 5)]"
      ]
     },
     "execution_count": 203,
     "metadata": {},
     "output_type": "execute_result"
    }
   ],
   "source": [
    "from collections import Counter\n",
    "c = Counter(y_hc)\n",
    "c.most_common(20)"
   ]
  },
  {
   "cell_type": "code",
   "execution_count": 210,
   "metadata": {},
   "outputs": [
    {
     "name": "stdout",
     "output_type": "stream",
     "text": [
      "【更新】水利會改官派明闖關　綠委24小時前顧議場大門防藍突襲\n",
      "黃國昌：長期目標要消滅國民黨　不支持柯文哲的兩岸一家親\n",
      "何以得為民粹？\n",
      "罷免案將投票　李遠哲今再度現身力挺黃國昌\n",
      "【歷史上的今天】賴香伶當選北市勞動局長　周錫瑋花百萬蓋縣長辦公室\n",
      "【搏感情動畫】台電每年30億敦親睦鄰費　協助立委選民服務\n",
      "勞動部放寬危險性工作場所審查標準　國親將出手擋下  \n",
      "黃國昌若被罷免會更強　他：成為選輸北市的阿扁\n",
      "被爆罵、敲台電　顏寬恒「模糊反空污焦點」\n",
      "雲林縣長選舉沒有更好的人選嗎？\n",
      "政院半年內若未提原民促轉草案　段宜康：我辭職！\n",
      "兩風場「土洋大戰」　彰化率先通過離岸風電案\n",
      "【淡定片】蔡英文到考試院頒獎　拔菜總部場外抗議蔡政府媚日\n",
      "海洋法草案報告　谷辣斯·尤達卡：希立法尊重原民活動\n",
      "【聲援片】沈發惠呼籲罷昌案投「不同意」　黃國昌：謝謝您\n",
      "暴衝的公投法修法 忽略這三件事\n",
      "海委會基地未定　綠委重提廢松機建聯合大樓\n",
      "海委會基地未定　綠委重提廢松機建聯合大樓\n",
      "農田水利會改公務機關　蔡英文：這不是綁樁\n",
      "反對水利會改制　吳敦義下令：藍委做好夜宿立院抗爭準備\n",
      "【反嗆片】被爆向台電申請補助又罵空污　顏寬恒：不會拿人手短\n",
      "波特船無法可管？　海巡：目前已修法納管\n",
      "​民粹主義？罷昌行動？\n",
      "宗教團體可曾想過：黃國昌犀利形象恐越打越旺\n",
      "環評大會今首審風電案　兩度表決中通過\n",
      "蘇治芬發文　細數與李進勇昔日之怨\n",
      "蘇治芬發文　細數與李進勇昔日之怨\n",
      "【有片】罷免黃國昌投票倒數4天　護家盟籲選民投票\n",
      "海洋基本法報告　立委：期待院方版本出爐\n",
      "離岸風電環評大會闖關　環團、漁民300人抗議\n",
      "海洋基本法報告　立委緊追造艦標案問題\n",
      "泛藍青年的心聲：我們該如何面對「轉型正義」\n",
      "澎湖南方四島擬劃自然人文生態景觀區　漁民盼考量生計\n",
      "海洋基本法書面報告　委員會建修部分條文\n",
      "遭砍燃煤量但預算仍增？台電預算遭砍1成\n",
      "罷昌案周六投票　時代力量全力澄清不實謠言\n",
      "「一手罵台電、一手敲台電」　經委會要台電公布立委補助資料\n",
      "環署欲赴日考察公廁惹爭議　預算全遭刪除\n",
      "被顏寬恒點名也跟台電要補助　蔡其昌：不應與空污混為一談\n",
      "在野黨突襲表決《勞基法》修正案無效　民進黨烙人成功擋下\n",
      "​勞基法修法可別重蹈「商鞅變法」之覆轍 \n",
      "馬偕兒童醫院BOT綁標圖利？　董事長劉伯恩怒告誹謗\n",
      "毀萬安計畫？蔣萬安：我專心問政關注空污、勞動議題\n",
      "【補腦動畫】《公投法》修正案 《蘋果》教你如何提公投\n",
      "【一張圖搞懂】各國公投比一比　台灣公投門檻是高還是低\n",
      "【台北耳語 】公投大飆車\n",
      "公投門檻高　歷年6度公投全遭否決\n",
      "【歷史上的今天】幫黃國昌站台　蔡英文：我有準備當總統了\n",
      "陳芳明專欄：優先建立正義，再做轉型正義\n"
     ]
    }
   ],
   "source": [
    "for e in np_titles[y_hc==0]:\n",
    "    print(e)"
   ]
  },
  {
   "cell_type": "markdown",
   "metadata": {},
   "source": [
    "## 社群偵測法"
   ]
  },
  {
   "cell_type": "code",
   "execution_count": 295,
   "metadata": {},
   "outputs": [],
   "source": [
    "import pandas\n",
    "import jieba\n",
    "jieba.load_userdict('userdict.txt')\n",
    "news = pandas.read_excel('https://raw.githubusercontent.com/ywchiu/pytextmining/master/data/20171214news.xlsx', index_col=0 )\n"
   ]
  },
  {
   "cell_type": "code",
   "execution_count": 296,
   "metadata": {},
   "outputs": [],
   "source": [
    "corpus = []\n",
    "titles = []\n",
    "for rec in news.iterrows():\n",
    "    corpus.append(' '.join(jieba.cut(rec[1].content)))\n",
    "    titles.append(rec[1].title)"
   ]
  },
  {
   "cell_type": "code",
   "execution_count": 297,
   "metadata": {},
   "outputs": [],
   "source": [
    "from sklearn.feature_extraction.text import CountVectorizer\n",
    "vectorizer  = CountVectorizer()\n",
    "X = vectorizer.fit_transform(corpus)"
   ]
  },
  {
   "cell_type": "code",
   "execution_count": 298,
   "metadata": {},
   "outputs": [],
   "source": [
    "from sklearn.metrics.pairwise import cosine_similarity\n",
    "cs = cosine_similarity(X)"
   ]
  },
  {
   "cell_type": "code",
   "execution_count": 299,
   "metadata": {},
   "outputs": [
    {
     "data": {
      "text/plain": [
       "(899, 899)"
      ]
     },
     "execution_count": 299,
     "metadata": {},
     "output_type": "execute_result"
    }
   ],
   "source": [
    "cs.shape"
   ]
  },
  {
   "cell_type": "code",
   "execution_count": 300,
   "metadata": {},
   "outputs": [],
   "source": [
    "import networkx as nx\n",
    "m = (cs >=0.5).astype(int)\n",
    "G = nx.from_numpy_matrix(m)"
   ]
  },
  {
   "cell_type": "code",
   "execution_count": 301,
   "metadata": {},
   "outputs": [
    {
     "name": "stdout",
     "output_type": "stream",
     "text": [
      "Requirement already satisfied: python-louvain in /Users/davidchiu/.pyenv/versions/3.6.2/lib/python3.6/site-packages\n",
      "Requirement already satisfied: networkx in /Users/davidchiu/.pyenv/versions/3.6.2/lib/python3.6/site-packages (from python-louvain)\n",
      "Requirement already satisfied: decorator>=3.4.0 in /Users/davidchiu/.pyenv/versions/3.6.2/lib/python3.6/site-packages (from networkx->python-louvain)\n",
      "\u001b[33mYou are using pip version 9.0.1, however version 19.1.1 is available.\n",
      "You should consider upgrading via the 'pip install --upgrade pip' command.\u001b[0m\n"
     ]
    }
   ],
   "source": [
    "! pip install python-louvain"
   ]
  },
  {
   "cell_type": "code",
   "execution_count": 302,
   "metadata": {},
   "outputs": [],
   "source": [
    "import community\n",
    "comm = community.best_partition(G)"
   ]
  },
  {
   "cell_type": "code",
   "execution_count": 303,
   "metadata": {},
   "outputs": [],
   "source": [
    "cluster_ary = np.array(list(comm.values()) )"
   ]
  },
  {
   "cell_type": "code",
   "execution_count": 304,
   "metadata": {},
   "outputs": [],
   "source": [
    "titles_ary  = np.array(titles)\n"
   ]
  },
  {
   "cell_type": "code",
   "execution_count": 305,
   "metadata": {},
   "outputs": [],
   "source": [
    "c = Counter(cluster_ary)\n"
   ]
  },
  {
   "cell_type": "code",
   "execution_count": 306,
   "metadata": {},
   "outputs": [],
   "source": [
    "c = Counter(cluster_ary)"
   ]
  },
  {
   "cell_type": "code",
   "execution_count": 307,
   "metadata": {},
   "outputs": [
    {
     "name": "stdout",
     "output_type": "stream",
     "text": [
      "3 30\n",
      "===========================\n",
      "【特企】NGO聯名譴責中共迫害宗教信仰\n",
      "【特企】NGO聯名譴責中共迫害宗教信仰\n",
      "【特企】NGO聯名譴責中共迫害宗教信仰\n",
      "【特企】NGO聯名譴責中共迫害宗教信仰\n",
      "【特企】NGO聯名譴責中共迫害宗教信仰\n",
      "【特企】NGO聯名譴責中共迫害宗教信仰\n",
      "【特企】NGO聯名譴責中共迫害宗教信仰\n",
      "【特企】NGO聯名譴責中共迫害宗教信仰\n",
      "【特企】NGO聯名譴責中共迫害宗教信仰\n",
      "【特企】NGO聯名譴責中共迫害宗教信仰\n",
      "【特企】NGO聯名譴責中共迫害宗教信仰\n",
      "【特企】NGO聯名譴責中共迫害宗教信仰\n",
      "【特企】NGO聯名譴責中共迫害宗教信仰\n",
      "【特企】NGO聯名譴責中共迫害宗教信仰\n",
      "【特企】NGO聯名譴責中共迫害宗教信仰\n",
      "【特企】NGO聯名譴責中共迫害宗教信仰\n",
      "【特企】NGO聯名譴責中共迫害宗教信仰\n",
      "【特企】NGO聯名譴責中共迫害宗教信仰\n",
      "【特企】NGO聯名譴責中共迫害宗教信仰\n",
      "【特企】NGO聯名譴責中共迫害宗教信仰\n",
      "【特企】NGO聯名譴責中共迫害宗教信仰\n",
      "【特企】NGO聯名譴責中共迫害宗教信仰\n",
      "【特企】NGO聯名譴責中共迫害宗教信仰\n",
      "【特企】NGO聯名譴責中共迫害宗教信仰\n",
      "【特企】NGO聯名譴責中共迫害宗教信仰\n",
      "【特企】NGO聯名譴責中共迫害宗教信仰\n",
      "【特企】NGO聯名譴責中共迫害宗教信仰\n",
      "【特企】NGO聯名譴責中共迫害宗教信仰\n",
      "【特企】NGO聯名譴責中共迫害宗教信仰\n",
      "【特企】NGO聯名譴責中共迫害宗教信仰\n",
      "69 19\n",
      "===========================\n",
      "【狗仔偷拍】小嫻搬離何守正家租66坪房　月租6萬元\n",
      "許聖梅心疼小嫻被當空氣　爆何守正「有兩個女學員」\n",
      "【動畫解盤】毒菇跳火線譙seafood　小嫻難瘦香菇\n",
      "不捨善良小嫻慘遭婚變　乃哥「命運捉弄人」\n",
      "【獨家】小嫻賣房求子　婆婆竟拒入籍何家\n",
      "小心！在美結婚台灣沒登記　偷腥照樣能捉姦\n",
      "小嫻離婚導火線　拉何守正信妙禪\n",
      "小嫻別傻傻被欺負！女律師說「姐寶」就要這樣對付\n",
      "小嫻守正結婚在台沒登記　想離婚只有兩條路\n",
      "大姑出面護弟！轟小嫻不能生「媽媽是全台最沒有尊嚴的婆婆」\n",
      "小嫻信奉妙禪　關鍵原因與何守正有關！\n",
      "小嫻何守正想離婚　必須先做這件事！\n",
      "「小嫻不快樂！」　許聖梅：何守正虧欠她\n",
      "【內幕動畫】小嫻婚變何守正姊反擊　不滿媽煮飯侍奉星媳婦\n",
      "小嫻多信妙禪？　曾見證「師父帶我跳舞」\n",
      "小嫻婚變無徵兆　男星嘆：兩人向來出雙入對\n",
      "【獨家內幕】太傷！小嫻被分手　何守正當小三面前攤牌\n",
      "【小嫻離婚】何守正稱沒有遺憾　人妻女星超火「一嘴屁話」\n",
      "【小嫻離婚】3大退讓人財兩失　求子花光430萬積蓄\n",
      "113 8\n",
      "===========================\n",
      "驚！　野生捕獲恐龍遛汪星人\n",
      "驚！　野生捕獲恐龍遛汪星人\n",
      "搔癢無尾熊 表情超enjoy\n",
      "【笑翻片】各種抓！動物止癢出奇招\n",
      "【保護片】就是不能下水！狗狗護小主人\n",
      "群狗亂舞開趴　畫面太「美」讓人不敢看\n",
      "一家人霸氣合照　萌到爆！\n",
      "超近看螞蟻食蜂蜜　竟感到療癒？\n",
      "45 5\n",
      "===========================\n",
      "後天入冬最強冷空氣來襲　低溫下探12℃\n",
      "像灑了糖霜！玉山今晨降雪　積雪0.5公分\n",
      "明溫暖舒適！　吳德榮：周六變天下探11℃\n",
      "輕颱啟德恐生成　入冬最強冷空氣周末來襲下探11℃（動畫）\n",
      "吳德榮：周六冷空氣報到探11℃　冷到下周一\n",
      "140 5\n",
      "===========================\n",
      "【美夢一場】美台軍艦互訪皆是空？　卜睿哲：川普不會執行\n",
      "美國會授權軍艦來台　蒲博思：總統職權不需國會指揮\n",
      "美台軍艦互訪寫入國會意見　前高官：川普不會執行\n",
      "川普簽NDAA評估美台軍艦互停　立委憂台灣成籌碼\n",
      "川普簽署國防授權法　美艦停台列國會意見\n",
      "141 4\n",
      "===========================\n",
      "【咩姊台語】做直銷開公司建人脈　張誌家與前妻吸千萬捲款\n",
      "向張誌家討債未果　債主控他找人轟51槍報復\n",
      "【壹週刊】搞直銷吸金千萬　張誌家夫婦遭控詐騙\n",
      "張誌家遭爆假離婚成立公司詐騙　曾遭債主毆成豬頭\n",
      "198 4\n",
      "===========================\n",
      "被爆罵、敲台電　顏寬恒「模糊反空污焦點」\n",
      "【反嗆片】被爆向台電申請補助又罵空污　顏寬恒：不會拿人手短\n",
      "「一手罵台電、一手敲台電」　經委會要台電公布立委補助資料\n",
      "被顏寬恒點名也跟台電要補助　蔡其昌：不應與空污混為一談\n",
      "337 4\n",
      "===========================\n",
      "【壹週刊】百億貸款將到期　柯P放容積解套京華城\n",
      "560%容積爭議　威京：只是拿回應有的\n",
      "京華城容積率增至560%案　北市都發局同意、待都委會審議\n",
      "及時雨！柯文哲放寬容積　京華城爽納百億\n",
      "17 3\n",
      "===========================\n",
      "【不斷更新】桃園工廠惡火撲滅 6人仍失聯宿舍內發現一堆白骨\n",
      "桃園工廠火勢熄滅　員工宿舍內發現一堆白骨\n",
      "汽車用品大廠「矽卡」燒毀　資本額達2億\n",
      "183 3\n",
      "===========================\n",
      "【崩潰動畫】《天堂M》斷線50次　玩家罵聲連連\n",
      "台戰豪砸40萬抽寶一場空　怒批《天堂M》根本錢坑\n",
      "《天堂M》超過116萬人登入　50個伺服器仍塞到爆\n"
     ]
    }
   ],
   "source": [
    "for group, cnt in c.most_common(10):\n",
    "    print(group, cnt)\n",
    "    print('===========================')\n",
    "    articles = titles_ary[cluster_ary == group]\n",
    "    for news in articles:\n",
    "        print(news)\n"
   ]
  },
  {
   "cell_type": "code",
   "execution_count": 308,
   "metadata": {},
   "outputs": [
    {
     "data": {
      "text/plain": [
       "770"
      ]
     },
     "execution_count": 308,
     "metadata": {},
     "output_type": "execute_result"
    }
   ],
   "source": [
    "len(c.keys())"
   ]
  },
  {
   "cell_type": "code",
   "execution_count": 309,
   "metadata": {},
   "outputs": [
    {
     "data": {
      "text/plain": [
       "<19x34923 sparse matrix of type '<class 'numpy.int64'>'\n",
       "\twith 3008 stored elements in Compressed Sparse Row format>"
      ]
     },
     "execution_count": 309,
     "metadata": {},
     "output_type": "execute_result"
    }
   ],
   "source": [
    "X[cluster_ary == 69]"
   ]
  },
  {
   "cell_type": "code",
   "execution_count": 310,
   "metadata": {},
   "outputs": [],
   "source": [
    "v = X[cluster_ary == 69].sum(axis = 0)"
   ]
  },
  {
   "cell_type": "code",
   "execution_count": 311,
   "metadata": {},
   "outputs": [],
   "source": [
    "import numpy\n",
    "word_count = numpy.squeeze(np.asarray(v))"
   ]
  },
  {
   "cell_type": "code",
   "execution_count": 312,
   "metadata": {},
   "outputs": [
    {
     "data": {
      "text/plain": [
       "array([6, 0, 0, ..., 0, 0, 0], dtype=int64)"
      ]
     },
     "execution_count": 312,
     "metadata": {},
     "output_type": "execute_result"
    }
   ],
   "source": [
    "numpy.squeeze(np.asarray(v))"
   ]
  },
  {
   "cell_type": "code",
   "execution_count": 313,
   "metadata": {},
   "outputs": [
    {
     "data": {
      "text/plain": [
       "array([6, 0, 0, ..., 0, 0, 0], dtype=int64)"
      ]
     },
     "execution_count": 313,
     "metadata": {},
     "output_type": "execute_result"
    }
   ],
   "source": [
    "word_count"
   ]
  },
  {
   "cell_type": "code",
   "execution_count": 314,
   "metadata": {},
   "outputs": [],
   "source": [
    "pos = numpy.argsort(word_count)[::-1]"
   ]
  },
  {
   "cell_type": "code",
   "execution_count": 315,
   "metadata": {},
   "outputs": [],
   "source": [
    "#vectorizer.get_feature_names()"
   ]
  },
  {
   "cell_type": "code",
   "execution_count": 316,
   "metadata": {},
   "outputs": [],
   "source": [
    "\n",
    "nv = numpy.array(vectorizer.get_feature_names())"
   ]
  },
  {
   "cell_type": "code",
   "execution_count": 317,
   "metadata": {},
   "outputs": [
    {
     "data": {
      "text/plain": [
       "array(['小嫻', '何守正', '離婚', '結婚', '美國', '時間', '表示', '婚姻', '台灣', '自己'],\n",
       "      dtype='<U18')"
      ]
     },
     "execution_count": 317,
     "metadata": {},
     "output_type": "execute_result"
    }
   ],
   "source": [
    "nv[pos[0:10]]"
   ]
  },
  {
   "cell_type": "code",
   "execution_count": 318,
   "metadata": {},
   "outputs": [
    {
     "name": "stdout",
     "output_type": "stream",
     "text": [
      "3 30\n",
      "['全能' '神教' '中國' '宗教自由' '宗教' '迫害' '遭受' '國際' '組織' '媒體']\n",
      "===========================\n",
      "【特企】NGO聯名譴責中共迫害宗教信仰\n",
      "【特企】NGO聯名譴責中共迫害宗教信仰\n",
      "【特企】NGO聯名譴責中共迫害宗教信仰\n",
      "【特企】NGO聯名譴責中共迫害宗教信仰\n",
      "【特企】NGO聯名譴責中共迫害宗教信仰\n",
      "【特企】NGO聯名譴責中共迫害宗教信仰\n",
      "【特企】NGO聯名譴責中共迫害宗教信仰\n",
      "【特企】NGO聯名譴責中共迫害宗教信仰\n",
      "【特企】NGO聯名譴責中共迫害宗教信仰\n",
      "【特企】NGO聯名譴責中共迫害宗教信仰\n",
      "【特企】NGO聯名譴責中共迫害宗教信仰\n",
      "【特企】NGO聯名譴責中共迫害宗教信仰\n",
      "【特企】NGO聯名譴責中共迫害宗教信仰\n",
      "【特企】NGO聯名譴責中共迫害宗教信仰\n",
      "【特企】NGO聯名譴責中共迫害宗教信仰\n",
      "【特企】NGO聯名譴責中共迫害宗教信仰\n",
      "【特企】NGO聯名譴責中共迫害宗教信仰\n",
      "【特企】NGO聯名譴責中共迫害宗教信仰\n",
      "【特企】NGO聯名譴責中共迫害宗教信仰\n",
      "【特企】NGO聯名譴責中共迫害宗教信仰\n",
      "【特企】NGO聯名譴責中共迫害宗教信仰\n",
      "【特企】NGO聯名譴責中共迫害宗教信仰\n",
      "【特企】NGO聯名譴責中共迫害宗教信仰\n",
      "【特企】NGO聯名譴責中共迫害宗教信仰\n",
      "【特企】NGO聯名譴責中共迫害宗教信仰\n",
      "【特企】NGO聯名譴責中共迫害宗教信仰\n",
      "【特企】NGO聯名譴責中共迫害宗教信仰\n",
      "【特企】NGO聯名譴責中共迫害宗教信仰\n",
      "【特企】NGO聯名譴責中共迫害宗教信仰\n",
      "【特企】NGO聯名譴責中共迫害宗教信仰\n",
      "69 19\n",
      "['小嫻' '何守正' '離婚' '結婚' '美國' '時間' '表示' '婚姻' '台灣' '自己']\n",
      "===========================\n",
      "【狗仔偷拍】小嫻搬離何守正家租66坪房　月租6萬元\n",
      "許聖梅心疼小嫻被當空氣　爆何守正「有兩個女學員」\n",
      "【動畫解盤】毒菇跳火線譙seafood　小嫻難瘦香菇\n",
      "不捨善良小嫻慘遭婚變　乃哥「命運捉弄人」\n",
      "【獨家】小嫻賣房求子　婆婆竟拒入籍何家\n",
      "小心！在美結婚台灣沒登記　偷腥照樣能捉姦\n",
      "小嫻離婚導火線　拉何守正信妙禪\n",
      "小嫻別傻傻被欺負！女律師說「姐寶」就要這樣對付\n",
      "小嫻守正結婚在台沒登記　想離婚只有兩條路\n",
      "大姑出面護弟！轟小嫻不能生「媽媽是全台最沒有尊嚴的婆婆」\n",
      "小嫻信奉妙禪　關鍵原因與何守正有關！\n",
      "小嫻何守正想離婚　必須先做這件事！\n",
      "「小嫻不快樂！」　許聖梅：何守正虧欠她\n",
      "【內幕動畫】小嫻婚變何守正姊反擊　不滿媽煮飯侍奉星媳婦\n",
      "小嫻多信妙禪？　曾見證「師父帶我跳舞」\n",
      "小嫻婚變無徵兆　男星嘆：兩人向來出雙入對\n",
      "【獨家內幕】太傷！小嫻被分手　何守正當小三面前攤牌\n",
      "【小嫻離婚】何守正稱沒有遺憾　人妻女星超火「一嘴屁話」\n",
      "【小嫻離婚】3大退讓人財兩失　求子花光430萬積蓄\n",
      "113 8\n",
      "['ig' '專頁' '影片' '網友' '分享' '網路' '日前' '來源' 'cuteanimalsco' '報導']\n",
      "===========================\n",
      "驚！　野生捕獲恐龍遛汪星人\n",
      "驚！　野生捕獲恐龍遛汪星人\n",
      "搔癢無尾熊 表情超enjoy\n",
      "【笑翻片】各種抓！動物止癢出奇招\n",
      "【保護片】就是不能下水！狗狗護小主人\n",
      "群狗亂舞開趴　畫面太「美」讓人不敢看\n",
      "一家人霸氣合照　萌到爆！\n",
      "超近看螞蟻食蜂蜜　竟感到療癒？\n",
      "45 5\n",
      "['北部' '氣象' '地區' '空氣' '影響' '周六' '天氣' '半部' '季風' '局部']\n",
      "===========================\n",
      "後天入冬最強冷空氣來襲　低溫下探12℃\n",
      "像灑了糖霜！玉山今晨降雪　積雪0.5公分\n",
      "明溫暖舒適！　吳德榮：周六變天下探11℃\n",
      "輕颱啟德恐生成　入冬最強冷空氣周末來襲下探11℃（動畫）\n",
      "吳德榮：周六冷空氣報到探11℃　冷到下周一\n",
      "140 5\n",
      "['美國' '川普' '台灣' '國會' '軍艦' '總統' '美台' '法案' 'ndaa' '中國']\n",
      "===========================\n",
      "【美夢一場】美台軍艦互訪皆是空？　卜睿哲：川普不會執行\n",
      "美國會授權軍艦來台　蒲博思：總統職權不需國會指揮\n",
      "美台軍艦互訪寫入國會意見　前高官：川普不會執行\n",
      "川普簽NDAA評估美台軍艦互停　立委憂台灣成籌碼\n",
      "川普簽署國防授權法　美艦停台列國會意見\n",
      "141 4\n",
      "['誌家' '公司' '安倢' '直銷' '鍾女' '鼎盛' '萬元' '友人' '表示' '投資']\n",
      "===========================\n",
      "【咩姊台語】做直銷開公司建人脈　張誌家與前妻吸千萬捲款\n",
      "向張誌家討債未果　債主控他找人轟51槍報復\n",
      "【壹週刊】搞直銷吸金千萬　張誌家夫婦遭控詐騙\n",
      "張誌家遭爆假離婚成立公司詐騙　曾遭債主毆成豬頭\n",
      "198 4\n",
      "['台電' '補助' '申請' '立委' '寬恒' '一手' '萬元' '空污' '睦鄰' '經費']\n",
      "===========================\n",
      "被爆罵、敲台電　顏寬恒「模糊反空污焦點」\n",
      "【反嗆片】被爆向台電申請補助又罵空污　顏寬恒：不會拿人手短\n",
      "「一手罵台電、一手敲台電」　經委會要台電公布立委補助資料\n",
      "被顏寬恒點名也跟台電要補助　蔡其昌：不應與空污混為一談\n",
      "337 4\n",
      "['560' '京華' '京華城' '市府' '計畫' '積率' '察院' '都市' '發局' '放寬']\n",
      "===========================\n",
      "【壹週刊】百億貸款將到期　柯P放容積解套京華城\n",
      "560%容積爭議　威京：只是拿回應有的\n",
      "京華城容積率增至560%案　北市都發局同意、待都委會審議\n",
      "及時雨！柯文哲放寬容積　京華城爽納百億\n",
      "17 3\n",
      "['桃園' '員工' '失聯' '宿舍' '汽車' '工廠' '一名' '逃出' '移工' '矽卡']\n",
      "===========================\n",
      "【不斷更新】桃園工廠惡火撲滅 6人仍失聯宿舍內發現一堆白骨\n",
      "桃園工廠火勢熄滅　員工宿舍內發現一堆白骨\n",
      "汽車用品大廠「矽卡」燒毀　資本額達2億\n",
      "183 3\n",
      "['遊戲' '天堂' '玩家' '伺服器' '橘子' '開服' '上線' '12' '網友' '開放']\n",
      "===========================\n",
      "【崩潰動畫】《天堂M》斷線50次　玩家罵聲連連\n",
      "台戰豪砸40萬抽寶一場空　怒批《天堂M》根本錢坑\n",
      "《天堂M》超過116萬人登入　50個伺服器仍塞到爆\n"
     ]
    }
   ],
   "source": [
    "for group, cnt in c.most_common(10):\n",
    "    print(group, cnt)\n",
    "    v = X[cluster_ary == group].sum(axis = 0)\n",
    "    word_count = numpy.squeeze(np.asarray(v))\n",
    "    pos = numpy.argsort(word_count)[::-1]\n",
    "    keyword = nv[pos[0:10]]\n",
    "    print(keyword)\n",
    "    print('===========================')\n",
    "    articles = titles_ary[cluster_ary == group]\n",
    "    for news in articles:\n",
    "        print(news)\n"
   ]
  },
  {
   "cell_type": "code",
   "execution_count": 321,
   "metadata": {},
   "outputs": [],
   "source": [
    "nx.write_graphml(G, 'article.graphml')"
   ]
  },
  {
   "cell_type": "code",
   "execution_count": null,
   "metadata": {},
   "outputs": [],
   "source": []
  }
 ],
 "metadata": {
  "kernelspec": {
   "display_name": "Python 3",
   "language": "python",
   "name": "python3"
  },
  "language_info": {
   "codemirror_mode": {
    "name": "ipython",
    "version": 3
   },
   "file_extension": ".py",
   "mimetype": "text/x-python",
   "name": "python",
   "nbconvert_exporter": "python",
   "pygments_lexer": "ipython3",
   "version": "3.6.2"
  }
 },
 "nbformat": 4,
 "nbformat_minor": 2
}
