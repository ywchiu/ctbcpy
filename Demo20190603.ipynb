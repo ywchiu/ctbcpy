{
 "cells": [
  {
   "cell_type": "markdown",
   "metadata": {},
   "source": [
    "## 讀取資料"
   ]
  },
  {
   "cell_type": "code",
   "execution_count": 71,
   "metadata": {},
   "outputs": [
    {
     "name": "stderr",
     "output_type": "stream",
     "text": [
      "/Users/davidchiu/.pyenv/versions/3.6.2/lib/python3.6/site-packages/IPython/core/interactiveshell.py:2714: DtypeWarning:\n",
      "\n",
      "Columns (0,19,47,123,124,125,128,129,130,133) have mixed types. Specify dtype option on import or set low_memory=False.\n",
      "\n"
     ]
    }
   ],
   "source": [
    "import pandas as pd\n",
    "\n",
    "#讀取資料\n",
    "dataset = pd.read_csv('LoanStats.csv')"
   ]
  },
  {
   "cell_type": "code",
   "execution_count": 72,
   "metadata": {},
   "outputs": [
    {
     "name": "stdout",
     "output_type": "stream",
     "text": [
      "<class 'pandas.core.frame.DataFrame'>\n",
      "RangeIndex: 423814 entries, 0 to 423813\n",
      "Columns: 145 entries, id to settlement_term\n",
      "dtypes: float64(108), object(37)\n",
      "memory usage: 468.8+ MB\n"
     ]
    }
   ],
   "source": [
    "dataset.info()"
   ]
  },
  {
   "cell_type": "code",
   "execution_count": 73,
   "metadata": {},
   "outputs": [
    {
     "data": {
      "text/plain": [
       "Index(['id', 'member_id', 'loan_amnt', 'funded_amnt', 'funded_amnt_inv',\n",
       "       'term', 'int_rate', 'installment', 'grade', 'sub_grade',\n",
       "       ...\n",
       "       'hardship_payoff_balance_amount', 'hardship_last_payment_amount',\n",
       "       'disbursement_method', 'debt_settlement_flag',\n",
       "       'debt_settlement_flag_date', 'settlement_status', 'settlement_date',\n",
       "       'settlement_amount', 'settlement_percentage', 'settlement_term'],\n",
       "      dtype='object', length=145)"
      ]
     },
     "execution_count": 73,
     "metadata": {},
     "output_type": "execute_result"
    }
   ],
   "source": [
    "dataset.columns"
   ]
  },
  {
   "cell_type": "code",
   "execution_count": 74,
   "metadata": {},
   "outputs": [
    {
     "data": {
      "text/html": [
       "<div>\n",
       "<style scoped>\n",
       "    .dataframe tbody tr th:only-of-type {\n",
       "        vertical-align: middle;\n",
       "    }\n",
       "\n",
       "    .dataframe tbody tr th {\n",
       "        vertical-align: top;\n",
       "    }\n",
       "\n",
       "    .dataframe thead th {\n",
       "        text-align: right;\n",
       "    }\n",
       "</style>\n",
       "<table border=\"1\" class=\"dataframe\">\n",
       "  <thead>\n",
       "    <tr style=\"text-align: right;\">\n",
       "      <th></th>\n",
       "      <th>id</th>\n",
       "      <th>member_id</th>\n",
       "      <th>loan_amnt</th>\n",
       "      <th>funded_amnt</th>\n",
       "      <th>funded_amnt_inv</th>\n",
       "      <th>term</th>\n",
       "      <th>int_rate</th>\n",
       "      <th>installment</th>\n",
       "      <th>grade</th>\n",
       "      <th>sub_grade</th>\n",
       "      <th>...</th>\n",
       "      <th>hardship_payoff_balance_amount</th>\n",
       "      <th>hardship_last_payment_amount</th>\n",
       "      <th>disbursement_method</th>\n",
       "      <th>debt_settlement_flag</th>\n",
       "      <th>debt_settlement_flag_date</th>\n",
       "      <th>settlement_status</th>\n",
       "      <th>settlement_date</th>\n",
       "      <th>settlement_amount</th>\n",
       "      <th>settlement_percentage</th>\n",
       "      <th>settlement_term</th>\n",
       "    </tr>\n",
       "  </thead>\n",
       "  <tbody>\n",
       "    <tr>\n",
       "      <th>0</th>\n",
       "      <td>NaN</td>\n",
       "      <td>NaN</td>\n",
       "      <td>12000.0</td>\n",
       "      <td>12000.0</td>\n",
       "      <td>12000.0</td>\n",
       "      <td>36 months</td>\n",
       "      <td>7.62%</td>\n",
       "      <td>373.94</td>\n",
       "      <td>A</td>\n",
       "      <td>A3</td>\n",
       "      <td>...</td>\n",
       "      <td>NaN</td>\n",
       "      <td>NaN</td>\n",
       "      <td>Cash</td>\n",
       "      <td>N</td>\n",
       "      <td>NaN</td>\n",
       "      <td>NaN</td>\n",
       "      <td>NaN</td>\n",
       "      <td>NaN</td>\n",
       "      <td>NaN</td>\n",
       "      <td>NaN</td>\n",
       "    </tr>\n",
       "    <tr>\n",
       "      <th>1</th>\n",
       "      <td>NaN</td>\n",
       "      <td>NaN</td>\n",
       "      <td>27050.0</td>\n",
       "      <td>27050.0</td>\n",
       "      <td>27050.0</td>\n",
       "      <td>36 months</td>\n",
       "      <td>10.99%</td>\n",
       "      <td>885.46</td>\n",
       "      <td>B</td>\n",
       "      <td>B2</td>\n",
       "      <td>...</td>\n",
       "      <td>NaN</td>\n",
       "      <td>NaN</td>\n",
       "      <td>Cash</td>\n",
       "      <td>N</td>\n",
       "      <td>NaN</td>\n",
       "      <td>NaN</td>\n",
       "      <td>NaN</td>\n",
       "      <td>NaN</td>\n",
       "      <td>NaN</td>\n",
       "      <td>NaN</td>\n",
       "    </tr>\n",
       "    <tr>\n",
       "      <th>2</th>\n",
       "      <td>NaN</td>\n",
       "      <td>NaN</td>\n",
       "      <td>12000.0</td>\n",
       "      <td>12000.0</td>\n",
       "      <td>12000.0</td>\n",
       "      <td>36 months</td>\n",
       "      <td>11.99%</td>\n",
       "      <td>398.52</td>\n",
       "      <td>B</td>\n",
       "      <td>B3</td>\n",
       "      <td>...</td>\n",
       "      <td>NaN</td>\n",
       "      <td>NaN</td>\n",
       "      <td>Cash</td>\n",
       "      <td>N</td>\n",
       "      <td>NaN</td>\n",
       "      <td>NaN</td>\n",
       "      <td>NaN</td>\n",
       "      <td>NaN</td>\n",
       "      <td>NaN</td>\n",
       "      <td>NaN</td>\n",
       "    </tr>\n",
       "    <tr>\n",
       "      <th>3</th>\n",
       "      <td>NaN</td>\n",
       "      <td>NaN</td>\n",
       "      <td>28000.0</td>\n",
       "      <td>28000.0</td>\n",
       "      <td>28000.0</td>\n",
       "      <td>36 months</td>\n",
       "      <td>7.62%</td>\n",
       "      <td>872.52</td>\n",
       "      <td>A</td>\n",
       "      <td>A3</td>\n",
       "      <td>...</td>\n",
       "      <td>NaN</td>\n",
       "      <td>NaN</td>\n",
       "      <td>Cash</td>\n",
       "      <td>N</td>\n",
       "      <td>NaN</td>\n",
       "      <td>NaN</td>\n",
       "      <td>NaN</td>\n",
       "      <td>NaN</td>\n",
       "      <td>NaN</td>\n",
       "      <td>NaN</td>\n",
       "    </tr>\n",
       "    <tr>\n",
       "      <th>4</th>\n",
       "      <td>NaN</td>\n",
       "      <td>NaN</td>\n",
       "      <td>12000.0</td>\n",
       "      <td>12000.0</td>\n",
       "      <td>12000.0</td>\n",
       "      <td>36 months</td>\n",
       "      <td>10.99%</td>\n",
       "      <td>392.81</td>\n",
       "      <td>B</td>\n",
       "      <td>B2</td>\n",
       "      <td>...</td>\n",
       "      <td>NaN</td>\n",
       "      <td>NaN</td>\n",
       "      <td>Cash</td>\n",
       "      <td>N</td>\n",
       "      <td>NaN</td>\n",
       "      <td>NaN</td>\n",
       "      <td>NaN</td>\n",
       "      <td>NaN</td>\n",
       "      <td>NaN</td>\n",
       "      <td>NaN</td>\n",
       "    </tr>\n",
       "  </tbody>\n",
       "</table>\n",
       "<p>5 rows × 145 columns</p>\n",
       "</div>"
      ],
      "text/plain": [
       "    id  member_id  loan_amnt  funded_amnt  funded_amnt_inv        term  \\\n",
       "0  NaN        NaN    12000.0      12000.0          12000.0   36 months   \n",
       "1  NaN        NaN    27050.0      27050.0          27050.0   36 months   \n",
       "2  NaN        NaN    12000.0      12000.0          12000.0   36 months   \n",
       "3  NaN        NaN    28000.0      28000.0          28000.0   36 months   \n",
       "4  NaN        NaN    12000.0      12000.0          12000.0   36 months   \n",
       "\n",
       "  int_rate  installment grade sub_grade  ... hardship_payoff_balance_amount  \\\n",
       "0    7.62%       373.94     A        A3  ...                            NaN   \n",
       "1   10.99%       885.46     B        B2  ...                            NaN   \n",
       "2   11.99%       398.52     B        B3  ...                            NaN   \n",
       "3    7.62%       872.52     A        A3  ...                            NaN   \n",
       "4   10.99%       392.81     B        B2  ...                            NaN   \n",
       "\n",
       "  hardship_last_payment_amount disbursement_method  debt_settlement_flag  \\\n",
       "0                          NaN                Cash                     N   \n",
       "1                          NaN                Cash                     N   \n",
       "2                          NaN                Cash                     N   \n",
       "3                          NaN                Cash                     N   \n",
       "4                          NaN                Cash                     N   \n",
       "\n",
       "  debt_settlement_flag_date settlement_status settlement_date  \\\n",
       "0                       NaN               NaN             NaN   \n",
       "1                       NaN               NaN             NaN   \n",
       "2                       NaN               NaN             NaN   \n",
       "3                       NaN               NaN             NaN   \n",
       "4                       NaN               NaN             NaN   \n",
       "\n",
       "  settlement_amount  settlement_percentage settlement_term  \n",
       "0               NaN                    NaN             NaN  \n",
       "1               NaN                    NaN             NaN  \n",
       "2               NaN                    NaN             NaN  \n",
       "3               NaN                    NaN             NaN  \n",
       "4               NaN                    NaN             NaN  \n",
       "\n",
       "[5 rows x 145 columns]"
      ]
     },
     "execution_count": 74,
     "metadata": {},
     "output_type": "execute_result"
    }
   ],
   "source": [
    "dataset.head()"
   ]
  },
  {
   "cell_type": "markdown",
   "metadata": {},
   "source": [
    "## 計算遺失值比例"
   ]
  },
  {
   "cell_type": "code",
   "execution_count": 75,
   "metadata": {},
   "outputs": [
    {
     "data": {
      "text/plain": [
       "total_cu_tl                            1.000000\n",
       "sec_app_mort_acc                       1.000000\n",
       "sec_app_revol_util                     1.000000\n",
       "sec_app_open_act_il                    1.000000\n",
       "sec_app_num_rev_accts                  1.000000\n",
       "sec_app_chargeoff_within_12_mths       1.000000\n",
       "sec_app_collections_12_mths_ex_med     1.000000\n",
       "sec_app_mths_since_last_major_derog    1.000000\n",
       "sec_app_inq_last_6mths                 1.000000\n",
       "sec_app_earliest_cr_line               1.000000\n",
       "revol_bal_joint                        1.000000\n",
       "inq_last_12m                           1.000000\n",
       "inq_fi                                 1.000000\n",
       "all_util                               1.000000\n",
       "max_bal_bc                             1.000000\n",
       "open_rv_24m                            1.000000\n",
       "open_rv_12m                            1.000000\n",
       "il_util                                1.000000\n",
       "total_bal_il                           1.000000\n",
       "mths_since_rcnt_il                     1.000000\n",
       "open_il_24m                            1.000000\n",
       "open_il_12m                            1.000000\n",
       "open_act_il                            1.000000\n",
       "open_acc_6m                            1.000000\n",
       "verification_status_joint              1.000000\n",
       "dti_joint                              1.000000\n",
       "annual_inc_joint                       1.000000\n",
       "url                                    1.000000\n",
       "member_id                              1.000000\n",
       "sec_app_open_acc                       1.000000\n",
       "                                         ...   \n",
       "funded_amnt                            0.000009\n",
       "funded_amnt_inv                        0.000009\n",
       "delinq_2yrs                            0.000009\n",
       "hardship_flag                          0.000009\n",
       "inq_last_6mths                         0.000009\n",
       "open_acc                               0.000009\n",
       "tax_liens                              0.000009\n",
       "pub_rec_bankruptcies                   0.000009\n",
       "delinq_amnt                            0.000009\n",
       "chargeoff_within_12_mths               0.000009\n",
       "disbursement_method                    0.000009\n",
       "debt_settlement_flag                   0.000009\n",
       "application_type                       0.000009\n",
       "policy_code                            0.000009\n",
       "collections_12_mths_ex_med             0.000009\n",
       "last_pymnt_amnt                        0.000009\n",
       "collection_recovery_fee                0.000009\n",
       "recoveries                             0.000009\n",
       "total_rec_late_fee                     0.000009\n",
       "total_rec_int                          0.000009\n",
       "total_rec_prncp                        0.000009\n",
       "total_pymnt_inv                        0.000009\n",
       "total_pymnt                            0.000009\n",
       "out_prncp_inv                          0.000009\n",
       "out_prncp                              0.000009\n",
       "initial_list_status                    0.000009\n",
       "total_acc                              0.000009\n",
       "revol_bal                              0.000009\n",
       "pub_rec                                0.000009\n",
       "acc_now_delinq                         0.000009\n",
       "Length: 145, dtype: float64"
      ]
     },
     "execution_count": 75,
     "metadata": {},
     "output_type": "execute_result"
    }
   ],
   "source": [
    "(dataset.isna().sum() / len(dataset)).sort_values(ascending=False)"
   ]
  },
  {
   "cell_type": "code",
   "execution_count": 76,
   "metadata": {},
   "outputs": [
    {
     "data": {
      "text/plain": [
       "id                  True\n",
       "member_id           True\n",
       "loan_amnt          False\n",
       "funded_amnt        False\n",
       "funded_amnt_inv    False\n",
       "dtype: bool"
      ]
     },
     "execution_count": 76,
     "metadata": {},
     "output_type": "execute_result"
    }
   ],
   "source": [
    "((dataset.isna().sum() / len(dataset)) > 0.3).head()"
   ]
  },
  {
   "cell_type": "code",
   "execution_count": 77,
   "metadata": {},
   "outputs": [
    {
     "data": {
      "text/plain": [
       "id                                            1.0\n",
       "member_id                                     1.0\n",
       "loan_amnt                                     NaN\n",
       "funded_amnt                                   NaN\n",
       "funded_amnt_inv                               NaN\n",
       "term                                          NaN\n",
       "int_rate                                      NaN\n",
       "installment                                   NaN\n",
       "grade                                         NaN\n",
       "sub_grade                                     NaN\n",
       "emp_title                                     NaN\n",
       "emp_length                                    NaN\n",
       "home_ownership                                NaN\n",
       "annual_inc                                    NaN\n",
       "verification_status                           NaN\n",
       "issue_d                                       NaN\n",
       "loan_status                                   NaN\n",
       "pymnt_plan                                    NaN\n",
       "url                                           1.0\n",
       "desc                                          1.0\n",
       "purpose                                       NaN\n",
       "title                                         NaN\n",
       "zip_code                                      NaN\n",
       "addr_state                                    NaN\n",
       "dti                                           NaN\n",
       "delinq_2yrs                                   NaN\n",
       "earliest_cr_line                              NaN\n",
       "inq_last_6mths                                NaN\n",
       "mths_since_last_delinq                        1.0\n",
       "mths_since_last_record                        1.0\n",
       "                                             ... \n",
       "sec_app_open_acc                              1.0\n",
       "sec_app_revol_util                            1.0\n",
       "sec_app_open_act_il                           1.0\n",
       "sec_app_num_rev_accts                         1.0\n",
       "sec_app_chargeoff_within_12_mths              1.0\n",
       "sec_app_collections_12_mths_ex_med            1.0\n",
       "sec_app_mths_since_last_major_derog           1.0\n",
       "hardship_flag                                 NaN\n",
       "hardship_type                                 1.0\n",
       "hardship_reason                               1.0\n",
       "hardship_status                               1.0\n",
       "deferral_term                                 1.0\n",
       "hardship_amount                               1.0\n",
       "hardship_start_date                           1.0\n",
       "hardship_end_date                             1.0\n",
       "payment_plan_start_date                       1.0\n",
       "hardship_length                               1.0\n",
       "hardship_dpd                                  1.0\n",
       "hardship_loan_status                          1.0\n",
       "orig_projected_additional_accrued_interest    1.0\n",
       "hardship_payoff_balance_amount                1.0\n",
       "hardship_last_payment_amount                  1.0\n",
       "disbursement_method                           NaN\n",
       "debt_settlement_flag                          NaN\n",
       "debt_settlement_flag_date                     1.0\n",
       "settlement_status                             1.0\n",
       "settlement_date                               1.0\n",
       "settlement_amount                             1.0\n",
       "settlement_percentage                         1.0\n",
       "settlement_term                               1.0\n",
       "Length: 145, dtype: float64"
      ]
     },
     "execution_count": 77,
     "metadata": {},
     "output_type": "execute_result"
    }
   ],
   "source": [
    "import numpy as np\n",
    "s = (dataset.isna().sum() / len(dataset)) > 0.3\n",
    "\n",
    "s.where(s > 0.3)"
   ]
  },
  {
   "cell_type": "markdown",
   "metadata": {},
   "source": [
    "## 刪除遺失值比例過高的欄位"
   ]
  },
  {
   "cell_type": "code",
   "execution_count": 78,
   "metadata": {},
   "outputs": [],
   "source": [
    "dataset = dataset.iloc[:,2:111]         \n",
    "empty_cols = [i for i in range(45,72)]   \n",
    "dataset = dataset.drop(dataset.columns[empty_cols],axis=1)\n",
    "#dataset.info()"
   ]
  },
  {
   "cell_type": "code",
   "execution_count": 79,
   "metadata": {},
   "outputs": [
    {
     "data": {
      "text/plain": [
       "array(['Fully Paid', 'Charged Off', 'Late (31-120 days)', 'Current',\n",
       "       'In Grace Period', nan, 'Late (16-30 days)', 'Default'],\n",
       "      dtype=object)"
      ]
     },
     "execution_count": 79,
     "metadata": {},
     "output_type": "execute_result"
    }
   ],
   "source": [
    "dataset['loan_status'].unique()"
   ]
  },
  {
   "cell_type": "markdown",
   "metadata": {},
   "source": [
    "## 目標編碼轉換"
   ]
  },
  {
   "cell_type": "code",
   "execution_count": 80,
   "metadata": {},
   "outputs": [],
   "source": [
    "data_with_loanstatus_sliced = dataset[(dataset['loan_status']==\"Fully Paid\") | (dataset['loan_status']==\"Charged Off\")]"
   ]
  },
  {
   "cell_type": "code",
   "execution_count": 81,
   "metadata": {},
   "outputs": [],
   "source": [
    "#data_with_loanstatus_sliced.info()"
   ]
  },
  {
   "cell_type": "code",
   "execution_count": 82,
   "metadata": {},
   "outputs": [
    {
     "data": {
      "text/plain": [
       "0    Fully Paid\n",
       "1    Fully Paid\n",
       "2    Fully Paid\n",
       "3    Fully Paid\n",
       "4    Fully Paid\n",
       "Name: loan_status, dtype: object"
      ]
     },
     "execution_count": 82,
     "metadata": {},
     "output_type": "execute_result"
    }
   ],
   "source": [
    "dataset['loan_status'].head()"
   ]
  },
  {
   "cell_type": "code",
   "execution_count": 83,
   "metadata": {},
   "outputs": [],
   "source": [
    "di = {\"Fully Paid\":0, \"Charged Off\":1}   \n",
    "Dataset_withBoolTarget = data_with_loanstatus_sliced.replace({\"loan_status\": di})\n"
   ]
  },
  {
   "cell_type": "code",
   "execution_count": 84,
   "metadata": {},
   "outputs": [
    {
     "data": {
      "text/plain": [
       "0    0\n",
       "1    0\n",
       "2    0\n",
       "3    0\n",
       "4    0\n",
       "Name: loan_status, dtype: int64"
      ]
     },
     "execution_count": 84,
     "metadata": {},
     "output_type": "execute_result"
    }
   ],
   "source": [
    "Dataset_withBoolTarget['loan_status'].head()"
   ]
  },
  {
   "cell_type": "markdown",
   "metadata": {},
   "source": [
    "## 探索遺失值"
   ]
  },
  {
   "cell_type": "code",
   "execution_count": 85,
   "metadata": {},
   "outputs": [],
   "source": [
    "stats = Dataset_withBoolTarget.isnull().sum(axis = 1)"
   ]
  },
  {
   "cell_type": "code",
   "execution_count": 86,
   "metadata": {},
   "outputs": [
    {
     "name": "stdout",
     "output_type": "stream",
     "text": [
      "Populating the interactive namespace from numpy and matplotlib\n"
     ]
    },
    {
     "data": {
      "text/plain": [
       "<matplotlib.axes._subplots.AxesSubplot at 0x12f6fcdd8>"
      ]
     },
     "execution_count": 86,
     "metadata": {},
     "output_type": "execute_result"
    },
    {
     "data": {
      "image/png": "[encoded data removed]",
      "text/plain": [
       "<Figure size 432x288 with 1 Axes>"
      ]
     },
     "metadata": {},
     "output_type": "display_data"
    }
   ],
   "source": [
    "%pylab inline\n",
    "stats.plot(kind = 'hist')"
   ]
  },
  {
   "cell_type": "code",
   "execution_count": 87,
   "metadata": {},
   "outputs": [
    {
     "data": {
      "text/plain": [
       "<matplotlib.axes._subplots.AxesSubplot at 0x12b33c630>"
      ]
     },
     "execution_count": 87,
     "metadata": {},
     "output_type": "execute_result"
    },
    {
     "data": {
      "image/png": "[encoded data removed]",
      "text/plain": [
       "<Figure size 432x288 with 1 Axes>"
      ]
     },
     "metadata": {},
     "output_type": "display_data"
    }
   ],
   "source": [
    "stats.plot(kind = 'box')"
   ]
  },
  {
   "cell_type": "code",
   "execution_count": 88,
   "metadata": {},
   "outputs": [],
   "source": [
    "stats2 = Dataset_withBoolTarget.isnull().sum(axis = 0)"
   ]
  },
  {
   "cell_type": "code",
   "execution_count": 89,
   "metadata": {},
   "outputs": [
    {
     "name": "stdout",
     "output_type": "stream",
     "text": [
      "Populating the interactive namespace from numpy and matplotlib\n"
     ]
    },
    {
     "data": {
      "text/plain": [
       "<matplotlib.axes._subplots.AxesSubplot at 0x191209668>"
      ]
     },
     "execution_count": 89,
     "metadata": {},
     "output_type": "execute_result"
    },
    {
     "data": {
      "image/png": "[encoded data removed]",
      "text/plain": [
       "<Figure size 432x288 with 1 Axes>"
      ]
     },
     "metadata": {},
     "output_type": "display_data"
    }
   ],
   "source": [
    "%pylab inline\n",
    "stats2.plot(kind = 'hist')"
   ]
  },
  {
   "cell_type": "code",
   "execution_count": 90,
   "metadata": {},
   "outputs": [
    {
     "data": {
      "text/plain": [
       "<matplotlib.axes._subplots.AxesSubplot at 0x12b33cf28>"
      ]
     },
     "execution_count": 90,
     "metadata": {},
     "output_type": "execute_result"
    },
    {
     "data": {
      "image/png": "[encoded data removed]",
      "text/plain": [
       "<Figure size 432x288 with 1 Axes>"
      ]
     },
     "metadata": {},
     "output_type": "display_data"
    }
   ],
   "source": [
    "stats2.plot(kind = 'box')"
   ]
  },
  {
   "cell_type": "code",
   "execution_count": 91,
   "metadata": {},
   "outputs": [
    {
     "data": {
      "text/plain": [
       "(411273, 82)"
      ]
     },
     "execution_count": 91,
     "metadata": {},
     "output_type": "execute_result"
    }
   ],
   "source": [
    "Dataset_withBoolTarget.shape"
   ]
  },
  {
   "cell_type": "markdown",
   "metadata": {},
   "source": [
    "## 刪除遺失值超過 340000 的欄位"
   ]
  },
  {
   "cell_type": "code",
   "execution_count": 92,
   "metadata": {},
   "outputs": [
    {
     "name": "stdout",
     "output_type": "stream",
     "text": [
      "Current shape of dataset : (411273, 76)\n"
     ]
    }
   ],
   "source": [
    "dataset=Dataset_withBoolTarget.dropna(thresh = 340000,axis=1) \n",
    "print(\"Current shape of dataset :\",dataset.shape)"
   ]
  },
  {
   "cell_type": "code",
   "execution_count": 93,
   "metadata": {},
   "outputs": [],
   "source": [
    "stats2 = dataset.isnull().sum(axis = 0)"
   ]
  },
  {
   "cell_type": "code",
   "execution_count": 94,
   "metadata": {},
   "outputs": [
    {
     "data": {
      "text/plain": [
       "<matplotlib.axes._subplots.AxesSubplot at 0x111525518>"
      ]
     },
     "execution_count": 94,
     "metadata": {},
     "output_type": "execute_result"
    },
    {
     "data": {
      "image/png": "[encoded data removed]",
      "text/plain": [
       "<Figure size 432x288 with 1 Axes>"
      ]
     },
     "metadata": {},
     "output_type": "display_data"
    }
   ],
   "source": [
    "stats2.plot(kind = 'box')"
   ]
  },
  {
   "cell_type": "markdown",
   "metadata": {},
   "source": [
    "## 移除遺失值過高的欄位"
   ]
  },
  {
   "cell_type": "code",
   "execution_count": 95,
   "metadata": {},
   "outputs": [
    {
     "name": "stdout",
     "output_type": "stream",
     "text": [
      "Current shape of dataset : (411273, 54)\n"
     ]
    }
   ],
   "source": [
    "#移除欄位\n",
    "del_col_names = [\"delinq_2yrs\",  \"last_pymnt_d\", \"chargeoff_within_12_mths\",\"delinq_amnt\",\"emp_title\", \"term\", \"emp_title\", \"pymnt_plan\",\"purpose\",\"title\", \"zip_code\", \"verification_status\", \"dti\",\"earliest_cr_line\", \"initial_list_status\", \"out_prncp\",\n",
    "\"pymnt_plan\", \"num_tl_90g_dpd_24m\", \"num_tl_30dpd\", \"num_tl_120dpd_2m\", \"num_accts_ever_120_pd\", \"delinq_amnt\", \n",
    "\"chargeoff_within_12_mths\", \"total_rec_late_fee\", \"out_prncp_inv\", \"issue_d\"] \n",
    "dataset = dataset.drop(labels = del_col_names, axis = 1) \n",
    "print(\"Current shape of dataset :\",dataset.shape)"
   ]
  },
  {
   "cell_type": "code",
   "execution_count": 100,
   "metadata": {},
   "outputs": [
    {
     "data": {
      "text/plain": [
       "mths_since_recent_inq    0.116837\n",
       "mo_sin_old_il_acct       0.099136\n",
       "pct_tl_nvr_dlq           0.067824\n",
       "avg_cur_bal              0.067481\n",
       "mo_sin_old_rev_tl_op     0.067454\n",
       "dtype: float64"
      ]
     },
     "execution_count": 100,
     "metadata": {},
     "output_type": "execute_result"
    }
   ],
   "source": [
    "(dataset.isna().sum() / len(dataset)).sort_values(ascending= False).head()"
   ]
  },
  {
   "cell_type": "code",
   "execution_count": 101,
   "metadata": {},
   "outputs": [
    {
     "data": {
      "text/plain": [
       "<matplotlib.axes._subplots.AxesSubplot at 0x11fcc24e0>"
      ]
     },
     "execution_count": 101,
     "metadata": {},
     "output_type": "execute_result"
    },
    {
     "data": {
      "image/png": "[encoded data removed]",
      "text/plain": [
       "<Figure size 432x288 with 1 Axes>"
      ]
     },
     "metadata": {},
     "output_type": "display_data"
    }
   ],
   "source": [
    "(dataset.isna().sum() / len(dataset)).plot(kind= 'hist')"
   ]
  },
  {
   "cell_type": "code",
   "execution_count": 102,
   "metadata": {},
   "outputs": [
    {
     "data": {
      "text/plain": [
       "<matplotlib.axes._subplots.AxesSubplot at 0x11fd73828>"
      ]
     },
     "execution_count": 102,
     "metadata": {},
     "output_type": "execute_result"
    },
    {
     "data": {
      "image/png": "[encoded data removed]",
      "text/plain": [
       "<Figure size 432x288 with 1 Axes>"
      ]
     },
     "metadata": {},
     "output_type": "display_data"
    }
   ],
   "source": [
    "(dataset.isna().sum() / len(dataset)).plot(kind= 'box')"
   ]
  },
  {
   "cell_type": "markdown",
   "metadata": {},
   "source": [
    "## Plotly\n",
    "- pip install plotly"
   ]
  },
  {
   "cell_type": "code",
   "execution_count": 48,
   "metadata": {},
   "outputs": [
    {
     "name": "stdout",
     "output_type": "stream",
     "text": [
      "Requirement already satisfied: plotly in /Users/davidchiu/.pyenv/versions/3.6.2/lib/python3.6/site-packages\n",
      "Requirement already satisfied: requests in /Users/davidchiu/.pyenv/versions/3.6.2/lib/python3.6/site-packages (from plotly)\n",
      "Requirement already satisfied: six in /Users/davidchiu/.pyenv/versions/3.6.2/lib/python3.6/site-packages (from plotly)\n",
      "Requirement already satisfied: retrying>=1.3.3 in /Users/davidchiu/.pyenv/versions/3.6.2/lib/python3.6/site-packages (from plotly)\n",
      "Requirement already satisfied: nbformat>=4.2 in /Users/davidchiu/.pyenv/versions/3.6.2/lib/python3.6/site-packages (from plotly)\n",
      "Collecting decorator>=4.0.6 (from plotly)\n",
      "  Downloading https://files.pythonhosted.org/packages/5f/88/0075e461560a1e750a0dcbf77f1d9de775028c37a19a346a6c565a257399/decorator-4.4.0-py2.py3-none-any.whl\n",
      "Requirement already satisfied: pytz in /Users/davidchiu/.pyenv/versions/3.6.2/lib/python3.6/site-packages (from plotly)\n",
      "Requirement already satisfied: ipython-genutils in /Users/davidchiu/.pyenv/versions/3.6.2/lib/python3.6/site-packages (from nbformat>=4.2->plotly)\n",
      "Requirement already satisfied: jupyter-core in /Users/davidchiu/.pyenv/versions/3.6.2/lib/python3.6/site-packages (from nbformat>=4.2->plotly)\n",
      "Requirement already satisfied: traitlets>=4.1 in /Users/davidchiu/.pyenv/versions/3.6.2/lib/python3.6/site-packages (from nbformat>=4.2->plotly)\n",
      "Requirement already satisfied: jsonschema!=2.5.0,>=2.4 in /Users/davidchiu/.pyenv/versions/3.6.2/lib/python3.6/site-packages (from nbformat>=4.2->plotly)\n",
      "Installing collected packages: decorator\n",
      "  Found existing installation: decorator 3.4.0\n",
      "    Uninstalling decorator-3.4.0:\n",
      "      Successfully uninstalled decorator-3.4.0\n",
      "Successfully installed decorator-4.4.0\n",
      "\u001b[33mYou are using pip version 9.0.1, however version 19.1.1 is available.\n",
      "You should consider upgrading via the 'pip install --upgrade pip' command.\u001b[0m\n"
     ]
    }
   ],
   "source": [
    "!  pip install plotly"
   ]
  },
  {
   "cell_type": "code",
   "execution_count": 51,
   "metadata": {},
   "outputs": [
    {
     "data": {
      "text/html": [
       "<script type=\"text/javascript\">window.PlotlyConfig = {MathJaxConfig: 'local'};</script><script type=\"text/javascript\">if (window.MathJax) {MathJax.Hub.Config({SVG: {font: \"STIX-Web\"}});}</script><script>requirejs.config({paths: { 'plotly': ['https://cdn.plot.ly/plotly-latest.min']},});if(!window._Plotly) {require(['plotly'],function(plotly) {window._Plotly=plotly;});}</script>"
      ],
      "text/vnd.plotly.v1+html": [
       "<script type=\"text/javascript\">window.PlotlyConfig = {MathJaxConfig: 'local'};</script><script type=\"text/javascript\">if (window.MathJax) {MathJax.Hub.Config({SVG: {font: \"STIX-Web\"}});}</script><script>requirejs.config({paths: { 'plotly': ['https://cdn.plot.ly/plotly-latest.min']},});if(!window._Plotly) {require(['plotly'],function(plotly) {window._Plotly=plotly;});}</script>"
      ]
     },
     "metadata": {},
     "output_type": "display_data"
    }
   ],
   "source": [
    "import plotly.offline as pyo\n",
    "import plotly.graph_objs as go\n",
    "import numpy as np\n",
    "pyo.init_notebook_mode(connected=True)"
   ]
  },
  {
   "cell_type": "code",
   "execution_count": 52,
   "metadata": {},
   "outputs": [
    {
     "data": {
      "text/plain": [
       "array([39, 29, 15,  8, 21, 39])"
      ]
     },
     "execution_count": 52,
     "metadata": {},
     "output_type": "execute_result"
    }
   ],
   "source": [
    "np.random.seed(42)\n",
    "np.random.randint(1,42,6)"
   ]
  },
  {
   "cell_type": "code",
   "execution_count": 53,
   "metadata": {},
   "outputs": [],
   "source": [
    "np.random.seed(42)\n",
    "random_x = np.random.randint(1,101,100)\n",
    "random_y = np.random.randint(1,101,100)"
   ]
  },
  {
   "cell_type": "code",
   "execution_count": 54,
   "metadata": {},
   "outputs": [],
   "source": [
    "data = [\n",
    "    go.Scatter(\n",
    "        x = random_x,\n",
    "        y = random_y,\n",
    "        mode = 'markers',\n",
    "    )\n",
    "]"
   ]
  },
  {
   "cell_type": "code",
   "execution_count": 55,
   "metadata": {},
   "outputs": [
    {
     "data": {
      "application/vnd.plotly.v1+json": {
       "data": [
        {
         "mode": "markers",
         "type": "scatter",
         "uid": "b85a52ba-7750-4679-bde8-895e2ae8b711",
         "x": [
          52,
          93,
          15,
          72,
          61,
          21,
          83,
          87,
          75,
          75,
          88,
          100,
          24,
          3,
          22,
          53,
          2,
          88,
          30,
          38,
          2,
          64,
          60,
          21,
          33,
          76,
          58,
          22,
          89,
          49,
          91,
          59,
          42,
          92,
          60,
          80,
          15,
          62,
          62,
          47,
          62,
          51,
          55,
          64,
          3,
          51,
          7,
          21,
          73,
          39,
          18,
          4,
          89,
          60,
          14,
          9,
          90,
          53,
          2,
          84,
          92,
          60,
          71,
          44,
          8,
          47,
          35,
          78,
          81,
          36,
          50,
          4,
          2,
          6,
          54,
          4,
          54,
          93,
          63,
          18,
          90,
          44,
          34,
          74,
          62,
          100,
          14,
          95,
          48,
          15,
          72,
          78,
          87,
          62,
          40,
          85,
          80,
          82,
          53,
          24
         ],
         "y": [
          26,
          89,
          60,
          41,
          29,
          15,
          45,
          65,
          89,
          71,
          9,
          88,
          1,
          8,
          88,
          63,
          11,
          81,
          8,
          35,
          35,
          33,
          5,
          41,
          28,
          7,
          73,
          72,
          12,
          34,
          33,
          48,
          23,
          62,
          88,
          37,
          99,
          44,
          86,
          91,
          35,
          65,
          99,
          47,
          78,
          3,
          1,
          5,
          90,
          14,
          27,
          9,
          79,
          15,
          90,
          42,
          77,
          51,
          63,
          96,
          52,
          96,
          4,
          94,
          23,
          15,
          43,
          29,
          36,
          13,
          32,
          71,
          59,
          86,
          28,
          66,
          42,
          45,
          62,
          57,
          6,
          28,
          28,
          44,
          84,
          30,
          62,
          75,
          92,
          89,
          62,
          97,
          1,
          27,
          62,
          77,
          3,
          70,
          72,
          27
         ]
        }
       ],
       "layout": {}
      },
      "text/html": [
       "<div id=\"d8ce2d82-ad27-4d13-a133-4dd2aa6ee8e2\" style=\"height: 525px; width: 100%;\" class=\"plotly-graph-div\"></div><script type=\"text/javascript\">require([\"plotly\"], function(Plotly) { window.PLOTLYENV=window.PLOTLYENV || {};window.PLOTLYENV.BASE_URL=\"https://plot.ly\";Plotly.newPlot(\"d8ce2d82-ad27-4d13-a133-4dd2aa6ee8e2\", [{\"mode\": \"markers\", \"x\": [52, 93, 15, 72, 61, 21, 83, 87, 75, 75, 88, 100, 24, 3, 22, 53, 2, 88, 30, 38, 2, 64, 60, 21, 33, 76, 58, 22, 89, 49, 91, 59, 42, 92, 60, 80, 15, 62, 62, 47, 62, 51, 55, 64, 3, 51, 7, 21, 73, 39, 18, 4, 89, 60, 14, 9, 90, 53, 2, 84, 92, 60, 71, 44, 8, 47, 35, 78, 81, 36, 50, 4, 2, 6, 54, 4, 54, 93, 63, 18, 90, 44, 34, 74, 62, 100, 14, 95, 48, 15, 72, 78, 87, 62, 40, 85, 80, 82, 53, 24], \"y\": [26, 89, 60, 41, 29, 15, 45, 65, 89, 71, 9, 88, 1, 8, 88, 63, 11, 81, 8, 35, 35, 33, 5, 41, 28, 7, 73, 72, 12, 34, 33, 48, 23, 62, 88, 37, 99, 44, 86, 91, 35, 65, 99, 47, 78, 3, 1, 5, 90, 14, 27, 9, 79, 15, 90, 42, 77, 51, 63, 96, 52, 96, 4, 94, 23, 15, 43, 29, 36, 13, 32, 71, 59, 86, 28, 66, 42, 45, 62, 57, 6, 28, 28, 44, 84, 30, 62, 75, 92, 89, 62, 97, 1, 27, 62, 77, 3, 70, 72, 27], \"type\": \"scatter\", \"uid\": \"d5070fdc-15a0-4af0-ad05-b9408c273500\"}], {}, {\"showLink\": true, \"linkText\": \"Export to plot.ly\"})});</script><script type=\"text/javascript\">window.addEventListener(\"resize\", function(){Plotly.Plots.resize(document.getElementById(\"d8ce2d82-ad27-4d13-a133-4dd2aa6ee8e2\"));});</script>"
      ],
      "text/vnd.plotly.v1+html": [
       "<div id=\"d8ce2d82-ad27-4d13-a133-4dd2aa6ee8e2\" style=\"height: 525px; width: 100%;\" class=\"plotly-graph-div\"></div><script type=\"text/javascript\">require([\"plotly\"], function(Plotly) { window.PLOTLYENV=window.PLOTLYENV || {};window.PLOTLYENV.BASE_URL=\"https://plot.ly\";Plotly.newPlot(\"d8ce2d82-ad27-4d13-a133-4dd2aa6ee8e2\", [{\"mode\": \"markers\", \"x\": [52, 93, 15, 72, 61, 21, 83, 87, 75, 75, 88, 100, 24, 3, 22, 53, 2, 88, 30, 38, 2, 64, 60, 21, 33, 76, 58, 22, 89, 49, 91, 59, 42, 92, 60, 80, 15, 62, 62, 47, 62, 51, 55, 64, 3, 51, 7, 21, 73, 39, 18, 4, 89, 60, 14, 9, 90, 53, 2, 84, 92, 60, 71, 44, 8, 47, 35, 78, 81, 36, 50, 4, 2, 6, 54, 4, 54, 93, 63, 18, 90, 44, 34, 74, 62, 100, 14, 95, 48, 15, 72, 78, 87, 62, 40, 85, 80, 82, 53, 24], \"y\": [26, 89, 60, 41, 29, 15, 45, 65, 89, 71, 9, 88, 1, 8, 88, 63, 11, 81, 8, 35, 35, 33, 5, 41, 28, 7, 73, 72, 12, 34, 33, 48, 23, 62, 88, 37, 99, 44, 86, 91, 35, 65, 99, 47, 78, 3, 1, 5, 90, 14, 27, 9, 79, 15, 90, 42, 77, 51, 63, 96, 52, 96, 4, 94, 23, 15, 43, 29, 36, 13, 32, 71, 59, 86, 28, 66, 42, 45, 62, 57, 6, 28, 28, 44, 84, 30, 62, 75, 92, 89, 62, 97, 1, 27, 62, 77, 3, 70, 72, 27], \"type\": \"scatter\", \"uid\": \"d5070fdc-15a0-4af0-ad05-b9408c273500\"}], {}, {\"showLink\": true, \"linkText\": \"Export to plot.ly\"})});</script><script type=\"text/javascript\">window.addEventListener(\"resize\", function(){Plotly.Plots.resize(document.getElementById(\"d8ce2d82-ad27-4d13-a133-4dd2aa6ee8e2\"));});</script>"
      ]
     },
     "metadata": {},
     "output_type": "display_data"
    }
   ],
   "source": [
    "pyo.iplot(data, filename='scatter1.html')"
   ]
  },
  {
   "cell_type": "code",
   "execution_count": 56,
   "metadata": {},
   "outputs": [
    {
     "data": {
      "application/vnd.plotly.v1+json": {
       "data": [
        {
         "boxpoints": "all",
         "jitter": 0.3,
         "pointpos": -1.8,
         "type": "box",
         "uid": "20d1e69f-ecfd-4ef1-ac13-6bf27732db97",
         "y": [
          0,
          1,
          1,
          2,
          3,
          5,
          8,
          13,
          21
         ]
        }
       ],
       "layout": {}
      },
      "text/html": [
       "<div id=\"889e030a-769b-428f-929b-117349fb00d5\" style=\"height: 525px; width: 100%;\" class=\"plotly-graph-div\"></div><script type=\"text/javascript\">require([\"plotly\"], function(Plotly) { window.PLOTLYENV=window.PLOTLYENV || {};window.PLOTLYENV.BASE_URL=\"https://plot.ly\";Plotly.newPlot(\"889e030a-769b-428f-929b-117349fb00d5\", [{\"boxpoints\": \"all\", \"jitter\": 0.3, \"pointpos\": -1.8, \"y\": [0, 1, 1, 2, 3, 5, 8, 13, 21], \"type\": \"box\", \"uid\": \"a9d06b86-189f-480b-87a7-c466f6c1957a\"}], {}, {\"showLink\": true, \"linkText\": \"Export to plot.ly\"})});</script><script type=\"text/javascript\">window.addEventListener(\"resize\", function(){Plotly.Plots.resize(document.getElementById(\"889e030a-769b-428f-929b-117349fb00d5\"));});</script>"
      ],
      "text/vnd.plotly.v1+html": [
       "<div id=\"889e030a-769b-428f-929b-117349fb00d5\" style=\"height: 525px; width: 100%;\" class=\"plotly-graph-div\"></div><script type=\"text/javascript\">require([\"plotly\"], function(Plotly) { window.PLOTLYENV=window.PLOTLYENV || {};window.PLOTLYENV.BASE_URL=\"https://plot.ly\";Plotly.newPlot(\"889e030a-769b-428f-929b-117349fb00d5\", [{\"boxpoints\": \"all\", \"jitter\": 0.3, \"pointpos\": -1.8, \"y\": [0, 1, 1, 2, 3, 5, 8, 13, 21], \"type\": \"box\", \"uid\": \"a9d06b86-189f-480b-87a7-c466f6c1957a\"}], {}, {\"showLink\": true, \"linkText\": \"Export to plot.ly\"})});</script><script type=\"text/javascript\">window.addEventListener(\"resize\", function(){Plotly.Plots.resize(document.getElementById(\"889e030a-769b-428f-929b-117349fb00d5\"));});</script>"
      ]
     },
     "metadata": {},
     "output_type": "display_data"
    }
   ],
   "source": [
    "data = [\n",
    "    go.Box(\n",
    "        y=[0, 1, 1, 2, 3, 5, 8, 13, 21],\n",
    "        boxpoints='all',\n",
    "        jitter=0.3,\n",
    "        pointpos=-1.8\n",
    "    )\n",
    "]\n",
    "pyo.iplot(data, filename='box.html')"
   ]
  },
  {
   "cell_type": "markdown",
   "metadata": {},
   "source": [
    "## 欄位篩選"
   ]
  },
  {
   "cell_type": "code",
   "execution_count": 103,
   "metadata": {},
   "outputs": [],
   "source": [
    "features = ['funded_amnt','emp_length','annual_inc','home_ownership','grade',\n",
    "            \"last_pymnt_amnt\", \"mort_acc\", \"pub_rec\", \"int_rate\", \"open_acc\",\"num_actv_rev_tl\",\n",
    "            \"mo_sin_rcnt_rev_tl_op\",\"mo_sin_old_rev_tl_op\",\"bc_util\",\"bc_open_to_buy\",\n",
    "            \"avg_cur_bal\",\"acc_open_past_24mths\",'loan_status'] "
   ]
  },
  {
   "cell_type": "code",
   "execution_count": 104,
   "metadata": {},
   "outputs": [],
   "source": [
    "Final_data = dataset[features]"
   ]
  },
  {
   "cell_type": "code",
   "execution_count": 105,
   "metadata": {},
   "outputs": [
    {
     "data": {
      "text/plain": [
       "(411273, 18)"
      ]
     },
     "execution_count": 105,
     "metadata": {},
     "output_type": "execute_result"
    }
   ],
   "source": [
    "Final_data.shape"
   ]
  },
  {
   "cell_type": "code",
   "execution_count": 106,
   "metadata": {},
   "outputs": [
    {
     "data": {
      "text/html": [
       "<div>\n",
       "<style scoped>\n",
       "    .dataframe tbody tr th:only-of-type {\n",
       "        vertical-align: middle;\n",
       "    }\n",
       "\n",
       "    .dataframe tbody tr th {\n",
       "        vertical-align: top;\n",
       "    }\n",
       "\n",
       "    .dataframe thead th {\n",
       "        text-align: right;\n",
       "    }\n",
       "</style>\n",
       "<table border=\"1\" class=\"dataframe\">\n",
       "  <thead>\n",
       "    <tr style=\"text-align: right;\">\n",
       "      <th></th>\n",
       "      <th>funded_amnt</th>\n",
       "      <th>emp_length</th>\n",
       "      <th>annual_inc</th>\n",
       "      <th>home_ownership</th>\n",
       "      <th>grade</th>\n",
       "      <th>last_pymnt_amnt</th>\n",
       "      <th>mort_acc</th>\n",
       "      <th>pub_rec</th>\n",
       "      <th>int_rate</th>\n",
       "      <th>open_acc</th>\n",
       "      <th>num_actv_rev_tl</th>\n",
       "      <th>mo_sin_rcnt_rev_tl_op</th>\n",
       "      <th>mo_sin_old_rev_tl_op</th>\n",
       "      <th>bc_util</th>\n",
       "      <th>bc_open_to_buy</th>\n",
       "      <th>avg_cur_bal</th>\n",
       "      <th>acc_open_past_24mths</th>\n",
       "      <th>loan_status</th>\n",
       "    </tr>\n",
       "  </thead>\n",
       "  <tbody>\n",
       "    <tr>\n",
       "      <th>0</th>\n",
       "      <td>12000.0</td>\n",
       "      <td>3 years</td>\n",
       "      <td>96500.0</td>\n",
       "      <td>MORTGAGE</td>\n",
       "      <td>A</td>\n",
       "      <td>2927.22</td>\n",
       "      <td>1.0</td>\n",
       "      <td>0.0</td>\n",
       "      <td>7.62%</td>\n",
       "      <td>17.0</td>\n",
       "      <td>5.0</td>\n",
       "      <td>10.0</td>\n",
       "      <td>118.0</td>\n",
       "      <td>83.5</td>\n",
       "      <td>2441.0</td>\n",
       "      <td>11783.0</td>\n",
       "      <td>4.0</td>\n",
       "      <td>0</td>\n",
       "    </tr>\n",
       "    <tr>\n",
       "      <th>1</th>\n",
       "      <td>27050.0</td>\n",
       "      <td>10+ years</td>\n",
       "      <td>55000.0</td>\n",
       "      <td>OWN</td>\n",
       "      <td>B</td>\n",
       "      <td>6074.19</td>\n",
       "      <td>4.0</td>\n",
       "      <td>0.0</td>\n",
       "      <td>10.99%</td>\n",
       "      <td>14.0</td>\n",
       "      <td>4.0</td>\n",
       "      <td>16.0</td>\n",
       "      <td>326.0</td>\n",
       "      <td>53.9</td>\n",
       "      <td>16473.0</td>\n",
       "      <td>9570.0</td>\n",
       "      <td>3.0</td>\n",
       "      <td>0</td>\n",
       "    </tr>\n",
       "    <tr>\n",
       "      <th>2</th>\n",
       "      <td>12000.0</td>\n",
       "      <td>10+ years</td>\n",
       "      <td>130000.0</td>\n",
       "      <td>MORTGAGE</td>\n",
       "      <td>B</td>\n",
       "      <td>398.28</td>\n",
       "      <td>3.0</td>\n",
       "      <td>0.0</td>\n",
       "      <td>11.99%</td>\n",
       "      <td>9.0</td>\n",
       "      <td>5.0</td>\n",
       "      <td>4.0</td>\n",
       "      <td>193.0</td>\n",
       "      <td>93.0</td>\n",
       "      <td>3567.0</td>\n",
       "      <td>36362.0</td>\n",
       "      <td>4.0</td>\n",
       "      <td>0</td>\n",
       "    </tr>\n",
       "    <tr>\n",
       "      <th>3</th>\n",
       "      <td>28000.0</td>\n",
       "      <td>5 years</td>\n",
       "      <td>325000.0</td>\n",
       "      <td>MORTGAGE</td>\n",
       "      <td>A</td>\n",
       "      <td>23915.86</td>\n",
       "      <td>5.0</td>\n",
       "      <td>0.0</td>\n",
       "      <td>7.62%</td>\n",
       "      <td>15.0</td>\n",
       "      <td>5.0</td>\n",
       "      <td>5.0</td>\n",
       "      <td>229.0</td>\n",
       "      <td>67.1</td>\n",
       "      <td>13901.0</td>\n",
       "      <td>53306.0</td>\n",
       "      <td>6.0</td>\n",
       "      <td>0</td>\n",
       "    </tr>\n",
       "    <tr>\n",
       "      <th>4</th>\n",
       "      <td>12000.0</td>\n",
       "      <td>4 years</td>\n",
       "      <td>60000.0</td>\n",
       "      <td>RENT</td>\n",
       "      <td>B</td>\n",
       "      <td>3775.55</td>\n",
       "      <td>0.0</td>\n",
       "      <td>0.0</td>\n",
       "      <td>10.99%</td>\n",
       "      <td>15.0</td>\n",
       "      <td>7.0</td>\n",
       "      <td>1.0</td>\n",
       "      <td>48.0</td>\n",
       "      <td>15.9</td>\n",
       "      <td>15216.0</td>\n",
       "      <td>476.0</td>\n",
       "      <td>8.0</td>\n",
       "      <td>0</td>\n",
       "    </tr>\n",
       "  </tbody>\n",
       "</table>\n",
       "</div>"
      ],
      "text/plain": [
       "   funded_amnt emp_length  annual_inc home_ownership grade  last_pymnt_amnt  \\\n",
       "0      12000.0    3 years     96500.0       MORTGAGE     A          2927.22   \n",
       "1      27050.0  10+ years     55000.0            OWN     B          6074.19   \n",
       "2      12000.0  10+ years    130000.0       MORTGAGE     B           398.28   \n",
       "3      28000.0    5 years    325000.0       MORTGAGE     A         23915.86   \n",
       "4      12000.0    4 years     60000.0           RENT     B          3775.55   \n",
       "\n",
       "   mort_acc  pub_rec int_rate  open_acc  num_actv_rev_tl  \\\n",
       "0       1.0      0.0    7.62%      17.0              5.0   \n",
       "1       4.0      0.0   10.99%      14.0              4.0   \n",
       "2       3.0      0.0   11.99%       9.0              5.0   \n",
       "3       5.0      0.0    7.62%      15.0              5.0   \n",
       "4       0.0      0.0   10.99%      15.0              7.0   \n",
       "\n",
       "   mo_sin_rcnt_rev_tl_op  mo_sin_old_rev_tl_op  bc_util  bc_open_to_buy  \\\n",
       "0                   10.0                 118.0     83.5          2441.0   \n",
       "1                   16.0                 326.0     53.9         16473.0   \n",
       "2                    4.0                 193.0     93.0          3567.0   \n",
       "3                    5.0                 229.0     67.1         13901.0   \n",
       "4                    1.0                  48.0     15.9         15216.0   \n",
       "\n",
       "   avg_cur_bal  acc_open_past_24mths  loan_status  \n",
       "0      11783.0                   4.0            0  \n",
       "1       9570.0                   3.0            0  \n",
       "2      36362.0                   4.0            0  \n",
       "3      53306.0                   6.0            0  \n",
       "4        476.0                   8.0            0  "
      ]
     },
     "execution_count": 106,
     "metadata": {},
     "output_type": "execute_result"
    }
   ],
   "source": [
    "Final_data.head()"
   ]
  },
  {
   "cell_type": "code",
   "execution_count": 107,
   "metadata": {},
   "outputs": [
    {
     "name": "stdout",
     "output_type": "stream",
     "text": [
      "<class 'pandas.core.frame.DataFrame'>\n",
      "Int64Index: 411273 entries, 0 to 423811\n",
      "Data columns (total 18 columns):\n",
      "funded_amnt              411273 non-null float64\n",
      "emp_length               391832 non-null object\n",
      "annual_inc               411273 non-null float64\n",
      "home_ownership           411273 non-null object\n",
      "grade                    411273 non-null object\n",
      "last_pymnt_amnt          411273 non-null float64\n",
      "mort_acc                 403778 non-null float64\n",
      "pub_rec                  411273 non-null float64\n",
      "int_rate                 411273 non-null object\n",
      "open_acc                 411273 non-null float64\n",
      "num_actv_rev_tl          383532 non-null float64\n",
      "mo_sin_rcnt_rev_tl_op    383531 non-null float64\n",
      "mo_sin_old_rev_tl_op     383531 non-null float64\n",
      "bc_util                  399679 non-null float64\n",
      "bc_open_to_buy           399920 non-null float64\n",
      "avg_cur_bal              383520 non-null float64\n",
      "acc_open_past_24mths     403778 non-null float64\n",
      "loan_status              411273 non-null int64\n",
      "dtypes: float64(13), int64(1), object(4)\n",
      "memory usage: 59.6+ MB\n"
     ]
    }
   ],
   "source": [
    "Final_data.info()"
   ]
  },
  {
   "cell_type": "code",
   "execution_count": 108,
   "metadata": {},
   "outputs": [],
   "source": [
    "?Final_data.select_dtypes"
   ]
  },
  {
   "cell_type": "code",
   "execution_count": 110,
   "metadata": {},
   "outputs": [
    {
     "data": {
      "text/html": [
       "<div>\n",
       "<style scoped>\n",
       "    .dataframe tbody tr th:only-of-type {\n",
       "        vertical-align: middle;\n",
       "    }\n",
       "\n",
       "    .dataframe tbody tr th {\n",
       "        vertical-align: top;\n",
       "    }\n",
       "\n",
       "    .dataframe thead th {\n",
       "        text-align: right;\n",
       "    }\n",
       "</style>\n",
       "<table border=\"1\" class=\"dataframe\">\n",
       "  <thead>\n",
       "    <tr style=\"text-align: right;\">\n",
       "      <th></th>\n",
       "      <th>emp_length</th>\n",
       "      <th>home_ownership</th>\n",
       "      <th>grade</th>\n",
       "      <th>int_rate</th>\n",
       "    </tr>\n",
       "  </thead>\n",
       "  <tbody>\n",
       "    <tr>\n",
       "      <th>0</th>\n",
       "      <td>3 years</td>\n",
       "      <td>MORTGAGE</td>\n",
       "      <td>A</td>\n",
       "      <td>7.62%</td>\n",
       "    </tr>\n",
       "    <tr>\n",
       "      <th>1</th>\n",
       "      <td>10+ years</td>\n",
       "      <td>OWN</td>\n",
       "      <td>B</td>\n",
       "      <td>10.99%</td>\n",
       "    </tr>\n",
       "    <tr>\n",
       "      <th>2</th>\n",
       "      <td>10+ years</td>\n",
       "      <td>MORTGAGE</td>\n",
       "      <td>B</td>\n",
       "      <td>11.99%</td>\n",
       "    </tr>\n",
       "    <tr>\n",
       "      <th>3</th>\n",
       "      <td>5 years</td>\n",
       "      <td>MORTGAGE</td>\n",
       "      <td>A</td>\n",
       "      <td>7.62%</td>\n",
       "    </tr>\n",
       "    <tr>\n",
       "      <th>4</th>\n",
       "      <td>4 years</td>\n",
       "      <td>RENT</td>\n",
       "      <td>B</td>\n",
       "      <td>10.99%</td>\n",
       "    </tr>\n",
       "  </tbody>\n",
       "</table>\n",
       "</div>"
      ],
      "text/plain": [
       "  emp_length home_ownership grade int_rate\n",
       "0    3 years       MORTGAGE     A    7.62%\n",
       "1  10+ years            OWN     B   10.99%\n",
       "2  10+ years       MORTGAGE     B   11.99%\n",
       "3    5 years       MORTGAGE     A    7.62%\n",
       "4    4 years           RENT     B   10.99%"
      ]
     },
     "execution_count": 110,
     "metadata": {},
     "output_type": "execute_result"
    }
   ],
   "source": [
    "Final_data.select_dtypes(include='object').head()"
   ]
  },
  {
   "cell_type": "code",
   "execution_count": 114,
   "metadata": {},
   "outputs": [
    {
     "name": "stderr",
     "output_type": "stream",
     "text": [
      "/Users/davidchiu/.pyenv/versions/3.6.2/lib/python3.6/site-packages/ipykernel_launcher.py:1: SettingWithCopyWarning:\n",
      "\n",
      "\n",
      "A value is trying to be set on a copy of a slice from a DataFrame.\n",
      "Try using .loc[row_indexer,col_indexer] = value instead\n",
      "\n",
      "See the caveats in the documentation: http://pandas.pydata.org/pandas-docs/stable/indexing.html#indexing-view-versus-copy\n",
      "\n"
     ]
    }
   ],
   "source": [
    "Final_data['int_rate'] = Final_data['int_rate'].map(lambda e: float(e.replace('%', '')) )"
   ]
  },
  {
   "cell_type": "code",
   "execution_count": 116,
   "metadata": {},
   "outputs": [
    {
     "name": "stdout",
     "output_type": "stream",
     "text": [
      "Current shape of dataset : (411273, 18)\n"
     ]
    }
   ],
   "source": [
    "Final_data= Final_data.reset_index(drop=True)\n",
    "print(\"Current shape of dataset :\",Final_data.shape)"
   ]
  },
  {
   "cell_type": "code",
   "execution_count": 115,
   "metadata": {},
   "outputs": [
    {
     "data": {
      "text/html": [
       "<div>\n",
       "<style scoped>\n",
       "    .dataframe tbody tr th:only-of-type {\n",
       "        vertical-align: middle;\n",
       "    }\n",
       "\n",
       "    .dataframe tbody tr th {\n",
       "        vertical-align: top;\n",
       "    }\n",
       "\n",
       "    .dataframe thead th {\n",
       "        text-align: right;\n",
       "    }\n",
       "</style>\n",
       "<table border=\"1\" class=\"dataframe\">\n",
       "  <thead>\n",
       "    <tr style=\"text-align: right;\">\n",
       "      <th></th>\n",
       "      <th>emp_length</th>\n",
       "      <th>home_ownership</th>\n",
       "      <th>grade</th>\n",
       "    </tr>\n",
       "  </thead>\n",
       "  <tbody>\n",
       "    <tr>\n",
       "      <th>0</th>\n",
       "      <td>3 years</td>\n",
       "      <td>MORTGAGE</td>\n",
       "      <td>A</td>\n",
       "    </tr>\n",
       "    <tr>\n",
       "      <th>1</th>\n",
       "      <td>10+ years</td>\n",
       "      <td>OWN</td>\n",
       "      <td>B</td>\n",
       "    </tr>\n",
       "    <tr>\n",
       "      <th>2</th>\n",
       "      <td>10+ years</td>\n",
       "      <td>MORTGAGE</td>\n",
       "      <td>B</td>\n",
       "    </tr>\n",
       "    <tr>\n",
       "      <th>3</th>\n",
       "      <td>5 years</td>\n",
       "      <td>MORTGAGE</td>\n",
       "      <td>A</td>\n",
       "    </tr>\n",
       "    <tr>\n",
       "      <th>4</th>\n",
       "      <td>4 years</td>\n",
       "      <td>RENT</td>\n",
       "      <td>B</td>\n",
       "    </tr>\n",
       "  </tbody>\n",
       "</table>\n",
       "</div>"
      ],
      "text/plain": [
       "  emp_length home_ownership grade\n",
       "0    3 years       MORTGAGE     A\n",
       "1  10+ years            OWN     B\n",
       "2  10+ years       MORTGAGE     B\n",
       "3    5 years       MORTGAGE     A\n",
       "4    4 years           RENT     B"
      ]
     },
     "execution_count": 115,
     "metadata": {},
     "output_type": "execute_result"
    }
   ],
   "source": [
    "Final_data.select_dtypes(include='object').head()"
   ]
  },
  {
   "cell_type": "code",
   "execution_count": 117,
   "metadata": {},
   "outputs": [
    {
     "data": {
      "text/plain": [
       "array(['A', 'B', 'D', 'C', 'E', 'F', 'G'], dtype=object)"
      ]
     },
     "execution_count": 117,
     "metadata": {},
     "output_type": "execute_result"
    }
   ],
   "source": [
    "Final_data['grade'].unique()"
   ]
  },
  {
   "cell_type": "code",
   "execution_count": 118,
   "metadata": {},
   "outputs": [],
   "source": [
    "Final_data['grade'] = Final_data['grade'].map({'A':7,'B':6,'C':5,'D':4,'E':3,'F':2,'G':1})"
   ]
  },
  {
   "cell_type": "code",
   "execution_count": 119,
   "metadata": {},
   "outputs": [
    {
     "data": {
      "text/html": [
       "<div>\n",
       "<style scoped>\n",
       "    .dataframe tbody tr th:only-of-type {\n",
       "        vertical-align: middle;\n",
       "    }\n",
       "\n",
       "    .dataframe tbody tr th {\n",
       "        vertical-align: top;\n",
       "    }\n",
       "\n",
       "    .dataframe thead th {\n",
       "        text-align: right;\n",
       "    }\n",
       "</style>\n",
       "<table border=\"1\" class=\"dataframe\">\n",
       "  <thead>\n",
       "    <tr style=\"text-align: right;\">\n",
       "      <th></th>\n",
       "      <th>emp_length</th>\n",
       "      <th>home_ownership</th>\n",
       "    </tr>\n",
       "  </thead>\n",
       "  <tbody>\n",
       "    <tr>\n",
       "      <th>0</th>\n",
       "      <td>3 years</td>\n",
       "      <td>MORTGAGE</td>\n",
       "    </tr>\n",
       "    <tr>\n",
       "      <th>1</th>\n",
       "      <td>10+ years</td>\n",
       "      <td>OWN</td>\n",
       "    </tr>\n",
       "    <tr>\n",
       "      <th>2</th>\n",
       "      <td>10+ years</td>\n",
       "      <td>MORTGAGE</td>\n",
       "    </tr>\n",
       "    <tr>\n",
       "      <th>3</th>\n",
       "      <td>5 years</td>\n",
       "      <td>MORTGAGE</td>\n",
       "    </tr>\n",
       "    <tr>\n",
       "      <th>4</th>\n",
       "      <td>4 years</td>\n",
       "      <td>RENT</td>\n",
       "    </tr>\n",
       "  </tbody>\n",
       "</table>\n",
       "</div>"
      ],
      "text/plain": [
       "  emp_length home_ownership\n",
       "0    3 years       MORTGAGE\n",
       "1  10+ years            OWN\n",
       "2  10+ years       MORTGAGE\n",
       "3    5 years       MORTGAGE\n",
       "4    4 years           RENT"
      ]
     },
     "execution_count": 119,
     "metadata": {},
     "output_type": "execute_result"
    }
   ],
   "source": [
    "Final_data.select_dtypes(include='object').head()"
   ]
  },
  {
   "cell_type": "code",
   "execution_count": 121,
   "metadata": {},
   "outputs": [
    {
     "data": {
      "text/plain": [
       "array(['MORTGAGE', 'OWN', 'RENT', 'NONE', 'OTHER', 'ANY'], dtype=object)"
      ]
     },
     "execution_count": 121,
     "metadata": {},
     "output_type": "execute_result"
    }
   ],
   "source": [
    "Final_data['home_ownership'].unique()"
   ]
  },
  {
   "cell_type": "code",
   "execution_count": 122,
   "metadata": {},
   "outputs": [],
   "source": [
    "Final_data[\"home_ownership\"] = Final_data[\"home_ownership\"].map({\"MORTGAGE\":6,\"RENT\":5,\"OWN\":4,\"OTHER\":3,\"NONE\":2,\"ANY\":1})"
   ]
  },
  {
   "cell_type": "code",
   "execution_count": 123,
   "metadata": {},
   "outputs": [
    {
     "data": {
      "text/html": [
       "<div>\n",
       "<style scoped>\n",
       "    .dataframe tbody tr th:only-of-type {\n",
       "        vertical-align: middle;\n",
       "    }\n",
       "\n",
       "    .dataframe tbody tr th {\n",
       "        vertical-align: top;\n",
       "    }\n",
       "\n",
       "    .dataframe thead th {\n",
       "        text-align: right;\n",
       "    }\n",
       "</style>\n",
       "<table border=\"1\" class=\"dataframe\">\n",
       "  <thead>\n",
       "    <tr style=\"text-align: right;\">\n",
       "      <th></th>\n",
       "      <th>emp_length</th>\n",
       "    </tr>\n",
       "  </thead>\n",
       "  <tbody>\n",
       "    <tr>\n",
       "      <th>0</th>\n",
       "      <td>3 years</td>\n",
       "    </tr>\n",
       "    <tr>\n",
       "      <th>1</th>\n",
       "      <td>10+ years</td>\n",
       "    </tr>\n",
       "    <tr>\n",
       "      <th>2</th>\n",
       "      <td>10+ years</td>\n",
       "    </tr>\n",
       "    <tr>\n",
       "      <th>3</th>\n",
       "      <td>5 years</td>\n",
       "    </tr>\n",
       "    <tr>\n",
       "      <th>4</th>\n",
       "      <td>4 years</td>\n",
       "    </tr>\n",
       "  </tbody>\n",
       "</table>\n",
       "</div>"
      ],
      "text/plain": [
       "  emp_length\n",
       "0    3 years\n",
       "1  10+ years\n",
       "2  10+ years\n",
       "3    5 years\n",
       "4    4 years"
      ]
     },
     "execution_count": 123,
     "metadata": {},
     "output_type": "execute_result"
    }
   ],
   "source": [
    "Final_data.select_dtypes(include='object').head()"
   ]
  },
  {
   "cell_type": "code",
   "execution_count": 124,
   "metadata": {},
   "outputs": [
    {
     "data": {
      "text/plain": [
       "array(['3 years', '10+ years', '5 years', '4 years', '6 years', '1 year',\n",
       "       '2 years', '7 years', '9 years', '8 years', '< 1 year', nan],\n",
       "      dtype=object)"
      ]
     },
     "execution_count": 124,
     "metadata": {},
     "output_type": "execute_result"
    }
   ],
   "source": [
    "Final_data['emp_length'].unique()"
   ]
  },
  {
   "cell_type": "code",
   "execution_count": 129,
   "metadata": {},
   "outputs": [],
   "source": [
    "Final_data[\"emp_length\"] = Final_data[\"emp_length\"].fillna('0')"
   ]
  },
  {
   "cell_type": "code",
   "execution_count": 131,
   "metadata": {},
   "outputs": [],
   "source": [
    "import re\n",
    "Final_data[\"emp_length\"] = Final_data[\"emp_length\"].map(lambda e: int(re.search('(\\d+)', e).group(0)) )"
   ]
  },
  {
   "cell_type": "code",
   "execution_count": 132,
   "metadata": {},
   "outputs": [
    {
     "name": "stdout",
     "output_type": "stream",
     "text": [
      "<class 'pandas.core.frame.DataFrame'>\n",
      "RangeIndex: 411273 entries, 0 to 411272\n",
      "Data columns (total 18 columns):\n",
      "funded_amnt              411273 non-null float64\n",
      "emp_length               411273 non-null int64\n",
      "annual_inc               411273 non-null float64\n",
      "home_ownership           411273 non-null int64\n",
      "grade                    411273 non-null int64\n",
      "last_pymnt_amnt          411273 non-null float64\n",
      "mort_acc                 403778 non-null float64\n",
      "pub_rec                  411273 non-null float64\n",
      "int_rate                 411273 non-null float64\n",
      "open_acc                 411273 non-null float64\n",
      "num_actv_rev_tl          383532 non-null float64\n",
      "mo_sin_rcnt_rev_tl_op    383531 non-null float64\n",
      "mo_sin_old_rev_tl_op     383531 non-null float64\n",
      "bc_util                  399679 non-null float64\n",
      "bc_open_to_buy           399920 non-null float64\n",
      "avg_cur_bal              383520 non-null float64\n",
      "acc_open_past_24mths     403778 non-null float64\n",
      "loan_status              411273 non-null int64\n",
      "dtypes: float64(14), int64(4)\n",
      "memory usage: 56.5 MB\n"
     ]
    }
   ],
   "source": [
    "Final_data.info()"
   ]
  },
  {
   "cell_type": "markdown",
   "metadata": {},
   "source": [
    "## 以平均數填補遺失值"
   ]
  },
  {
   "cell_type": "code",
   "execution_count": 134,
   "metadata": {},
   "outputs": [
    {
     "data": {
      "text/plain": [
       "mort_acc                  7495\n",
       "num_actv_rev_tl          27741\n",
       "mo_sin_rcnt_rev_tl_op    27742\n",
       "mo_sin_old_rev_tl_op     27742\n",
       "bc_util                  11594\n",
       "bc_open_to_buy           11353\n",
       "avg_cur_bal              27753\n",
       "acc_open_past_24mths      7495\n",
       "dtype: int64"
      ]
     },
     "execution_count": 134,
     "metadata": {},
     "output_type": "execute_result"
    }
   ],
   "source": [
    "s = Final_data.isna().sum() \n",
    "s[s>0]"
   ]
  },
  {
   "cell_type": "code",
   "execution_count": 137,
   "metadata": {},
   "outputs": [
    {
     "data": {
      "text/plain": [
       "<matplotlib.axes._subplots.AxesSubplot at 0x11fd52e48>"
      ]
     },
     "execution_count": 137,
     "metadata": {},
     "output_type": "execute_result"
    },
    {
     "data": {
      "image/png": "[encoded data removed]",
      "text/plain": [
       "<Figure size 432x288 with 1 Axes>"
      ]
     },
     "metadata": {},
     "output_type": "display_data"
    }
   ],
   "source": [
    "Final_data['mort_acc'].plot(kind = 'hist')"
   ]
  },
  {
   "cell_type": "code",
   "execution_count": 139,
   "metadata": {},
   "outputs": [
    {
     "data": {
      "text/plain": [
       "<matplotlib.axes._subplots.AxesSubplot at 0x122a7c128>"
      ]
     },
     "execution_count": 139,
     "metadata": {},
     "output_type": "execute_result"
    },
    {
     "data": {
      "image/png": "[encoded data removed]",
      "text/plain": [
       "<Figure size 432x288 with 1 Axes>"
      ]
     },
     "metadata": {},
     "output_type": "display_data"
    }
   ],
   "source": [
    "Final_data['num_actv_rev_tl'].plot(kind = 'hist')"
   ]
  },
  {
   "cell_type": "code",
   "execution_count": 140,
   "metadata": {},
   "outputs": [
    {
     "name": "stdout",
     "output_type": "stream",
     "text": [
      "Current shape of dataset : (411273, 18)\n"
     ]
    }
   ],
   "source": [
    "Final_data.fillna(Final_data.mean(),inplace = True)\n",
    "print(\"Current shape of dataset :\",Final_data.shape)"
   ]
  },
  {
   "cell_type": "code",
   "execution_count": 142,
   "metadata": {},
   "outputs": [
    {
     "data": {
      "text/plain": [
       "funded_amnt              0\n",
       "emp_length               0\n",
       "annual_inc               0\n",
       "home_ownership           0\n",
       "grade                    0\n",
       "last_pymnt_amnt          0\n",
       "mort_acc                 0\n",
       "pub_rec                  0\n",
       "int_rate                 0\n",
       "open_acc                 0\n",
       "num_actv_rev_tl          0\n",
       "mo_sin_rcnt_rev_tl_op    0\n",
       "mo_sin_old_rev_tl_op     0\n",
       "bc_util                  0\n",
       "bc_open_to_buy           0\n",
       "avg_cur_bal              0\n",
       "acc_open_past_24mths     0\n",
       "loan_status              0\n",
       "dtype: int64"
      ]
     },
     "execution_count": 142,
     "metadata": {},
     "output_type": "execute_result"
    }
   ],
   "source": [
    "s = Final_data.isna().sum() \n",
    "s"
   ]
  },
  {
   "cell_type": "code",
   "execution_count": 143,
   "metadata": {},
   "outputs": [
    {
     "data": {
      "text/html": [
       "<div>\n",
       "<style scoped>\n",
       "    .dataframe tbody tr th:only-of-type {\n",
       "        vertical-align: middle;\n",
       "    }\n",
       "\n",
       "    .dataframe tbody tr th {\n",
       "        vertical-align: top;\n",
       "    }\n",
       "\n",
       "    .dataframe thead th {\n",
       "        text-align: right;\n",
       "    }\n",
       "</style>\n",
       "<table border=\"1\" class=\"dataframe\">\n",
       "  <thead>\n",
       "    <tr style=\"text-align: right;\">\n",
       "      <th></th>\n",
       "      <th>funded_amnt</th>\n",
       "      <th>emp_length</th>\n",
       "      <th>annual_inc</th>\n",
       "      <th>home_ownership</th>\n",
       "      <th>grade</th>\n",
       "      <th>last_pymnt_amnt</th>\n",
       "      <th>mort_acc</th>\n",
       "      <th>pub_rec</th>\n",
       "      <th>int_rate</th>\n",
       "      <th>open_acc</th>\n",
       "      <th>num_actv_rev_tl</th>\n",
       "      <th>mo_sin_rcnt_rev_tl_op</th>\n",
       "      <th>mo_sin_old_rev_tl_op</th>\n",
       "      <th>bc_util</th>\n",
       "      <th>bc_open_to_buy</th>\n",
       "      <th>avg_cur_bal</th>\n",
       "      <th>acc_open_past_24mths</th>\n",
       "      <th>loan_status</th>\n",
       "    </tr>\n",
       "  </thead>\n",
       "  <tbody>\n",
       "    <tr>\n",
       "      <th>0</th>\n",
       "      <td>12000.0</td>\n",
       "      <td>3</td>\n",
       "      <td>96500.0</td>\n",
       "      <td>6</td>\n",
       "      <td>7</td>\n",
       "      <td>2927.22</td>\n",
       "      <td>1.0</td>\n",
       "      <td>0.0</td>\n",
       "      <td>7.62</td>\n",
       "      <td>17.0</td>\n",
       "      <td>5.0</td>\n",
       "      <td>10.0</td>\n",
       "      <td>118.0</td>\n",
       "      <td>83.5</td>\n",
       "      <td>2441.0</td>\n",
       "      <td>11783.0</td>\n",
       "      <td>4.0</td>\n",
       "      <td>0</td>\n",
       "    </tr>\n",
       "    <tr>\n",
       "      <th>1</th>\n",
       "      <td>27050.0</td>\n",
       "      <td>10</td>\n",
       "      <td>55000.0</td>\n",
       "      <td>4</td>\n",
       "      <td>6</td>\n",
       "      <td>6074.19</td>\n",
       "      <td>4.0</td>\n",
       "      <td>0.0</td>\n",
       "      <td>10.99</td>\n",
       "      <td>14.0</td>\n",
       "      <td>4.0</td>\n",
       "      <td>16.0</td>\n",
       "      <td>326.0</td>\n",
       "      <td>53.9</td>\n",
       "      <td>16473.0</td>\n",
       "      <td>9570.0</td>\n",
       "      <td>3.0</td>\n",
       "      <td>0</td>\n",
       "    </tr>\n",
       "    <tr>\n",
       "      <th>2</th>\n",
       "      <td>12000.0</td>\n",
       "      <td>10</td>\n",
       "      <td>130000.0</td>\n",
       "      <td>6</td>\n",
       "      <td>6</td>\n",
       "      <td>398.28</td>\n",
       "      <td>3.0</td>\n",
       "      <td>0.0</td>\n",
       "      <td>11.99</td>\n",
       "      <td>9.0</td>\n",
       "      <td>5.0</td>\n",
       "      <td>4.0</td>\n",
       "      <td>193.0</td>\n",
       "      <td>93.0</td>\n",
       "      <td>3567.0</td>\n",
       "      <td>36362.0</td>\n",
       "      <td>4.0</td>\n",
       "      <td>0</td>\n",
       "    </tr>\n",
       "    <tr>\n",
       "      <th>3</th>\n",
       "      <td>28000.0</td>\n",
       "      <td>5</td>\n",
       "      <td>325000.0</td>\n",
       "      <td>6</td>\n",
       "      <td>7</td>\n",
       "      <td>23915.86</td>\n",
       "      <td>5.0</td>\n",
       "      <td>0.0</td>\n",
       "      <td>7.62</td>\n",
       "      <td>15.0</td>\n",
       "      <td>5.0</td>\n",
       "      <td>5.0</td>\n",
       "      <td>229.0</td>\n",
       "      <td>67.1</td>\n",
       "      <td>13901.0</td>\n",
       "      <td>53306.0</td>\n",
       "      <td>6.0</td>\n",
       "      <td>0</td>\n",
       "    </tr>\n",
       "    <tr>\n",
       "      <th>4</th>\n",
       "      <td>12000.0</td>\n",
       "      <td>4</td>\n",
       "      <td>60000.0</td>\n",
       "      <td>5</td>\n",
       "      <td>6</td>\n",
       "      <td>3775.55</td>\n",
       "      <td>0.0</td>\n",
       "      <td>0.0</td>\n",
       "      <td>10.99</td>\n",
       "      <td>15.0</td>\n",
       "      <td>7.0</td>\n",
       "      <td>1.0</td>\n",
       "      <td>48.0</td>\n",
       "      <td>15.9</td>\n",
       "      <td>15216.0</td>\n",
       "      <td>476.0</td>\n",
       "      <td>8.0</td>\n",
       "      <td>0</td>\n",
       "    </tr>\n",
       "  </tbody>\n",
       "</table>\n",
       "</div>"
      ],
      "text/plain": [
       "   funded_amnt  emp_length  annual_inc  home_ownership  grade  \\\n",
       "0      12000.0           3     96500.0               6      7   \n",
       "1      27050.0          10     55000.0               4      6   \n",
       "2      12000.0          10    130000.0               6      6   \n",
       "3      28000.0           5    325000.0               6      7   \n",
       "4      12000.0           4     60000.0               5      6   \n",
       "\n",
       "   last_pymnt_amnt  mort_acc  pub_rec  int_rate  open_acc  num_actv_rev_tl  \\\n",
       "0          2927.22       1.0      0.0      7.62      17.0              5.0   \n",
       "1          6074.19       4.0      0.0     10.99      14.0              4.0   \n",
       "2           398.28       3.0      0.0     11.99       9.0              5.0   \n",
       "3         23915.86       5.0      0.0      7.62      15.0              5.0   \n",
       "4          3775.55       0.0      0.0     10.99      15.0              7.0   \n",
       "\n",
       "   mo_sin_rcnt_rev_tl_op  mo_sin_old_rev_tl_op  bc_util  bc_open_to_buy  \\\n",
       "0                   10.0                 118.0     83.5          2441.0   \n",
       "1                   16.0                 326.0     53.9         16473.0   \n",
       "2                    4.0                 193.0     93.0          3567.0   \n",
       "3                    5.0                 229.0     67.1         13901.0   \n",
       "4                    1.0                  48.0     15.9         15216.0   \n",
       "\n",
       "   avg_cur_bal  acc_open_past_24mths  loan_status  \n",
       "0      11783.0                   4.0            0  \n",
       "1       9570.0                   3.0            0  \n",
       "2      36362.0                   4.0            0  \n",
       "3      53306.0                   6.0            0  \n",
       "4        476.0                   8.0            0  "
      ]
     },
     "execution_count": 143,
     "metadata": {},
     "output_type": "execute_result"
    }
   ],
   "source": [
    "Final_data.head()"
   ]
  },
  {
   "cell_type": "markdown",
   "metadata": {},
   "source": [
    "## 資料標準化"
   ]
  },
  {
   "cell_type": "code",
   "execution_count": 144,
   "metadata": {},
   "outputs": [],
   "source": [
    "from sklearn import preprocessing,metrics \n",
    "scl = preprocessing.StandardScaler() \n"
   ]
  },
  {
   "cell_type": "code",
   "execution_count": 145,
   "metadata": {},
   "outputs": [],
   "source": [
    "?preprocessing.StandardScaler"
   ]
  },
  {
   "cell_type": "code",
   "execution_count": 146,
   "metadata": {},
   "outputs": [
    {
     "data": {
      "text/plain": [
       "Index(['funded_amnt', 'emp_length', 'annual_inc', 'home_ownership', 'grade',\n",
       "       'last_pymnt_amnt', 'mort_acc', 'pub_rec', 'int_rate', 'open_acc',\n",
       "       'num_actv_rev_tl', 'mo_sin_rcnt_rev_tl_op', 'mo_sin_old_rev_tl_op',\n",
       "       'bc_util', 'bc_open_to_buy', 'avg_cur_bal', 'acc_open_past_24mths',\n",
       "       'loan_status'],\n",
       "      dtype='object')"
      ]
     },
     "execution_count": 146,
     "metadata": {},
     "output_type": "execute_result"
    }
   ],
   "source": [
    "Final_data.columns"
   ]
  },
  {
   "cell_type": "code",
   "execution_count": 147,
   "metadata": {},
   "outputs": [
    {
     "data": {
      "text/plain": [
       "array(['funded_amnt', 'emp_length', 'annual_inc', 'home_ownership',\n",
       "       'grade', 'last_pymnt_amnt', 'mort_acc', 'pub_rec', 'int_rate',\n",
       "       'open_acc', 'num_actv_rev_tl', 'mo_sin_rcnt_rev_tl_op',\n",
       "       'mo_sin_old_rev_tl_op', 'bc_util', 'bc_open_to_buy', 'avg_cur_bal',\n",
       "       'acc_open_past_24mths'], dtype=object)"
      ]
     },
     "execution_count": 147,
     "metadata": {},
     "output_type": "execute_result"
    }
   ],
   "source": [
    "fields = Final_data.columns.values[:-1]\n",
    "fields"
   ]
  },
  {
   "cell_type": "code",
   "execution_count": 148,
   "metadata": {},
   "outputs": [
    {
     "data": {
      "text/html": [
       "<div>\n",
       "<style scoped>\n",
       "    .dataframe tbody tr th:only-of-type {\n",
       "        vertical-align: middle;\n",
       "    }\n",
       "\n",
       "    .dataframe tbody tr th {\n",
       "        vertical-align: top;\n",
       "    }\n",
       "\n",
       "    .dataframe thead th {\n",
       "        text-align: right;\n",
       "    }\n",
       "</style>\n",
       "<table border=\"1\" class=\"dataframe\">\n",
       "  <thead>\n",
       "    <tr style=\"text-align: right;\">\n",
       "      <th></th>\n",
       "      <th>funded_amnt</th>\n",
       "      <th>emp_length</th>\n",
       "      <th>annual_inc</th>\n",
       "      <th>home_ownership</th>\n",
       "      <th>grade</th>\n",
       "      <th>last_pymnt_amnt</th>\n",
       "      <th>mort_acc</th>\n",
       "      <th>pub_rec</th>\n",
       "      <th>int_rate</th>\n",
       "      <th>open_acc</th>\n",
       "      <th>num_actv_rev_tl</th>\n",
       "      <th>mo_sin_rcnt_rev_tl_op</th>\n",
       "      <th>mo_sin_old_rev_tl_op</th>\n",
       "      <th>bc_util</th>\n",
       "      <th>bc_open_to_buy</th>\n",
       "      <th>avg_cur_bal</th>\n",
       "      <th>acc_open_past_24mths</th>\n",
       "    </tr>\n",
       "  </thead>\n",
       "  <tbody>\n",
       "    <tr>\n",
       "      <th>0</th>\n",
       "      <td>-0.299476</td>\n",
       "      <td>-0.787331</td>\n",
       "      <td>0.429087</td>\n",
       "      <td>0.890293</td>\n",
       "      <td>1.387048</td>\n",
       "      <td>-0.252133</td>\n",
       "      <td>-0.383997</td>\n",
       "      <td>-0.323443</td>\n",
       "      <td>-1.439964</td>\n",
       "      <td>1.134412</td>\n",
       "      <td>-0.248869</td>\n",
       "      <td>-0.220361</td>\n",
       "      <td>-0.730107</td>\n",
       "      <td>0.694300</td>\n",
       "      <td>-0.452627</td>\n",
       "      <td>-0.110954</td>\n",
       "      <td>-0.075437</td>\n",
       "    </tr>\n",
       "    <tr>\n",
       "      <th>1</th>\n",
       "      <td>1.520061</td>\n",
       "      <td>1.130234</td>\n",
       "      <td>-0.344829</td>\n",
       "      <td>-2.171730</td>\n",
       "      <td>0.620423</td>\n",
       "      <td>0.263337</td>\n",
       "      <td>1.006702</td>\n",
       "      <td>-0.323443</td>\n",
       "      <td>-0.672232</td>\n",
       "      <td>0.532558</td>\n",
       "      <td>-0.589591</td>\n",
       "      <td>0.167135</td>\n",
       "      <td>1.637470</td>\n",
       "      <td>-0.444565</td>\n",
       "      <td>0.617771</td>\n",
       "      <td>-0.252862</td>\n",
       "      <td>-0.437197</td>\n",
       "    </tr>\n",
       "    <tr>\n",
       "      <th>2</th>\n",
       "      <td>-0.299476</td>\n",
       "      <td>1.130234</td>\n",
       "      <td>1.053815</td>\n",
       "      <td>0.890293</td>\n",
       "      <td>0.620423</td>\n",
       "      <td>-0.666370</td>\n",
       "      <td>0.543136</td>\n",
       "      <td>-0.323443</td>\n",
       "      <td>-0.444419</td>\n",
       "      <td>-0.470533</td>\n",
       "      <td>-0.248869</td>\n",
       "      <td>-0.607858</td>\n",
       "      <td>0.123587</td>\n",
       "      <td>1.059815</td>\n",
       "      <td>-0.366732</td>\n",
       "      <td>1.465171</td>\n",
       "      <td>-0.075437</td>\n",
       "    </tr>\n",
       "    <tr>\n",
       "      <th>3</th>\n",
       "      <td>1.634916</td>\n",
       "      <td>-0.239455</td>\n",
       "      <td>4.690290</td>\n",
       "      <td>0.890293</td>\n",
       "      <td>1.387048</td>\n",
       "      <td>3.185782</td>\n",
       "      <td>1.470269</td>\n",
       "      <td>-0.323443</td>\n",
       "      <td>-1.439964</td>\n",
       "      <td>0.733176</td>\n",
       "      <td>-0.248869</td>\n",
       "      <td>-0.543275</td>\n",
       "      <td>0.533360</td>\n",
       "      <td>0.063307</td>\n",
       "      <td>0.421572</td>\n",
       "      <td>2.551702</td>\n",
       "      <td>0.648083</td>\n",
       "    </tr>\n",
       "    <tr>\n",
       "      <th>4</th>\n",
       "      <td>-0.299476</td>\n",
       "      <td>-0.513393</td>\n",
       "      <td>-0.251586</td>\n",
       "      <td>-0.640718</td>\n",
       "      <td>0.620423</td>\n",
       "      <td>-0.113177</td>\n",
       "      <td>-0.847563</td>\n",
       "      <td>-0.323443</td>\n",
       "      <td>-0.672232</td>\n",
       "      <td>0.733176</td>\n",
       "      <td>0.432574</td>\n",
       "      <td>-0.801606</td>\n",
       "      <td>-1.526888</td>\n",
       "      <td>-1.906622</td>\n",
       "      <td>0.521884</td>\n",
       "      <td>-0.836013</td>\n",
       "      <td>1.371604</td>\n",
       "    </tr>\n",
       "  </tbody>\n",
       "</table>\n",
       "</div>"
      ],
      "text/plain": [
       "   funded_amnt  emp_length  annual_inc  home_ownership     grade  \\\n",
       "0    -0.299476   -0.787331    0.429087        0.890293  1.387048   \n",
       "1     1.520061    1.130234   -0.344829       -2.171730  0.620423   \n",
       "2    -0.299476    1.130234    1.053815        0.890293  0.620423   \n",
       "3     1.634916   -0.239455    4.690290        0.890293  1.387048   \n",
       "4    -0.299476   -0.513393   -0.251586       -0.640718  0.620423   \n",
       "\n",
       "   last_pymnt_amnt  mort_acc   pub_rec  int_rate  open_acc  num_actv_rev_tl  \\\n",
       "0        -0.252133 -0.383997 -0.323443 -1.439964  1.134412        -0.248869   \n",
       "1         0.263337  1.006702 -0.323443 -0.672232  0.532558        -0.589591   \n",
       "2        -0.666370  0.543136 -0.323443 -0.444419 -0.470533        -0.248869   \n",
       "3         3.185782  1.470269 -0.323443 -1.439964  0.733176        -0.248869   \n",
       "4        -0.113177 -0.847563 -0.323443 -0.672232  0.733176         0.432574   \n",
       "\n",
       "   mo_sin_rcnt_rev_tl_op  mo_sin_old_rev_tl_op   bc_util  bc_open_to_buy  \\\n",
       "0              -0.220361             -0.730107  0.694300       -0.452627   \n",
       "1               0.167135              1.637470 -0.444565        0.617771   \n",
       "2              -0.607858              0.123587  1.059815       -0.366732   \n",
       "3              -0.543275              0.533360  0.063307        0.421572   \n",
       "4              -0.801606             -1.526888 -1.906622        0.521884   \n",
       "\n",
       "   avg_cur_bal  acc_open_past_24mths  \n",
       "0    -0.110954             -0.075437  \n",
       "1    -0.252862             -0.437197  \n",
       "2     1.465171             -0.075437  \n",
       "3     2.551702              0.648083  \n",
       "4    -0.836013              1.371604  "
      ]
     },
     "execution_count": 148,
     "metadata": {},
     "output_type": "execute_result"
    }
   ],
   "source": [
    "data_clean = pd.DataFrame(scl.fit_transform(Final_data[fields]), columns = fields)\n",
    "data_clean.head()"
   ]
  },
  {
   "cell_type": "code",
   "execution_count": 149,
   "metadata": {},
   "outputs": [],
   "source": [
    "data_clean['loan_status'] = Final_data['loan_status']\n"
   ]
  },
  {
   "cell_type": "code",
   "execution_count": 150,
   "metadata": {},
   "outputs": [
    {
     "data": {
      "text/html": [
       "<div>\n",
       "<style scoped>\n",
       "    .dataframe tbody tr th:only-of-type {\n",
       "        vertical-align: middle;\n",
       "    }\n",
       "\n",
       "    .dataframe tbody tr th {\n",
       "        vertical-align: top;\n",
       "    }\n",
       "\n",
       "    .dataframe thead th {\n",
       "        text-align: right;\n",
       "    }\n",
       "</style>\n",
       "<table border=\"1\" class=\"dataframe\">\n",
       "  <thead>\n",
       "    <tr style=\"text-align: right;\">\n",
       "      <th></th>\n",
       "      <th>funded_amnt</th>\n",
       "      <th>emp_length</th>\n",
       "      <th>annual_inc</th>\n",
       "      <th>home_ownership</th>\n",
       "      <th>grade</th>\n",
       "      <th>last_pymnt_amnt</th>\n",
       "      <th>mort_acc</th>\n",
       "      <th>pub_rec</th>\n",
       "      <th>int_rate</th>\n",
       "      <th>open_acc</th>\n",
       "      <th>num_actv_rev_tl</th>\n",
       "      <th>mo_sin_rcnt_rev_tl_op</th>\n",
       "      <th>mo_sin_old_rev_tl_op</th>\n",
       "      <th>bc_util</th>\n",
       "      <th>bc_open_to_buy</th>\n",
       "      <th>avg_cur_bal</th>\n",
       "      <th>acc_open_past_24mths</th>\n",
       "      <th>loan_status</th>\n",
       "    </tr>\n",
       "  </thead>\n",
       "  <tbody>\n",
       "    <tr>\n",
       "      <th>0</th>\n",
       "      <td>-0.299476</td>\n",
       "      <td>-0.787331</td>\n",
       "      <td>0.429087</td>\n",
       "      <td>0.890293</td>\n",
       "      <td>1.387048</td>\n",
       "      <td>-0.252133</td>\n",
       "      <td>-0.383997</td>\n",
       "      <td>-0.323443</td>\n",
       "      <td>-1.439964</td>\n",
       "      <td>1.134412</td>\n",
       "      <td>-0.248869</td>\n",
       "      <td>-0.220361</td>\n",
       "      <td>-0.730107</td>\n",
       "      <td>0.694300</td>\n",
       "      <td>-0.452627</td>\n",
       "      <td>-0.110954</td>\n",
       "      <td>-0.075437</td>\n",
       "      <td>0</td>\n",
       "    </tr>\n",
       "    <tr>\n",
       "      <th>1</th>\n",
       "      <td>1.520061</td>\n",
       "      <td>1.130234</td>\n",
       "      <td>-0.344829</td>\n",
       "      <td>-2.171730</td>\n",
       "      <td>0.620423</td>\n",
       "      <td>0.263337</td>\n",
       "      <td>1.006702</td>\n",
       "      <td>-0.323443</td>\n",
       "      <td>-0.672232</td>\n",
       "      <td>0.532558</td>\n",
       "      <td>-0.589591</td>\n",
       "      <td>0.167135</td>\n",
       "      <td>1.637470</td>\n",
       "      <td>-0.444565</td>\n",
       "      <td>0.617771</td>\n",
       "      <td>-0.252862</td>\n",
       "      <td>-0.437197</td>\n",
       "      <td>0</td>\n",
       "    </tr>\n",
       "    <tr>\n",
       "      <th>2</th>\n",
       "      <td>-0.299476</td>\n",
       "      <td>1.130234</td>\n",
       "      <td>1.053815</td>\n",
       "      <td>0.890293</td>\n",
       "      <td>0.620423</td>\n",
       "      <td>-0.666370</td>\n",
       "      <td>0.543136</td>\n",
       "      <td>-0.323443</td>\n",
       "      <td>-0.444419</td>\n",
       "      <td>-0.470533</td>\n",
       "      <td>-0.248869</td>\n",
       "      <td>-0.607858</td>\n",
       "      <td>0.123587</td>\n",
       "      <td>1.059815</td>\n",
       "      <td>-0.366732</td>\n",
       "      <td>1.465171</td>\n",
       "      <td>-0.075437</td>\n",
       "      <td>0</td>\n",
       "    </tr>\n",
       "    <tr>\n",
       "      <th>3</th>\n",
       "      <td>1.634916</td>\n",
       "      <td>-0.239455</td>\n",
       "      <td>4.690290</td>\n",
       "      <td>0.890293</td>\n",
       "      <td>1.387048</td>\n",
       "      <td>3.185782</td>\n",
       "      <td>1.470269</td>\n",
       "      <td>-0.323443</td>\n",
       "      <td>-1.439964</td>\n",
       "      <td>0.733176</td>\n",
       "      <td>-0.248869</td>\n",
       "      <td>-0.543275</td>\n",
       "      <td>0.533360</td>\n",
       "      <td>0.063307</td>\n",
       "      <td>0.421572</td>\n",
       "      <td>2.551702</td>\n",
       "      <td>0.648083</td>\n",
       "      <td>0</td>\n",
       "    </tr>\n",
       "    <tr>\n",
       "      <th>4</th>\n",
       "      <td>-0.299476</td>\n",
       "      <td>-0.513393</td>\n",
       "      <td>-0.251586</td>\n",
       "      <td>-0.640718</td>\n",
       "      <td>0.620423</td>\n",
       "      <td>-0.113177</td>\n",
       "      <td>-0.847563</td>\n",
       "      <td>-0.323443</td>\n",
       "      <td>-0.672232</td>\n",
       "      <td>0.733176</td>\n",
       "      <td>0.432574</td>\n",
       "      <td>-0.801606</td>\n",
       "      <td>-1.526888</td>\n",
       "      <td>-1.906622</td>\n",
       "      <td>0.521884</td>\n",
       "      <td>-0.836013</td>\n",
       "      <td>1.371604</td>\n",
       "      <td>0</td>\n",
       "    </tr>\n",
       "  </tbody>\n",
       "</table>\n",
       "</div>"
      ],
      "text/plain": [
       "   funded_amnt  emp_length  annual_inc  home_ownership     grade  \\\n",
       "0    -0.299476   -0.787331    0.429087        0.890293  1.387048   \n",
       "1     1.520061    1.130234   -0.344829       -2.171730  0.620423   \n",
       "2    -0.299476    1.130234    1.053815        0.890293  0.620423   \n",
       "3     1.634916   -0.239455    4.690290        0.890293  1.387048   \n",
       "4    -0.299476   -0.513393   -0.251586       -0.640718  0.620423   \n",
       "\n",
       "   last_pymnt_amnt  mort_acc   pub_rec  int_rate  open_acc  num_actv_rev_tl  \\\n",
       "0        -0.252133 -0.383997 -0.323443 -1.439964  1.134412        -0.248869   \n",
       "1         0.263337  1.006702 -0.323443 -0.672232  0.532558        -0.589591   \n",
       "2        -0.666370  0.543136 -0.323443 -0.444419 -0.470533        -0.248869   \n",
       "3         3.185782  1.470269 -0.323443 -1.439964  0.733176        -0.248869   \n",
       "4        -0.113177 -0.847563 -0.323443 -0.672232  0.733176         0.432574   \n",
       "\n",
       "   mo_sin_rcnt_rev_tl_op  mo_sin_old_rev_tl_op   bc_util  bc_open_to_buy  \\\n",
       "0              -0.220361             -0.730107  0.694300       -0.452627   \n",
       "1               0.167135              1.637470 -0.444565        0.617771   \n",
       "2              -0.607858              0.123587  1.059815       -0.366732   \n",
       "3              -0.543275              0.533360  0.063307        0.421572   \n",
       "4              -0.801606             -1.526888 -1.906622        0.521884   \n",
       "\n",
       "   avg_cur_bal  acc_open_past_24mths  loan_status  \n",
       "0    -0.110954             -0.075437            0  \n",
       "1    -0.252862             -0.437197            0  \n",
       "2     1.465171             -0.075437            0  \n",
       "3     2.551702              0.648083            0  \n",
       "4    -0.836013              1.371604            0  "
      ]
     },
     "execution_count": 150,
     "metadata": {},
     "output_type": "execute_result"
    }
   ],
   "source": [
    "data_clean.head()"
   ]
  },
  {
   "cell_type": "markdown",
   "metadata": {},
   "source": [
    "## Bootstrap Sampling"
   ]
  },
  {
   "cell_type": "code",
   "execution_count": 151,
   "metadata": {},
   "outputs": [
    {
     "data": {
      "text/plain": [
       "0    340444\n",
       "1     70829\n",
       "Name: loan_status, dtype: int64"
      ]
     },
     "execution_count": 151,
     "metadata": {},
     "output_type": "execute_result"
    }
   ],
   "source": [
    "data_clean['loan_status'].value_counts()"
   ]
  },
  {
   "cell_type": "code",
   "execution_count": 153,
   "metadata": {},
   "outputs": [],
   "source": [
    "loanstatus_0 = data_clean[data_clean[\"loan_status\"]==0]\n",
    "loanstatus_1 = data_clean[data_clean[\"loan_status\"]==1]\n"
   ]
  },
  {
   "cell_type": "code",
   "execution_count": 154,
   "metadata": {},
   "outputs": [],
   "source": [
    "subset_of_loanstatus_0 = loanstatus_0.sample(n=5500)\n",
    "subset_of_loanstatus_1 = loanstatus_1.sample(n=5500)"
   ]
  },
  {
   "cell_type": "code",
   "execution_count": 155,
   "metadata": {},
   "outputs": [],
   "source": [
    "data_clean = pd.concat([subset_of_loanstatus_1, subset_of_loanstatus_0])"
   ]
  },
  {
   "cell_type": "code",
   "execution_count": 156,
   "metadata": {},
   "outputs": [
    {
     "data": {
      "text/plain": [
       "(11000, 18)"
      ]
     },
     "execution_count": 156,
     "metadata": {},
     "output_type": "execute_result"
    }
   ],
   "source": [
    "data_clean.shape"
   ]
  },
  {
   "cell_type": "code",
   "execution_count": 159,
   "metadata": {},
   "outputs": [
    {
     "data": {
      "text/plain": [
       "Int64Index([201953, 403851, 320126,  36777, 189305, 293153, 210823, 192103,\n",
       "            386699, 369362,\n",
       "            ...\n",
       "            349410, 361422, 214463, 306378, 321894, 108284, 248347, 361642,\n",
       "            396023, 302106],\n",
       "           dtype='int64', length=11000)"
      ]
     },
     "execution_count": 159,
     "metadata": {},
     "output_type": "execute_result"
    }
   ],
   "source": [
    "data_clean.index"
   ]
  },
  {
   "cell_type": "markdown",
   "metadata": {},
   "source": [
    "## Reshuffle"
   ]
  },
  {
   "cell_type": "code",
   "execution_count": 160,
   "metadata": {},
   "outputs": [],
   "source": [
    "data_clean = data_clean.sample(frac=1).reset_index(drop=True)"
   ]
  },
  {
   "cell_type": "code",
   "execution_count": 161,
   "metadata": {},
   "outputs": [
    {
     "data": {
      "text/plain": [
       "RangeIndex(start=0, stop=11000, step=1)"
      ]
     },
     "execution_count": 161,
     "metadata": {},
     "output_type": "execute_result"
    }
   ],
   "source": [
    "data_clean.index"
   ]
  },
  {
   "cell_type": "code",
   "execution_count": 162,
   "metadata": {},
   "outputs": [
    {
     "name": "stdout",
     "output_type": "stream",
     "text": [
      "Current shape of dataset : (11000, 18)\n"
     ]
    },
    {
     "data": {
      "text/html": [
       "<div>\n",
       "<style scoped>\n",
       "    .dataframe tbody tr th:only-of-type {\n",
       "        vertical-align: middle;\n",
       "    }\n",
       "\n",
       "    .dataframe tbody tr th {\n",
       "        vertical-align: top;\n",
       "    }\n",
       "\n",
       "    .dataframe thead th {\n",
       "        text-align: right;\n",
       "    }\n",
       "</style>\n",
       "<table border=\"1\" class=\"dataframe\">\n",
       "  <thead>\n",
       "    <tr style=\"text-align: right;\">\n",
       "      <th></th>\n",
       "      <th>funded_amnt</th>\n",
       "      <th>emp_length</th>\n",
       "      <th>annual_inc</th>\n",
       "      <th>home_ownership</th>\n",
       "      <th>grade</th>\n",
       "      <th>last_pymnt_amnt</th>\n",
       "      <th>mort_acc</th>\n",
       "      <th>pub_rec</th>\n",
       "      <th>int_rate</th>\n",
       "      <th>open_acc</th>\n",
       "      <th>num_actv_rev_tl</th>\n",
       "      <th>mo_sin_rcnt_rev_tl_op</th>\n",
       "      <th>mo_sin_old_rev_tl_op</th>\n",
       "      <th>bc_util</th>\n",
       "      <th>bc_open_to_buy</th>\n",
       "      <th>avg_cur_bal</th>\n",
       "      <th>acc_open_past_24mths</th>\n",
       "      <th>loan_status</th>\n",
       "    </tr>\n",
       "  </thead>\n",
       "  <tbody>\n",
       "    <tr>\n",
       "      <th>0</th>\n",
       "      <td>-1.417797</td>\n",
       "      <td>1.130234</td>\n",
       "      <td>-0.344829</td>\n",
       "      <td>0.890293</td>\n",
       "      <td>-0.146201</td>\n",
       "      <td>-0.439487</td>\n",
       "      <td>0.079569</td>\n",
       "      <td>-0.323443</td>\n",
       "      <td>0.423550</td>\n",
       "      <td>-0.269915</td>\n",
       "      <td>-0.248869</td>\n",
       "      <td>0.037970</td>\n",
       "      <td>-0.934993</td>\n",
       "      <td>1.086747</td>\n",
       "      <td>-0.635018</td>\n",
       "      <td>0.407560</td>\n",
       "      <td>0.286323</td>\n",
       "      <td>0</td>\n",
       "    </tr>\n",
       "    <tr>\n",
       "      <th>1</th>\n",
       "      <td>-0.783074</td>\n",
       "      <td>1.130234</td>\n",
       "      <td>-0.702882</td>\n",
       "      <td>-0.640718</td>\n",
       "      <td>0.620423</td>\n",
       "      <td>-0.687461</td>\n",
       "      <td>-0.847563</td>\n",
       "      <td>1.568027</td>\n",
       "      <td>-0.216606</td>\n",
       "      <td>-0.470533</td>\n",
       "      <td>-0.589591</td>\n",
       "      <td>-0.543275</td>\n",
       "      <td>0.886220</td>\n",
       "      <td>0.244141</td>\n",
       "      <td>-0.385269</td>\n",
       "      <td>-0.753741</td>\n",
       "      <td>-0.798958</td>\n",
       "      <td>1</td>\n",
       "    </tr>\n",
       "    <tr>\n",
       "      <th>2</th>\n",
       "      <td>1.151318</td>\n",
       "      <td>0.582358</td>\n",
       "      <td>-0.065100</td>\n",
       "      <td>-0.640718</td>\n",
       "      <td>-0.146201</td>\n",
       "      <td>-0.542035</td>\n",
       "      <td>-0.847563</td>\n",
       "      <td>-0.323443</td>\n",
       "      <td>0.125114</td>\n",
       "      <td>-0.069297</td>\n",
       "      <td>0.773295</td>\n",
       "      <td>-0.349527</td>\n",
       "      <td>-1.640714</td>\n",
       "      <td>1.217563</td>\n",
       "      <td>-0.628305</td>\n",
       "      <td>-0.508592</td>\n",
       "      <td>1.371604</td>\n",
       "      <td>1</td>\n",
       "    </tr>\n",
       "    <tr>\n",
       "      <th>3</th>\n",
       "      <td>0.861159</td>\n",
       "      <td>-1.061269</td>\n",
       "      <td>-0.475369</td>\n",
       "      <td>-0.640718</td>\n",
       "      <td>-2.446075</td>\n",
       "      <td>-0.630583</td>\n",
       "      <td>-0.847563</td>\n",
       "      <td>-0.323443</td>\n",
       "      <td>2.207329</td>\n",
       "      <td>-0.671151</td>\n",
       "      <td>-0.589591</td>\n",
       "      <td>-0.866189</td>\n",
       "      <td>-0.513838</td>\n",
       "      <td>-1.002455</td>\n",
       "      <td>0.323244</td>\n",
       "      <td>-0.711290</td>\n",
       "      <td>0.286323</td>\n",
       "      <td>1</td>\n",
       "    </tr>\n",
       "    <tr>\n",
       "      <th>4</th>\n",
       "      <td>-0.743782</td>\n",
       "      <td>-0.787331</td>\n",
       "      <td>-0.922936</td>\n",
       "      <td>-0.640718</td>\n",
       "      <td>-0.146201</td>\n",
       "      <td>-0.684129</td>\n",
       "      <td>-0.847563</td>\n",
       "      <td>-0.323443</td>\n",
       "      <td>0.311921</td>\n",
       "      <td>0.331940</td>\n",
       "      <td>0.091852</td>\n",
       "      <td>-0.672440</td>\n",
       "      <td>-0.434160</td>\n",
       "      <td>1.105985</td>\n",
       "      <td>-0.628687</td>\n",
       "      <td>-0.809017</td>\n",
       "      <td>-0.437197</td>\n",
       "      <td>1</td>\n",
       "    </tr>\n",
       "  </tbody>\n",
       "</table>\n",
       "</div>"
      ],
      "text/plain": [
       "   funded_amnt  emp_length  annual_inc  home_ownership     grade  \\\n",
       "0    -1.417797    1.130234   -0.344829        0.890293 -0.146201   \n",
       "1    -0.783074    1.130234   -0.702882       -0.640718  0.620423   \n",
       "2     1.151318    0.582358   -0.065100       -0.640718 -0.146201   \n",
       "3     0.861159   -1.061269   -0.475369       -0.640718 -2.446075   \n",
       "4    -0.743782   -0.787331   -0.922936       -0.640718 -0.146201   \n",
       "\n",
       "   last_pymnt_amnt  mort_acc   pub_rec  int_rate  open_acc  num_actv_rev_tl  \\\n",
       "0        -0.439487  0.079569 -0.323443  0.423550 -0.269915        -0.248869   \n",
       "1        -0.687461 -0.847563  1.568027 -0.216606 -0.470533        -0.589591   \n",
       "2        -0.542035 -0.847563 -0.323443  0.125114 -0.069297         0.773295   \n",
       "3        -0.630583 -0.847563 -0.323443  2.207329 -0.671151        -0.589591   \n",
       "4        -0.684129 -0.847563 -0.323443  0.311921  0.331940         0.091852   \n",
       "\n",
       "   mo_sin_rcnt_rev_tl_op  mo_sin_old_rev_tl_op   bc_util  bc_open_to_buy  \\\n",
       "0               0.037970             -0.934993  1.086747       -0.635018   \n",
       "1              -0.543275              0.886220  0.244141       -0.385269   \n",
       "2              -0.349527             -1.640714  1.217563       -0.628305   \n",
       "3              -0.866189             -0.513838 -1.002455        0.323244   \n",
       "4              -0.672440             -0.434160  1.105985       -0.628687   \n",
       "\n",
       "   avg_cur_bal  acc_open_past_24mths  loan_status  \n",
       "0     0.407560              0.286323            0  \n",
       "1    -0.753741             -0.798958            1  \n",
       "2    -0.508592              1.371604            1  \n",
       "3    -0.711290              0.286323            1  \n",
       "4    -0.809017             -0.437197            1  "
      ]
     },
     "execution_count": 162,
     "metadata": {},
     "output_type": "execute_result"
    }
   ],
   "source": [
    "print(\"Current shape of dataset :\",data_clean.shape)\n",
    "data_clean.head()\n"
   ]
  },
  {
   "cell_type": "code",
   "execution_count": 163,
   "metadata": {},
   "outputs": [
    {
     "data": {
      "text/plain": [
       "1    5500\n",
       "0    5500\n",
       "Name: loan_status, dtype: int64"
      ]
     },
     "execution_count": 163,
     "metadata": {},
     "output_type": "execute_result"
    }
   ],
   "source": [
    "data_clean['loan_status'].value_counts()"
   ]
  },
  {
   "cell_type": "code",
   "execution_count": 171,
   "metadata": {},
   "outputs": [],
   "source": [
    "from sklearn.model_selection import train_test_split\n",
    "X_train, X_test, y_train, y_test = train_test_split(data_clean.iloc[:,:-1], data_clean.iloc[:,-1], test_size=0.2, random_state=42)"
   ]
  },
  {
   "cell_type": "code",
   "execution_count": 172,
   "metadata": {},
   "outputs": [
    {
     "data": {
      "text/plain": [
       "((8800, 17), (2200, 17), (8800,), (2200,))"
      ]
     },
     "execution_count": 172,
     "metadata": {},
     "output_type": "execute_result"
    }
   ],
   "source": [
    "X_train.shape, X_test.shape, y_train.shape, y_test.shape"
   ]
  },
  {
   "cell_type": "markdown",
   "metadata": {},
   "source": [
    "## RFE (特徵篩選)"
   ]
  },
  {
   "cell_type": "code",
   "execution_count": 173,
   "metadata": {},
   "outputs": [
    {
     "data": {
      "text/plain": [
       "LogisticRegression(C=1e+30, class_weight=None, dual=False, fit_intercept=True,\n",
       "          intercept_scaling=1, max_iter=100, multi_class='ovr', n_jobs=1,\n",
       "          penalty='l2', random_state=None, solver='liblinear', tol=0.0001,\n",
       "          verbose=0, warm_start=False)"
      ]
     },
     "execution_count": 173,
     "metadata": {},
     "output_type": "execute_result"
    }
   ],
   "source": [
    "from sklearn import linear_model,svm\n",
    "from sklearn.feature_selection import RFE\n",
    "# create the RFE model and select 3 attributes\n",
    "clf_LR = linear_model.LogisticRegression(C=1e30)\n",
    "clf_LR.fit(X_train,y_train)"
   ]
  },
  {
   "cell_type": "code",
   "execution_count": 167,
   "metadata": {},
   "outputs": [],
   "source": [
    "?RFE"
   ]
  },
  {
   "cell_type": "code",
   "execution_count": 175,
   "metadata": {},
   "outputs": [],
   "source": [
    "rfe = RFE(clf_LR, 10)\n",
    "rfe = rfe.fit(data_clean.iloc[:,:-1].values,\n",
    "              data_clean.iloc[:,-1].values)"
   ]
  },
  {
   "cell_type": "code",
   "execution_count": 176,
   "metadata": {},
   "outputs": [
    {
     "name": "stdout",
     "output_type": "stream",
     "text": [
      "[ True False  True False  True  True  True False  True False False False\n",
      "  True False  True  True  True]\n",
      "[1 4 1 6 1 1 1 3 1 8 5 7 1 2 1 1 1]\n"
     ]
    }
   ],
   "source": [
    "# summarize the selection of the attributes\n",
    "print(rfe.support_)\n",
    "print(rfe.ranking_)"
   ]
  },
  {
   "cell_type": "markdown",
   "metadata": {},
   "source": [
    "## RFECV  (特徵篩選)"
   ]
  },
  {
   "cell_type": "code",
   "execution_count": 177,
   "metadata": {},
   "outputs": [],
   "source": [
    "from sklearn.feature_selection import RFECV\n",
    "rfe2 = RFECV(clf_LR)\n",
    "rfe2 = rfe2.fit(data_clean.iloc[:,:-1].values,\n",
    "              data_clean.iloc[:,-1].values)"
   ]
  },
  {
   "cell_type": "code",
   "execution_count": 179,
   "metadata": {},
   "outputs": [
    {
     "data": {
      "text/plain": [
       "array([ True, False,  True, False,  True,  True, False, False,  True,\n",
       "       False, False, False, False, False, False, False,  True])"
      ]
     },
     "execution_count": 179,
     "metadata": {},
     "output_type": "execute_result"
    }
   ],
   "source": [
    "rfe2.support_"
   ]
  },
  {
   "cell_type": "code",
   "execution_count": 180,
   "metadata": {},
   "outputs": [
    {
     "data": {
      "text/plain": [
       "array([ 1,  8,  1, 10,  1,  1,  4,  7,  1, 12,  9, 11,  5,  6,  3,  2,  1])"
      ]
     },
     "execution_count": 180,
     "metadata": {},
     "output_type": "execute_result"
    }
   ],
   "source": [
    "rfe2.ranking_"
   ]
  },
  {
   "cell_type": "markdown",
   "metadata": {},
   "source": [
    "## PCA (特徵萃取)"
   ]
  },
  {
   "cell_type": "code",
   "execution_count": 186,
   "metadata": {},
   "outputs": [
    {
     "name": "stdout",
     "output_type": "stream",
     "text": [
      "Expected Variance is [0.16262568 0.15404344 0.12686196 0.07309442 0.07115038 0.06516573\n",
      " 0.05717912 0.04884113 0.04435844 0.03985688]\n"
     ]
    }
   ],
   "source": [
    "from sklearn.decomposition import PCA \n",
    "pca = PCA(n_components=10, whiten=True)\n",
    "X_train_pca = pca.fit_transform(X_train)\n",
    "X_test_pca = pca.transform(X_test)\n",
    "explained_variance = pca.explained_variance_ratio_\n",
    "print('Expected Variance is '+ str(explained_variance))\n"
   ]
  },
  {
   "cell_type": "code",
   "execution_count": 191,
   "metadata": {},
   "outputs": [
    {
     "data": {
      "text/plain": [
       "<BarContainer object of 10 artists>"
      ]
     },
     "execution_count": 191,
     "metadata": {},
     "output_type": "execute_result"
    },
    {
     "data": {
      "image/png": "[encoded data removed]",
      "text/plain": [
       "<Figure size 432x288 with 1 Axes>"
      ]
     },
     "metadata": {},
     "output_type": "display_data"
    }
   ],
   "source": [
    "plt.bar(x= range(10), height=pca.explained_variance_ratio_)"
   ]
  },
  {
   "cell_type": "markdown",
   "metadata": {},
   "source": [
    "## 資料篩選"
   ]
  },
  {
   "cell_type": "code",
   "execution_count": 192,
   "metadata": {},
   "outputs": [
    {
     "data": {
      "text/plain": [
       "Index(['funded_amnt', 'annual_inc', 'grade', 'last_pymnt_amnt', 'mort_acc',\n",
       "       'int_rate', 'mo_sin_old_rev_tl_op', 'bc_open_to_buy', 'avg_cur_bal',\n",
       "       'acc_open_past_24mths'],\n",
       "      dtype='object')"
      ]
     },
     "execution_count": 192,
     "metadata": {},
     "output_type": "execute_result"
    }
   ],
   "source": [
    "X_train.columns[rfe.support_]"
   ]
  },
  {
   "cell_type": "code",
   "execution_count": 185,
   "metadata": {},
   "outputs": [
    {
     "data": {
      "text/html": [
       "<div>\n",
       "<style scoped>\n",
       "    .dataframe tbody tr th:only-of-type {\n",
       "        vertical-align: middle;\n",
       "    }\n",
       "\n",
       "    .dataframe tbody tr th {\n",
       "        vertical-align: top;\n",
       "    }\n",
       "\n",
       "    .dataframe thead th {\n",
       "        text-align: right;\n",
       "    }\n",
       "</style>\n",
       "<table border=\"1\" class=\"dataframe\">\n",
       "  <thead>\n",
       "    <tr style=\"text-align: right;\">\n",
       "      <th></th>\n",
       "      <th>funded_amnt</th>\n",
       "      <th>annual_inc</th>\n",
       "      <th>grade</th>\n",
       "      <th>last_pymnt_amnt</th>\n",
       "      <th>mort_acc</th>\n",
       "      <th>int_rate</th>\n",
       "      <th>mo_sin_old_rev_tl_op</th>\n",
       "      <th>bc_open_to_buy</th>\n",
       "      <th>avg_cur_bal</th>\n",
       "      <th>acc_open_past_24mths</th>\n",
       "    </tr>\n",
       "  </thead>\n",
       "  <tbody>\n",
       "    <tr>\n",
       "      <th>10735</th>\n",
       "      <td>0.425921</td>\n",
       "      <td>0.345169</td>\n",
       "      <td>-1.679450</td>\n",
       "      <td>-0.652814</td>\n",
       "      <td>-0.847563</td>\n",
       "      <td>1.494273</td>\n",
       "      <td>0.000000</td>\n",
       "      <td>-0.507169</td>\n",
       "      <td>1.166424e-16</td>\n",
       "      <td>-0.075437</td>\n",
       "    </tr>\n",
       "    <tr>\n",
       "      <th>5937</th>\n",
       "      <td>-0.783074</td>\n",
       "      <td>-0.717801</td>\n",
       "      <td>-0.912826</td>\n",
       "      <td>-0.634980</td>\n",
       "      <td>-0.847563</td>\n",
       "      <td>0.824501</td>\n",
       "      <td>-1.174028</td>\n",
       "      <td>-0.589783</td>\n",
       "      <td>-7.454047e-01</td>\n",
       "      <td>-1.160718</td>\n",
       "    </tr>\n",
       "    <tr>\n",
       "      <th>7642</th>\n",
       "      <td>-1.266672</td>\n",
       "      <td>-0.624558</td>\n",
       "      <td>-0.146201</td>\n",
       "      <td>-0.708699</td>\n",
       "      <td>-0.847563</td>\n",
       "      <td>0.380265</td>\n",
       "      <td>-1.845600</td>\n",
       "      <td>-0.457203</td>\n",
       "      <td>-7.457895e-01</td>\n",
       "      <td>0.648083</td>\n",
       "    </tr>\n",
       "    <tr>\n",
       "      <th>3328</th>\n",
       "      <td>-0.299476</td>\n",
       "      <td>-0.065100</td>\n",
       "      <td>-0.146201</td>\n",
       "      <td>-0.686894</td>\n",
       "      <td>0.079569</td>\n",
       "      <td>-0.216606</td>\n",
       "      <td>1.432584</td>\n",
       "      <td>0.896889</td>\n",
       "      <td>-7.985642e-01</td>\n",
       "      <td>0.286323</td>\n",
       "    </tr>\n",
       "    <tr>\n",
       "      <th>8681</th>\n",
       "      <td>0.667720</td>\n",
       "      <td>0.214628</td>\n",
       "      <td>-0.146201</td>\n",
       "      <td>-0.620674</td>\n",
       "      <td>-0.383997</td>\n",
       "      <td>-0.134593</td>\n",
       "      <td>-0.092682</td>\n",
       "      <td>-0.620143</td>\n",
       "      <td>5.611387e-01</td>\n",
       "      <td>0.286323</td>\n",
       "    </tr>\n",
       "  </tbody>\n",
       "</table>\n",
       "</div>"
      ],
      "text/plain": [
       "       funded_amnt  annual_inc     grade  last_pymnt_amnt  mort_acc  int_rate  \\\n",
       "10735     0.425921    0.345169 -1.679450        -0.652814 -0.847563  1.494273   \n",
       "5937     -0.783074   -0.717801 -0.912826        -0.634980 -0.847563  0.824501   \n",
       "7642     -1.266672   -0.624558 -0.146201        -0.708699 -0.847563  0.380265   \n",
       "3328     -0.299476   -0.065100 -0.146201        -0.686894  0.079569 -0.216606   \n",
       "8681      0.667720    0.214628 -0.146201        -0.620674 -0.383997 -0.134593   \n",
       "\n",
       "       mo_sin_old_rev_tl_op  bc_open_to_buy   avg_cur_bal  \\\n",
       "10735              0.000000       -0.507169  1.166424e-16   \n",
       "5937              -1.174028       -0.589783 -7.454047e-01   \n",
       "7642              -1.845600       -0.457203 -7.457895e-01   \n",
       "3328               1.432584        0.896889 -7.985642e-01   \n",
       "8681              -0.092682       -0.620143  5.611387e-01   \n",
       "\n",
       "       acc_open_past_24mths  \n",
       "10735             -0.075437  \n",
       "5937              -1.160718  \n",
       "7642               0.648083  \n",
       "3328               0.286323  \n",
       "8681               0.286323  "
      ]
     },
     "execution_count": 185,
     "metadata": {},
     "output_type": "execute_result"
    }
   ],
   "source": [
    "X_train[X_train.columns[rfe.support_]].head()"
   ]
  },
  {
   "cell_type": "code",
   "execution_count": 193,
   "metadata": {},
   "outputs": [],
   "source": [
    "X_train = X_train[X_train.columns[rfe.support_]]"
   ]
  },
  {
   "cell_type": "code",
   "execution_count": 194,
   "metadata": {},
   "outputs": [],
   "source": [
    "X_test = X_test[X_test.columns[rfe.support_]]"
   ]
  },
  {
   "cell_type": "code",
   "execution_count": 195,
   "metadata": {},
   "outputs": [
    {
     "data": {
      "text/plain": [
       "((8800, 10), (2200, 10))"
      ]
     },
     "execution_count": 195,
     "metadata": {},
     "output_type": "execute_result"
    }
   ],
   "source": [
    "X_train.shape, X_test.shape"
   ]
  },
  {
   "cell_type": "code",
   "execution_count": 199,
   "metadata": {},
   "outputs": [],
   "source": [
    "data_clean = data_clean[['funded_amnt', 'annual_inc', 'grade', 'last_pymnt_amnt', 'mort_acc',\n",
    "       'int_rate', 'mo_sin_old_rev_tl_op', 'bc_open_to_buy', 'avg_cur_bal',\n",
    "       'acc_open_past_24mths', 'loan_status']]"
   ]
  },
  {
   "cell_type": "code",
   "execution_count": 200,
   "metadata": {},
   "outputs": [
    {
     "data": {
      "text/plain": [
       "(11000, 11)"
      ]
     },
     "execution_count": 200,
     "metadata": {},
     "output_type": "execute_result"
    }
   ],
   "source": [
    "data_clean.shape"
   ]
  },
  {
   "cell_type": "markdown",
   "metadata": {},
   "source": [
    "## Grid Search"
   ]
  },
  {
   "cell_type": "code",
   "execution_count": 201,
   "metadata": {},
   "outputs": [],
   "source": [
    "from sklearn.model_selection import GridSearchCV\n",
    "\n",
    "def cross_validation_best_parameters(model, param_grid):\n",
    "    grid = GridSearchCV(model, param_grid,cv=10, scoring='accuracy')\n",
    "    X=data_clean.iloc[:,:-1].values\n",
    "    y=data_clean.iloc[:,-1].values\n",
    "    grid.fit(X,y)\n",
    "    mean_scores = [result.mean_validation_score for result in grid.grid_scores_]\n",
    "    return mean_scores,grid.best_score_,grid.best_estimator_\n"
   ]
  },
  {
   "cell_type": "code",
   "execution_count": 202,
   "metadata": {},
   "outputs": [
    {
     "name": "stdout",
     "output_type": "stream",
     "text": [
      "Best accuracy is 0.8252727272727273\n",
      "LogisticRegression(C=100, class_weight=None, dual=False, fit_intercept=True,\n",
      "          intercept_scaling=1, max_iter=100, multi_class='ovr', n_jobs=1,\n",
      "          penalty='l2', random_state=0, solver='liblinear', tol=0.0001,\n",
      "          verbose=0, warm_start=False)\n"
     ]
    },
    {
     "name": "stderr",
     "output_type": "stream",
     "text": [
      "/Users/davidchiu/.pyenv/versions/3.6.2/lib/python3.6/site-packages/sklearn/model_selection/_search.py:761: DeprecationWarning:\n",
      "\n",
      "The grid_scores_ attribute was deprecated in version 0.18 in favor of the more elaborate cv_results_ attribute. The grid_scores_ attribute will not be available from 0.20\n",
      "\n"
     ]
    }
   ],
   "source": [
    "logreg = linear_model.LogisticRegression(random_state=0)\n",
    "c=[0.001, 0.01, 0.1, 1, 10, 100, 1000]\n",
    "param_grid = dict(C=c)\n",
    "mean_scores,Best_Accuracy, Best_classifier = cross_validation_best_parameters(logreg,param_grid)\n",
    "print(\"Best accuracy is \"+ str(Best_Accuracy))\n",
    "print(Best_classifier)\n",
    "\n"
   ]
  },
  {
   "cell_type": "code",
   "execution_count": 203,
   "metadata": {},
   "outputs": [
    {
     "data": {
      "text/plain": [
       "[0.7724545454545455,\n",
       " 0.8029090909090909,\n",
       " 0.8169090909090909,\n",
       " 0.8237272727272728,\n",
       " 0.8251818181818181,\n",
       " 0.8252727272727273,\n",
       " 0.8252727272727273]"
      ]
     },
     "execution_count": 203,
     "metadata": {},
     "output_type": "execute_result"
    }
   ],
   "source": [
    "mean_scores"
   ]
  },
  {
   "cell_type": "code",
   "execution_count": 204,
   "metadata": {},
   "outputs": [
    {
     "data": {
      "text/plain": [
       "LogisticRegression(C=100, class_weight=None, dual=False, fit_intercept=True,\n",
       "          intercept_scaling=1, max_iter=100, multi_class='ovr', n_jobs=1,\n",
       "          penalty='l2', random_state=0, solver='liblinear', tol=0.0001,\n",
       "          verbose=0, warm_start=False)"
      ]
     },
     "execution_count": 204,
     "metadata": {},
     "output_type": "execute_result"
    }
   ],
   "source": [
    "Best_classifier"
   ]
  },
  {
   "cell_type": "code",
   "execution_count": 205,
   "metadata": {},
   "outputs": [
    {
     "data": {
      "text/plain": [
       "100"
      ]
     },
     "execution_count": 205,
     "metadata": {},
     "output_type": "execute_result"
    }
   ],
   "source": [
    "Best_classifier.C"
   ]
  },
  {
   "cell_type": "code",
   "execution_count": 206,
   "metadata": {},
   "outputs": [
    {
     "data": {
      "text/plain": [
       "LogisticRegression(C=100, class_weight=None, dual=False, fit_intercept=True,\n",
       "          intercept_scaling=1, max_iter=100, multi_class='ovr', n_jobs=1,\n",
       "          penalty='l2', random_state=None, solver='liblinear', tol=0.0001,\n",
       "          verbose=0, warm_start=False)"
      ]
     },
     "execution_count": 206,
     "metadata": {},
     "output_type": "execute_result"
    }
   ],
   "source": [
    "clf_LR = linear_model.LogisticRegression(C=Best_classifier.C)\n",
    "clf_LR.fit(X_train,y_train)\n"
   ]
  },
  {
   "cell_type": "code",
   "execution_count": 210,
   "metadata": {},
   "outputs": [
    {
     "data": {
      "text/plain": [
       "0.8322727272727273"
      ]
     },
     "execution_count": 210,
     "metadata": {},
     "output_type": "execute_result"
    }
   ],
   "source": [
    "from sklearn.metrics import accuracy_score\n",
    "LR_Predict = clf_LR.predict_proba(X_test)[:,1]\n",
    "LR_Accuracy = accuracy_score(y_test,LR_Predict.round())\n",
    "LR_Accuracy"
   ]
  },
  {
   "cell_type": "code",
   "execution_count": 211,
   "metadata": {},
   "outputs": [
    {
     "data": {
      "text/plain": [
       "array([[ 808,  289],\n",
       "       [  80, 1023]])"
      ]
     },
     "execution_count": 211,
     "metadata": {},
     "output_type": "execute_result"
    }
   ],
   "source": [
    "from sklearn.metrics import confusion_matrix\n",
    "confusion_matrix(y_test, LR_Predict.round())"
   ]
  },
  {
   "cell_type": "code",
   "execution_count": 212,
   "metadata": {},
   "outputs": [
    {
     "data": {
      "text/plain": [
       "array([9.42308336e-01, 4.79744016e-01, 7.91902481e-01, ...,\n",
       "       8.10901891e-01, 6.93378514e-01, 4.70539699e-05])"
      ]
     },
     "execution_count": 212,
     "metadata": {},
     "output_type": "execute_result"
    }
   ],
   "source": [
    "LR_Predict"
   ]
  },
  {
   "cell_type": "code",
   "execution_count": 213,
   "metadata": {},
   "outputs": [
    {
     "data": {
      "text/plain": [
       "array([1., 0., 1., ..., 1., 1., 0.])"
      ]
     },
     "execution_count": 213,
     "metadata": {},
     "output_type": "execute_result"
    }
   ],
   "source": [
    "LR_Predict.round()"
   ]
  },
  {
   "cell_type": "markdown",
   "metadata": {},
   "source": [
    "## ROC Curve"
   ]
  },
  {
   "cell_type": "code",
   "execution_count": 216,
   "metadata": {},
   "outputs": [],
   "source": [
    "import seaborn as sns\n",
    "sns.set('talk', 'whitegrid', 'dark', font_scale=1, rc={\"lines.linewidth\": 2, 'grid.linestyle': '--'})\n",
    "\n",
    "def plotAUC(truth, pred, lab):\n",
    "    fpr, tpr, _ = metrics.roc_curve(truth,pred)\n",
    "    roc_auc = metrics.auc(fpr, tpr)\n",
    "    lw = 2\n",
    "    c = (np.random.rand(), np.random.rand(), np.random.rand())\n",
    "    plt.plot(fpr, tpr, color= c,lw=lw, label= lab +'(AUC = %0.2f)' % roc_auc)\n",
    "    plt.plot([0, 1], [0, 1], color='navy', lw=lw, linestyle='--')\n",
    "    plt.xlim([0.0, 1.0])\n",
    "    plt.ylim([0.0, 1.0])\n",
    "    plt.xlabel('False Positive Rate')\n",
    "    plt.ylabel('True Positive Rate')\n",
    "    plt.title('ROC curve') #Receiver Operating Characteristic \n",
    "    plt.legend(loc=\"lower right\")\n"
   ]
  },
  {
   "cell_type": "code",
   "execution_count": 217,
   "metadata": {},
   "outputs": [
    {
     "data": {
      "image/png": "[encoded data removed]",
      "text/plain": [
       "<Figure size 432x288 with 1 Axes>"
      ]
     },
     "metadata": {},
     "output_type": "display_data"
    }
   ],
   "source": [
    "plotAUC(y_test,LR_Predict,'Logistic Regression')\n",
    "plt.show()\n",
    "\n"
   ]
  },
  {
   "cell_type": "code",
   "execution_count": null,
   "metadata": {},
   "outputs": [],
   "source": []
  }
 ],
 "metadata": {
  "kernelspec": {
   "display_name": "Python 3",
   "language": "python",
   "name": "python3"
  },
  "language_info": {
   "codemirror_mode": {
    "name": "ipython",
    "version": 3
   },
   "file_extension": ".py",
   "mimetype": "text/x-python",
   "name": "python",
   "nbconvert_exporter": "python",
   "pygments_lexer": "ipython3",
   "version": "3.6.2"
  }
 },
 "nbformat": 4,
 "nbformat_minor": 2
}
