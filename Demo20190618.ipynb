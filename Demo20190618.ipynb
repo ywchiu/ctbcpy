{
 "cells": [
  {
   "cell_type": "code",
   "execution_count": 11,
   "metadata": {},
   "outputs": [],
   "source": [
    "import pandas\n",
    "df2 = pandas.read_csv('results.csv', sep ='\\t')"
   ]
  },
  {
   "cell_type": "code",
   "execution_count": 15,
   "metadata": {},
   "outputs": [],
   "source": [
    "import jieba\n",
    "corpus = []\n",
    "titles = []\n",
    "for ele in df2['message'].tolist():\n",
    "    if not pandas.isnull(ele):\n",
    "        titles.append(ele)\n",
    "        corpus.append(' '.join(jieba.cut(ele) ))"
   ]
  },
  {
   "cell_type": "code",
   "execution_count": 16,
   "metadata": {},
   "outputs": [],
   "source": [
    "from sklearn.feature_extraction.text import CountVectorizer\n",
    "v = CountVectorizer()\n",
    "X = v.fit_transform(corpus)"
   ]
  },
  {
   "cell_type": "code",
   "execution_count": 18,
   "metadata": {},
   "outputs": [],
   "source": [
    "from sklearn.metrics.pairwise import cosine_distances\n",
    "cs = cosine_distances(X)"
   ]
  },
  {
   "cell_type": "code",
   "execution_count": 32,
   "metadata": {},
   "outputs": [],
   "source": [
    "import networkx as nx\n",
    "m = (cs < 0.3).astype(int)\n",
    "G = nx.from_numpy_matrix(m)"
   ]
  },
  {
   "cell_type": "code",
   "execution_count": 33,
   "metadata": {},
   "outputs": [],
   "source": [
    "import community\n",
    "comm = community.best_partition(G)"
   ]
  },
  {
   "cell_type": "code",
   "execution_count": 34,
   "metadata": {},
   "outputs": [],
   "source": [
    "import numpy as np\n",
    "cluster_ary = np.array(list(comm.values()) )"
   ]
  },
  {
   "cell_type": "code",
   "execution_count": 35,
   "metadata": {},
   "outputs": [],
   "source": [
    "\n",
    "titles_ary = np.array(titles)"
   ]
  },
  {
   "cell_type": "code",
   "execution_count": 36,
   "metadata": {},
   "outputs": [
    {
     "data": {
      "text/plain": [
       "[(2, 247),\n",
       " (71, 74),\n",
       " (98, 71),\n",
       " (20, 66),\n",
       " (198, 62),\n",
       " (15, 58),\n",
       " (220, 55),\n",
       " (10, 54),\n",
       " (105, 51),\n",
       " (21, 45)]"
      ]
     },
     "execution_count": 36,
     "metadata": {},
     "output_type": "execute_result"
    }
   ],
   "source": [
    "from collections import Counter\n",
    "c  = Counter(list(comm.values()))\n",
    "c.most_common(10)"
   ]
  },
  {
   "cell_type": "code",
   "execution_count": 37,
   "metadata": {},
   "outputs": [
    {
     "name": "stdout",
     "output_type": "stream",
     "text": [
      "雲林縣公費接種院所\n",
      "該接種幾劑？\n",
      "能公費接種嗎？\n",
      "公費\n",
      "能公費接種嗎？\n",
      "能公費接種嗎？\n",
      "能公費接種嗎？\n",
      "該接種幾劑？\n",
      "該接種幾劑？\n",
      "能公費接種嗎？\n",
      "我可以接種公費疫苗嗎\n",
      "能公費接種嗎？\n",
      "能公費接種嗎？\n",
      "去年接種了，今年還要接種嗎？\n",
      "請問幾歲可以施打公費疫苗\n",
      "可以打公費疫苗嗎\n",
      "誰可以用公費打\n",
      "能公費接種嗎?\n",
      "公費\n",
      "能公費接種嗎?\n",
      "能公費接種嗎？\n",
      "我可以公費嗎？\n",
      "我可以公費接種嗎\n",
      "有擴大接種對象嗎？\n",
      "自費跟公費的差異\n",
      "公費\n",
      "已接種完畢\n",
      "有擴大接種對象嗎？\n",
      "有擴大接種對象嗎？\n",
      "能公費接種嗎\n",
      "能公費接種流感疫苗嗎？\n",
      "該接種幾劑？\n",
      "該接種幾劑？\n",
      "能公費接種嗎?\n",
      "能公費接種嗎？\n",
      "該接種幾劑？\n",
      "該接種幾劑？\n",
      "該接種幾劑？\n",
      "我適合接種嗎？\n",
      "我可以接種公費疫苗嗎\n",
      "我可以接種公費疫苗嗎？\n",
      "我能公費接種嗎？\n",
      "能公費接種嗎\n",
      "接種\n",
      "接種\n",
      "可不可以公費接種\n",
      "有擴大接種對象嗎？\n",
      "有公費接種嗎\n",
      "該接種幾劑？\n",
      "能公費接種嗎\n",
      "我28歲 有公費疫苗可以打嗎\n",
      "能公費接種嗎?\n",
      "對象\n",
      "接種對象\n",
      "接種地點\n",
      "能公費接種嗎\n",
      "接種要帶證件\n",
      "能公費接種嗎?\n",
      "能公費接種嗎?\n",
      "該接種幾劑？\n",
      "接種要帶證件\n",
      "能公費接種嗎?\n",
      "接種完暈針\n",
      "公費接種去哪裡\n",
      "公費接種的限制\n",
      "能公費接種嗎？\n",
      "能公費接種嗎？\n",
      "可先打公費再打自費嗎？\n",
      "該接種幾劑？\n",
      "該接種幾劑？\n",
      "該接種幾劑？\n",
      "該接種幾劑？\n",
      "該接種幾劑？\n",
      "我能公費接種嗎？\n"
     ]
    }
   ],
   "source": [
    "for rec in titles_ary[cluster_ary == 71]:\n",
    "    print(rec)"
   ]
  },
  {
   "cell_type": "code",
   "execution_count": null,
   "metadata": {},
   "outputs": [],
   "source": []
  }
 ],
 "metadata": {
  "kernelspec": {
   "display_name": "Python 3",
   "language": "python",
   "name": "python3"
  },
  "language_info": {
   "codemirror_mode": {
    "name": "ipython",
    "version": 3
   },
   "file_extension": ".py",
   "mimetype": "text/x-python",
   "name": "python",
   "nbconvert_exporter": "python",
   "pygments_lexer": "ipython3",
   "version": "3.6.2"
  }
 },
 "nbformat": 4,
 "nbformat_minor": 2
}
