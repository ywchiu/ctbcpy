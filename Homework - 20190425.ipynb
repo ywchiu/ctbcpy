{
 "cells": [
  {
   "cell_type": "markdown",
   "metadata": {},
   "source": [
    "## 資料清理作業"
   ]
  },
  {
   "cell_type": "markdown",
   "metadata": {},
   "source": [
    "我們嘗試使用課堂上所教學到的方法開始清理以下資料集\n",
    "\n",
    "資料集連結：\n",
    "\n",
    "- https://raw.githubusercontent.com/ywchiu/ctbcpy/master/data/cs-training.csv.zip"
   ]
  },
  {
   "cell_type": "markdown",
   "metadata": {},
   "source": [
    "### 問題一\n",
    "- 請使用Pandas 的 read_csv 方法載入資料集 (提示：read_csv)"
   ]
  },
  {
   "cell_type": "code",
   "execution_count": null,
   "metadata": {},
   "outputs": [],
   "source": []
  },
  {
   "cell_type": "markdown",
   "metadata": {},
   "source": [
    "### 問題二\n",
    "- 請列出各欄位分別是什麼資料型態 (提示：info)?"
   ]
  },
  {
   "cell_type": "code",
   "execution_count": null,
   "metadata": {},
   "outputs": [],
   "source": []
  },
  {
   "cell_type": "markdown",
   "metadata": {},
   "source": [
    "### 問題三\n",
    "\n",
    "請列出所有資料的敘述性統計(提示：describe)?"
   ]
  },
  {
   "cell_type": "code",
   "execution_count": null,
   "metadata": {},
   "outputs": [],
   "source": []
  },
  {
   "cell_type": "markdown",
   "metadata": {},
   "source": [
    "### 問題四\n",
    "- 請列出該資料有哪些欄位(提示：columns)?"
   ]
  },
  {
   "cell_type": "code",
   "execution_count": null,
   "metadata": {},
   "outputs": [],
   "source": []
  },
  {
   "cell_type": "markdown",
   "metadata": {},
   "source": [
    "### 問題五\n",
    "- 請捨棄NumberOfTime30_59DaysPastDueNotW', 'NumberOfTime60_89DaysPastDueNotW','NumberOfTimes90DaysLate'等三個欄位(提示：drop)"
   ]
  },
  {
   "cell_type": "code",
   "execution_count": null,
   "metadata": {},
   "outputs": [],
   "source": []
  },
  {
   "cell_type": "markdown",
   "metadata": {},
   "source": [
    "### 問題六\n",
    "- 請找出有哪幾個欄位有包含遺失值(提示：isnull)"
   ]
  },
  {
   "cell_type": "code",
   "execution_count": null,
   "metadata": {},
   "outputs": [],
   "source": []
  },
  {
   "cell_type": "markdown",
   "metadata": {},
   "source": [
    "### 問題七\n",
    "- 請計算出MonthlyIncome欄位的遺失比例(提示：isnull)"
   ]
  },
  {
   "cell_type": "code",
   "execution_count": null,
   "metadata": {},
   "outputs": [],
   "source": []
  },
  {
   "cell_type": "markdown",
   "metadata": {},
   "source": [
    "### 問題八\n",
    "- 請捨棄 MonthlyIncome 為 NaN的值(提示：dropna)"
   ]
  },
  {
   "cell_type": "code",
   "execution_count": null,
   "metadata": {},
   "outputs": [],
   "source": []
  },
  {
   "cell_type": "markdown",
   "metadata": {},
   "source": [
    "### 問題九\n",
    "- 請捨棄 NumberOfDependents 為 NaN的值(提示：dropna)"
   ]
  },
  {
   "cell_type": "code",
   "execution_count": null,
   "metadata": {},
   "outputs": [],
   "source": []
  },
  {
   "cell_type": "markdown",
   "metadata": {},
   "source": [
    "### 問題十\n",
    "- 請將 NumberOfDependents > 5 的值設定為 5\n",
    "- 請將 NumberRealEstateLoansOrLines > 5 的值設定為 5\n",
    "- 請將 MonthlyIncome > 25000 的值設定為 25000\n",
    "\n",
    "- 請將 NumberOfOpenCreditLinesAndLoans > 30 的值設定為 30\n",
    "- 請將 Age > 80 的值設定為 80\n",
    "- 請將 Age < 18 的值設定為 18\n",
    "\n",
    "(提示：loc 或 map)"
   ]
  },
  {
   "cell_type": "code",
   "execution_count": null,
   "metadata": {},
   "outputs": [],
   "source": []
  }
 ],
 "metadata": {
  "kernelspec": {
   "display_name": "Python 3",
   "language": "python",
   "name": "python3"
  },
  "language_info": {
   "codemirror_mode": {
    "name": "ipython",
    "version": 3
   },
   "file_extension": ".py",
   "mimetype": "text/x-python",
   "name": "python",
   "nbconvert_exporter": "python",
   "pygments_lexer": "ipython3",
   "version": "3.6.2"
  }
 },
 "nbformat": 4,
 "nbformat_minor": 2
}
