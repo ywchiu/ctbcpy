{
 "cells": [
  {
   "cell_type": "markdown",
   "metadata": {},
   "source": [
    "# 作業一"
   ]
  },
  {
   "cell_type": "markdown",
   "metadata": {},
   "source": [
    "有一個金融業客戶流失紀錄的資料集\n",
    "\n",
    "https://github.com/ywchiu/ctbcpy/raw/master/data/customer_data.tsv\n",
    "\n",
    "資料是以tab 分隔，包含以下欄位\n",
    "\n",
    "|欄位名稱|中文敘述|\n",
    "|----------|----|\n",
    "|CustomerId|客戶ID|\n",
    "|Surname|姓氏| \n",
    "|CreditScore|信用分數| \n",
    "|Gender|性別| \n",
    "|Age|年紀| \n",
    "|Tenure|年資|\n",
    "|Balance|餘額| \n",
    "|NumOfProducts|購買多少產品| \n",
    "|HasCrCard|是否有信用卡| \n",
    "|IsActiveMember|是否為活耀客戶|\n",
    "|EstimatedSalary|預估薪資| \n",
    "|Exited|是否流失|"
   ]
  },
  {
   "cell_type": "markdown",
   "metadata": {},
   "source": [
    "1. 請試用python 計算在這文檔中有多少客戶(CustomerID)?\n",
    "2. 請算出所有客戶平均信用分數(CreditScore)?\n",
    "3. 請找出客戶姓氏(Surname)為H開頭的客戶擁有信用卡(HasCrCard == 1)的客戶數?\n",
    "4. 請計算客戶流失比例(Exited == 1 對上 客戶總數)?\n",
    "5. 請計算男性與女性(Gender)的平均薪資(Estimated Salary)?"
   ]
  },
  {
   "cell_type": "code",
   "execution_count": null,
   "metadata": {},
   "outputs": [],
   "source": []
  }
 ],
 "metadata": {
  "kernelspec": {
   "display_name": "Python 3",
   "language": "python",
   "name": "python3"
  },
  "language_info": {
   "codemirror_mode": {
    "name": "ipython",
    "version": 3
   },
   "file_extension": ".py",
   "mimetype": "text/x-python",
   "name": "python",
   "nbconvert_exporter": "python",
   "pygments_lexer": "ipython3",
   "version": "3.6.2"
  }
 },
 "nbformat": 4,
 "nbformat_minor": 1
}
