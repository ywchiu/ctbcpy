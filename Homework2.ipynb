{
 "cells": [
  {
   "cell_type": "markdown",
   "metadata": {},
   "source": [
    "## 作業二"
   ]
  },
  {
   "cell_type": "markdown",
   "metadata": {},
   "source": [
    "當銀行收到貸款申請時，必須根據客戶的個人檔案決定是否應該要核准貸款\n",
    "\n",
    "- 如果客戶信用良好，批准貸款\n",
    "- 如果客戶信用較差，不批准貸款\n",
    "\n",
    "透過分析目的，可將低銀行風險、提升潛在獲利"
   ]
  },
  {
   "cell_type": "markdown",
   "metadata": {},
   "source": [
    "現有一資料集 Creditability (https://raw.githubusercontent.com/ywchiu/ctbcpy/master/data/Creditability.csv) \n",
    "\n",
    "包含客戶特徵\n",
    "- • Account Balance(帳戶餘額): 沒有帳號(1), 沒有餘額 (2), 部分存款 (3)\n",
    "- • Payment Status(付款狀況): 有問題 (1), 付清 (2), 於該銀行沒有問題(3)\n",
    "- • Savings/Stock Value (存款): 沒有, 少於 100, 100 ~ 1,000, 高於1,000\n",
    "- • Employment Length(工作長短): 少於 1 年, 1 ~ 4年, 4 ~ 7年, 高於 7 年\n",
    "- • Sex/Marital Status(性別與婚姻): 男生/女生, 單身/離婚/已婚/鰥夫\n",
    "- • No of Credits at this bank(貸款數): 1, >1\n",
    "- • Guarantor(保人): None, Yes\n",
    "- • Concurrent Credits(其他貸款數): 其他銀行或百貨, None\n",
    "- • ForeignWorker (外國工作者)\n",
    "- • Purpose of Credit(貸款目的): New car, Used car, Home Related, Other\n",
    "\n",
    "預測目標\n",
    "- • Creditability (可信客戶): 1/0 "
   ]
  },
  {
   "cell_type": "markdown",
   "metadata": {},
   "source": [
    "請用Python 回答以下問題：\n",
    "\n",
    "1. 使用Pandas 將資料讀取到一名為 df 的 DataFrame 中\n",
    "2. 請使用Pandas 統計男女別的平均 Credit.Amount\n",
    "3. 請將資料分為訓練與測試資料集,其中訓練資料集占80%, 測試資料集占20%\n",
    "4. 請使用Keras 建立人工神經網路模型 (目標 y 為 Creditability)\n",
    "5. 繼第4題,請計算出模型準確度(Accuracy)? \n",
    "6. 繼第5題,請求出混淆矩陣(Confusion Matrix)? \n",
    "7. 請使用隨機森林建立分類模型 (目標 y 為 Creditability, 樹的數量為100)? \n",
    "8. 請繪製隨機森林模型與人工神經網路的 ROC Curve, 並比較兩者的 AUC?"
   ]
  }
 ],
 "metadata": {
  "kernelspec": {
   "display_name": "Python 3",
   "language": "python",
   "name": "python3"
  },
  "language_info": {
   "codemirror_mode": {
    "name": "ipython",
    "version": 3
   },
   "file_extension": ".py",
   "mimetype": "text/x-python",
   "name": "python",
   "nbconvert_exporter": "python",
   "pygments_lexer": "ipython3",
   "version": "3.6.2"
  }
 },
 "nbformat": 4,
 "nbformat_minor": 2
}
